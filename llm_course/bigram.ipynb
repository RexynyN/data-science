{
 "cells": [
  {
   "cell_type": "code",
   "execution_count": 134,
   "metadata": {},
   "outputs": [
    {
     "data": {
      "text/plain": [
       "'cuda'"
      ]
     },
     "execution_count": 134,
     "metadata": {},
     "output_type": "execute_result"
    }
   ],
   "source": [
    "import torch\n",
    "import torch.nn as nn\n",
    "import torch.nn.functional as F\n",
    "\n",
    "device = \"cuda\" if torch.cuda.is_available() else \"cpu\"\n",
    "\n",
    "# =================== Hyperparameters ===================  \n",
    "block_size = 8\n",
    "batch_size = 4\n",
    "max_iters = 200000\n",
    "# eval_interval = 2500\n",
    "learning_rate = 3e-4\n",
    "eval_iters = 1000\n",
    "# ======================================================= \n",
    "\n",
    "device"
   ]
  },
  {
   "cell_type": "code",
   "execution_count": 135,
   "metadata": {},
   "outputs": [
    {
     "name": "stdout",
     "output_type": "stream",
     "text": [
      "['\\n', ' ', '!', '\"', '&', \"'\", '(', ')', '*', ',', '-', '.', '0', '1', '2', '3', '4', '5', '6', '7', '8', '9', ':', ';', '?', 'A', 'B', 'C', 'D', 'E', 'F', 'G', 'H', 'I', 'J', 'K', 'L', 'M', 'N', 'O', 'P', 'Q', 'R', 'S', 'T', 'U', 'V', 'W', 'X', 'Y', 'Z', '[', ']', '_', 'a', 'b', 'c', 'd', 'e', 'f', 'g', 'h', 'i', 'j', 'k', 'l', 'm', 'n', 'o', 'p', 'q', 'r', 's', 't', 'u', 'v', 'w', 'x', 'y', 'z', '\\ufeff']\n"
     ]
    },
    {
     "data": {
      "text/plain": [
       "81"
      ]
     },
     "execution_count": 135,
     "metadata": {},
     "output_type": "execute_result"
    }
   ],
   "source": [
    "with open(\"wizard_of_oz.txt\", \"r\", encoding=\"utf-8\") as f:\n",
    "    text = f.read()\n",
    "\n",
    "chars = sorted(set(text))\n",
    "print(chars)\n",
    "vocab_size = len(chars)\n",
    "vocab_size"
   ]
  },
  {
   "cell_type": "code",
   "execution_count": 136,
   "metadata": {},
   "outputs": [
    {
     "name": "stdout",
     "output_type": "stream",
     "text": [
      "  DOROTHY AND THE WIZARD IN OZ\n",
      "\n",
      "  BY\n",
      "\n",
      "  L. FRANK BAUM\n",
      "\n",
      "  AUTHOR OF THE WIZARD OF OZ, THE LAND OF OZ, OZMA OF OZ, ETC.\n",
      "\n",
      "  ILLUSTRATED BY JOHN R. NEILL\n",
      "\n",
      "  BOOKS OF WONDER WILLIAM MORROW & CO., INC. NEW\n"
     ]
    }
   ],
   "source": [
    "print(text[:200])"
   ]
  },
  {
   "cell_type": "code",
   "execution_count": 137,
   "metadata": {},
   "outputs": [],
   "source": [
    "# Tokenizers \n",
    "string_to_int = { ch:i for i, ch in enumerate(chars)}\n",
    "int_to_string = { i:ch for i, ch in enumerate(chars)}\n",
    "encode = lambda s: [string_to_int[c] for c in s]\n",
    "decode = lambda l: \"\".join([int_to_string[i] for i in l])"
   ]
  },
  {
   "cell_type": "code",
   "execution_count": 138,
   "metadata": {},
   "outputs": [
    {
     "data": {
      "text/plain": [
       "([32, 58, 65, 65, 68, 9, 1, 76, 68, 71, 65, 57, 2], 'Hello, world!')"
      ]
     },
     "execution_count": 138,
     "metadata": {},
     "output_type": "execute_result"
    }
   ],
   "source": [
    "encoded_hello = encode(\"Hello, world!\")\n",
    "decoded_hello = decode(encoded_hello)\n",
    "encoded_hello, decoded_hello"
   ]
  },
  {
   "cell_type": "code",
   "execution_count": 139,
   "metadata": {},
   "outputs": [
    {
     "data": {
      "text/plain": [
       "tensor([80,  1,  1, 28, 39, 42, 39, 44, 32, 49,  1, 25, 38, 28,  1, 44, 32, 29,\n",
       "         1, 47, 33, 50, 25, 42, 28,  1, 33, 38,  1, 39, 50,  0,  0,  1,  1, 26,\n",
       "        49,  0,  0,  1,  1, 36, 11,  1, 30, 42, 25, 38, 35,  1, 26, 25, 45, 37,\n",
       "         0,  0,  1,  1, 25, 45, 44, 32, 39, 42,  1, 39, 30,  1, 44, 32, 29,  1,\n",
       "        47, 33, 50, 25, 42, 28,  1, 39, 30,  1, 39, 50,  9,  1, 44, 32, 29,  1,\n",
       "        36, 25, 38, 28,  1, 39, 30,  1, 39, 50])"
      ]
     },
     "execution_count": 139,
     "metadata": {},
     "output_type": "execute_result"
    }
   ],
   "source": [
    "data = torch.tensor(encode(text), dtype=torch.long)\n",
    "data[:100]"
   ]
  },
  {
   "cell_type": "code",
   "execution_count": 140,
   "metadata": {},
   "outputs": [
    {
     "name": "stdout",
     "output_type": "stream",
     "text": [
      "inputs:\n",
      "tensor([[ 1, 54, 67, 57,  1, 73, 61, 58],\n",
      "        [65, 65, 62, 67, 60,  1, 54, 72],\n",
      "        [67, 60,  1, 68, 67,  1, 73, 68],\n",
      "        [58, 57,  1, 68, 67, 58,  9,  1]], device='cuda:0')\n",
      "targets:\n",
      "tensor([[54, 67, 57,  1, 73, 61, 58, 62],\n",
      "        [65, 62, 67, 60,  1, 54, 72,  1],\n",
      "        [60,  1, 68, 67,  1, 73, 68, 76],\n",
      "        [57,  1, 68, 67, 58,  9,  1, 63]], device='cuda:0')\n"
     ]
    }
   ],
   "source": [
    "# Doing train/test split\n",
    "n = int(0.8 * len(data))\n",
    "train_data = data[:n]\n",
    "val_data = data[n:]\n",
    "\n",
    "\n",
    "def get_batch(split):\n",
    "    data = train_data if split == 'train' else val_data\n",
    "    ix = torch.randint(len(data) - block_size, (batch_size,))\n",
    "    x = torch.stack([data[i:i+block_size] for i in ix])\n",
    "    y = torch.stack([data[i+1:i+block_size+1] for i in ix])\n",
    "    x, y = x.to(device), y.to(device)\n",
    "    return x, y\n",
    "\n",
    "x, y = get_batch('train')\n",
    "print('inputs:')\n",
    "# print(x.shape)\n",
    "print(x)\n",
    "print('targets:')\n",
    "print(y)"
   ]
  },
  {
   "cell_type": "code",
   "execution_count": 141,
   "metadata": {},
   "outputs": [
    {
     "name": "stdout",
     "output_type": "stream",
     "text": [
      "When input is tensor([80]) target is 1\n",
      "When input is tensor([80,  1]) target is 1\n",
      "When input is tensor([80,  1,  1]) target is 28\n",
      "When input is tensor([80,  1,  1, 28]) target is 39\n",
      "When input is tensor([80,  1,  1, 28, 39]) target is 42\n",
      "When input is tensor([80,  1,  1, 28, 39, 42]) target is 39\n",
      "When input is tensor([80,  1,  1, 28, 39, 42, 39]) target is 44\n",
      "When input is tensor([80,  1,  1, 28, 39, 42, 39, 44]) target is 32\n"
     ]
    }
   ],
   "source": [
    "# Creating a bigram model example (sequential)\n",
    "block_size = 8\n",
    "\n",
    "x = train_data[:block_size]\n",
    "y = train_data[1:block_size + 1]\n",
    "\n",
    "for t in range(block_size):\n",
    "    context = x[:t+1]\n",
    "    target = y[t]\n",
    "    print(f\"When input is {context} target is {target}\")"
   ]
  },
  {
   "cell_type": "code",
   "execution_count": 142,
   "metadata": {},
   "outputs": [
    {
     "data": {
      "text/plain": [
       "'\\n3*(0\\ufeff!5s\"j[8cvjvZWiYkcvJJnt:xTjeE!gc9XT4fzRsl6!?ViY\"qNm!cViUFN9f.JRP]7XtGh));haKZWI_p0K;]FMCi_hzg-G\\'v2w*4Q;hIy\\nU2,kg9fwy7**QyM*-oE\\ufeff6t2HL\\n!-uJ30o*4f]TUz1r )pzfu&)wNe3&uHWydTNL::DEkWC6B,aOCV(mlttWF\\'D SX9Iy!?-NrDtkO38E\\'9lmD\\'yP;\\'1zrroj!bd4&8h3!f0HLqLL\\nJXgfYo_8[8DJ!bmuAEwWv5ej0KTf-M;\"hK9;GkQyCXI_ ?\"hz7*1ryd&P.\\nRkgo 23SZP!nOcX,V2G\\';3gT Ie.S&m7avSR0K]T5ChD;?T,x?.TBJbdA\\ufeffSD)B]htwM):Ix5xv6bmx3]rej!kn4Hb\"Ms3(kc\\nNI4j*k\\nUUTyTGD4n!as*2K]l,.*Nyqfg-bQv;[HE4f6XNZgi5\\'\\'r7Vlres4uo*vsBU]3\"vvt1t(a!S3L5*[v.A-\\'X,TfPQ3C'"
      ]
     },
     "execution_count": 142,
     "metadata": {},
     "output_type": "execute_result"
    }
   ],
   "source": [
    "# Creating the model\n",
    "class BigramLanguageModel(nn.Module):\n",
    "    def __init__(self, vocab_size) -> None:\n",
    "        super().__init__()\n",
    "        self.token_embedding_table = nn.Embedding(vocab_size, vocab_size)\n",
    "\n",
    "    def forward(self, index, targets=None):\n",
    "        logits = self.token_embedding_table(index)\n",
    "        if targets is None:\n",
    "            loss = None\n",
    "        else:\n",
    "            B, T, C = logits.shape\n",
    "            logits = logits.view(B * T, C)\n",
    "            targets = targets.view(B * T)\n",
    "            loss = F.cross_entropy(logits, targets)\n",
    "\n",
    "        return logits, loss\n",
    "    \n",
    "    def generate(self, index, max_new_tokens):\n",
    "        # index is (B, T) array of indices in the current context\n",
    "        for _ in range(max_new_tokens):\n",
    "            # get the predictions\n",
    "            logits, loss = self.forward(index)\n",
    "            # focus only on the last time step\n",
    "            logits = logits[:, -1, :] # becomes (B, C)\n",
    "            # apply softmax to get probabilities\n",
    "            probs = F.softmax(logits, dim=-1) # (B, C)\n",
    "            # sample from the distribution\n",
    "            index_next = torch.multinomial(probs, num_samples=1) # (B, 1)\n",
    "            # append sampled index to the running sequence\n",
    "            index = torch.cat((index, index_next), dim=1) # (B, T+1)\n",
    "        return index\n",
    "    \n",
    "model = BigramLanguageModel(vocab_size=vocab_size)\n",
    "m = model.to(device)\n",
    "\n",
    "context = torch.zeros((1,1), dtype=torch.long, device=device)\n",
    "generated_chars = decode(m.generate(context, max_new_tokens=500)[0].tolist())\n",
    "generated_chars\n"
   ]
  },
  {
   "cell_type": "code",
   "execution_count": 143,
   "metadata": {},
   "outputs": [],
   "source": [
    "@torch.no_grad()\n",
    "def estimate_loss():\n",
    "    out = {}\n",
    "    model.eval()\n",
    "    for split in ['train', 'val']:\n",
    "        losses = torch.zeros(eval_iters)\n",
    "        for k in range(eval_iters):\n",
    "            X, Y = get_batch(split)\n",
    "            logits, loss = model(X, Y)\n",
    "            losses[k] = loss.item()\n",
    "        out[split] = losses.mean()\n",
    "    model.train()\n",
    "    return out"
   ]
  },
  {
   "cell_type": "code",
   "execution_count": 144,
   "metadata": {},
   "outputs": [
    {
     "name": "stdout",
     "output_type": "stream",
     "text": [
      "step: 0, train loss: 4.810, val loss: 4.783\n",
      "step: 1000, train loss: 4.554, val loss: 4.538\n",
      "step: 2000, train loss: 4.327, val loss: 4.313\n",
      "step: 3000, train loss: 4.122, val loss: 4.117\n",
      "step: 4000, train loss: 3.916, val loss: 3.922\n",
      "step: 5000, train loss: 3.755, val loss: 3.756\n",
      "step: 6000, train loss: 3.613, val loss: 3.602\n",
      "step: 7000, train loss: 3.456, val loss: 3.468\n",
      "step: 8000, train loss: 3.342, val loss: 3.338\n",
      "step: 9000, train loss: 3.234, val loss: 3.230\n",
      "step: 10000, train loss: 3.121, val loss: 3.131\n",
      "step: 11000, train loss: 3.037, val loss: 3.055\n",
      "step: 12000, train loss: 2.974, val loss: 2.986\n",
      "step: 13000, train loss: 2.911, val loss: 2.933\n",
      "step: 14000, train loss: 2.853, val loss: 2.871\n",
      "step: 15000, train loss: 2.807, val loss: 2.831\n",
      "step: 16000, train loss: 2.761, val loss: 2.787\n",
      "step: 17000, train loss: 2.718, val loss: 2.749\n",
      "step: 18000, train loss: 2.696, val loss: 2.727\n",
      "step: 19000, train loss: 2.672, val loss: 2.709\n",
      "step: 20000, train loss: 2.654, val loss: 2.669\n",
      "step: 21000, train loss: 2.638, val loss: 2.646\n",
      "step: 22000, train loss: 2.605, val loss: 2.636\n",
      "step: 23000, train loss: 2.581, val loss: 2.624\n",
      "step: 24000, train loss: 2.577, val loss: 2.629\n",
      "step: 25000, train loss: 2.567, val loss: 2.588\n",
      "step: 26000, train loss: 2.573, val loss: 2.590\n",
      "step: 27000, train loss: 2.549, val loss: 2.576\n",
      "step: 28000, train loss: 2.543, val loss: 2.576\n",
      "step: 29000, train loss: 2.518, val loss: 2.571\n",
      "step: 30000, train loss: 2.519, val loss: 2.548\n",
      "step: 31000, train loss: 2.511, val loss: 2.536\n",
      "step: 32000, train loss: 2.507, val loss: 2.551\n",
      "step: 33000, train loss: 2.498, val loss: 2.544\n",
      "step: 34000, train loss: 2.498, val loss: 2.527\n",
      "step: 35000, train loss: 2.493, val loss: 2.532\n",
      "step: 36000, train loss: 2.498, val loss: 2.525\n",
      "step: 37000, train loss: 2.481, val loss: 2.529\n",
      "step: 38000, train loss: 2.480, val loss: 2.512\n",
      "step: 39000, train loss: 2.481, val loss: 2.520\n",
      "step: 40000, train loss: 2.469, val loss: 2.520\n",
      "step: 41000, train loss: 2.478, val loss: 2.525\n",
      "step: 42000, train loss: 2.485, val loss: 2.516\n",
      "step: 43000, train loss: 2.478, val loss: 2.501\n",
      "step: 44000, train loss: 2.462, val loss: 2.509\n",
      "step: 45000, train loss: 2.458, val loss: 2.491\n",
      "step: 46000, train loss: 2.473, val loss: 2.494\n",
      "step: 47000, train loss: 2.444, val loss: 2.508\n",
      "step: 48000, train loss: 2.457, val loss: 2.502\n",
      "step: 49000, train loss: 2.456, val loss: 2.495\n",
      "step: 50000, train loss: 2.453, val loss: 2.493\n",
      "step: 51000, train loss: 2.470, val loss: 2.504\n",
      "step: 52000, train loss: 2.440, val loss: 2.506\n",
      "step: 53000, train loss: 2.464, val loss: 2.486\n",
      "step: 54000, train loss: 2.452, val loss: 2.497\n",
      "step: 55000, train loss: 2.453, val loss: 2.503\n",
      "step: 56000, train loss: 2.455, val loss: 2.498\n",
      "step: 57000, train loss: 2.443, val loss: 2.495\n",
      "step: 58000, train loss: 2.459, val loss: 2.488\n",
      "step: 59000, train loss: 2.435, val loss: 2.487\n",
      "step: 60000, train loss: 2.447, val loss: 2.484\n",
      "step: 61000, train loss: 2.436, val loss: 2.489\n",
      "step: 62000, train loss: 2.449, val loss: 2.486\n",
      "step: 63000, train loss: 2.448, val loss: 2.474\n",
      "step: 64000, train loss: 2.447, val loss: 2.495\n",
      "step: 65000, train loss: 2.452, val loss: 2.475\n",
      "step: 66000, train loss: 2.431, val loss: 2.479\n",
      "step: 67000, train loss: 2.435, val loss: 2.487\n",
      "step: 68000, train loss: 2.432, val loss: 2.483\n",
      "step: 69000, train loss: 2.447, val loss: 2.487\n",
      "step: 70000, train loss: 2.430, val loss: 2.467\n",
      "step: 71000, train loss: 2.443, val loss: 2.481\n",
      "step: 72000, train loss: 2.426, val loss: 2.483\n",
      "step: 73000, train loss: 2.437, val loss: 2.483\n",
      "step: 74000, train loss: 2.436, val loss: 2.475\n",
      "step: 75000, train loss: 2.445, val loss: 2.485\n",
      "step: 76000, train loss: 2.442, val loss: 2.487\n",
      "step: 77000, train loss: 2.438, val loss: 2.483\n",
      "step: 78000, train loss: 2.439, val loss: 2.480\n",
      "step: 79000, train loss: 2.431, val loss: 2.481\n",
      "step: 80000, train loss: 2.433, val loss: 2.480\n",
      "step: 81000, train loss: 2.433, val loss: 2.480\n",
      "step: 82000, train loss: 2.438, val loss: 2.481\n",
      "step: 83000, train loss: 2.443, val loss: 2.482\n",
      "step: 84000, train loss: 2.431, val loss: 2.474\n",
      "step: 85000, train loss: 2.432, val loss: 2.479\n",
      "step: 86000, train loss: 2.422, val loss: 2.477\n",
      "step: 87000, train loss: 2.429, val loss: 2.491\n",
      "step: 88000, train loss: 2.438, val loss: 2.487\n",
      "step: 89000, train loss: 2.420, val loss: 2.472\n",
      "step: 90000, train loss: 2.425, val loss: 2.473\n",
      "step: 91000, train loss: 2.434, val loss: 2.476\n",
      "step: 92000, train loss: 2.448, val loss: 2.482\n",
      "step: 93000, train loss: 2.421, val loss: 2.472\n",
      "step: 94000, train loss: 2.432, val loss: 2.476\n",
      "step: 95000, train loss: 2.432, val loss: 2.482\n",
      "step: 96000, train loss: 2.420, val loss: 2.473\n",
      "step: 97000, train loss: 2.438, val loss: 2.485\n",
      "step: 98000, train loss: 2.436, val loss: 2.467\n",
      "step: 99000, train loss: 2.436, val loss: 2.473\n",
      "step: 100000, train loss: 2.431, val loss: 2.468\n",
      "step: 101000, train loss: 2.436, val loss: 2.475\n",
      "step: 102000, train loss: 2.425, val loss: 2.488\n",
      "step: 103000, train loss: 2.425, val loss: 2.475\n",
      "step: 104000, train loss: 2.429, val loss: 2.469\n",
      "step: 105000, train loss: 2.425, val loss: 2.467\n",
      "step: 106000, train loss: 2.416, val loss: 2.468\n",
      "step: 107000, train loss: 2.428, val loss: 2.477\n",
      "step: 108000, train loss: 2.421, val loss: 2.475\n",
      "step: 109000, train loss: 2.422, val loss: 2.470\n",
      "step: 110000, train loss: 2.441, val loss: 2.469\n",
      "step: 111000, train loss: 2.433, val loss: 2.485\n",
      "step: 112000, train loss: 2.427, val loss: 2.478\n",
      "step: 113000, train loss: 2.418, val loss: 2.477\n",
      "step: 114000, train loss: 2.428, val loss: 2.486\n",
      "step: 115000, train loss: 2.428, val loss: 2.471\n",
      "step: 116000, train loss: 2.421, val loss: 2.472\n",
      "step: 117000, train loss: 2.423, val loss: 2.474\n",
      "step: 118000, train loss: 2.426, val loss: 2.470\n",
      "step: 119000, train loss: 2.426, val loss: 2.480\n",
      "step: 120000, train loss: 2.416, val loss: 2.470\n",
      "step: 121000, train loss: 2.432, val loss: 2.482\n",
      "step: 122000, train loss: 2.412, val loss: 2.482\n",
      "step: 123000, train loss: 2.431, val loss: 2.485\n",
      "step: 124000, train loss: 2.423, val loss: 2.465\n",
      "step: 125000, train loss: 2.422, val loss: 2.474\n",
      "step: 126000, train loss: 2.425, val loss: 2.496\n",
      "step: 127000, train loss: 2.427, val loss: 2.482\n",
      "step: 128000, train loss: 2.425, val loss: 2.472\n",
      "step: 129000, train loss: 2.430, val loss: 2.470\n",
      "step: 130000, train loss: 2.428, val loss: 2.477\n",
      "step: 131000, train loss: 2.429, val loss: 2.475\n",
      "step: 132000, train loss: 2.431, val loss: 2.476\n",
      "step: 133000, train loss: 2.421, val loss: 2.465\n",
      "step: 134000, train loss: 2.419, val loss: 2.482\n",
      "step: 135000, train loss: 2.420, val loss: 2.481\n",
      "step: 136000, train loss: 2.436, val loss: 2.489\n",
      "step: 137000, train loss: 2.430, val loss: 2.480\n",
      "step: 138000, train loss: 2.424, val loss: 2.465\n",
      "step: 139000, train loss: 2.418, val loss: 2.464\n",
      "step: 140000, train loss: 2.438, val loss: 2.487\n",
      "step: 141000, train loss: 2.431, val loss: 2.482\n",
      "step: 142000, train loss: 2.425, val loss: 2.476\n",
      "step: 143000, train loss: 2.420, val loss: 2.479\n",
      "step: 144000, train loss: 2.430, val loss: 2.464\n",
      "step: 145000, train loss: 2.421, val loss: 2.473\n",
      "step: 146000, train loss: 2.414, val loss: 2.469\n",
      "step: 147000, train loss: 2.433, val loss: 2.472\n",
      "step: 148000, train loss: 2.418, val loss: 2.474\n",
      "step: 149000, train loss: 2.424, val loss: 2.469\n",
      "step: 150000, train loss: 2.415, val loss: 2.477\n",
      "step: 151000, train loss: 2.428, val loss: 2.481\n",
      "step: 152000, train loss: 2.426, val loss: 2.473\n",
      "step: 153000, train loss: 2.423, val loss: 2.486\n",
      "step: 154000, train loss: 2.425, val loss: 2.477\n",
      "step: 155000, train loss: 2.422, val loss: 2.477\n",
      "step: 156000, train loss: 2.425, val loss: 2.483\n",
      "step: 157000, train loss: 2.416, val loss: 2.478\n",
      "step: 158000, train loss: 2.418, val loss: 2.482\n",
      "step: 159000, train loss: 2.433, val loss: 2.480\n",
      "step: 160000, train loss: 2.430, val loss: 2.480\n",
      "step: 161000, train loss: 2.422, val loss: 2.469\n",
      "step: 162000, train loss: 2.415, val loss: 2.482\n",
      "step: 163000, train loss: 2.432, val loss: 2.476\n",
      "step: 164000, train loss: 2.426, val loss: 2.474\n",
      "step: 165000, train loss: 2.427, val loss: 2.485\n",
      "step: 166000, train loss: 2.414, val loss: 2.468\n",
      "step: 167000, train loss: 2.426, val loss: 2.467\n",
      "step: 168000, train loss: 2.423, val loss: 2.480\n",
      "step: 169000, train loss: 2.427, val loss: 2.475\n",
      "step: 170000, train loss: 2.432, val loss: 2.468\n",
      "step: 171000, train loss: 2.424, val loss: 2.472\n",
      "step: 172000, train loss: 2.421, val loss: 2.488\n",
      "step: 173000, train loss: 2.424, val loss: 2.474\n",
      "step: 174000, train loss: 2.421, val loss: 2.472\n",
      "step: 175000, train loss: 2.434, val loss: 2.465\n",
      "step: 176000, train loss: 2.445, val loss: 2.476\n",
      "step: 177000, train loss: 2.424, val loss: 2.468\n",
      "step: 178000, train loss: 2.419, val loss: 2.476\n",
      "step: 179000, train loss: 2.420, val loss: 2.479\n",
      "step: 180000, train loss: 2.428, val loss: 2.473\n",
      "step: 181000, train loss: 2.420, val loss: 2.476\n",
      "step: 182000, train loss: 2.410, val loss: 2.491\n",
      "step: 183000, train loss: 2.428, val loss: 2.484\n",
      "step: 184000, train loss: 2.414, val loss: 2.473\n",
      "step: 185000, train loss: 2.429, val loss: 2.474\n",
      "step: 186000, train loss: 2.435, val loss: 2.469\n",
      "step: 187000, train loss: 2.427, val loss: 2.481\n",
      "step: 188000, train loss: 2.419, val loss: 2.476\n",
      "step: 189000, train loss: 2.416, val loss: 2.479\n",
      "step: 190000, train loss: 2.430, val loss: 2.487\n",
      "step: 191000, train loss: 2.428, val loss: 2.467\n",
      "step: 192000, train loss: 2.428, val loss: 2.475\n",
      "step: 193000, train loss: 2.426, val loss: 2.470\n",
      "step: 194000, train loss: 2.424, val loss: 2.465\n",
      "step: 195000, train loss: 2.421, val loss: 2.479\n",
      "step: 196000, train loss: 2.434, val loss: 2.476\n",
      "step: 197000, train loss: 2.418, val loss: 2.484\n",
      "step: 198000, train loss: 2.424, val loss: 2.482\n",
      "step: 199000, train loss: 2.416, val loss: 2.481\n"
     ]
    },
    {
     "data": {
      "text/plain": [
       "2.3630480766296387"
      ]
     },
     "execution_count": 144,
     "metadata": {},
     "output_type": "execute_result"
    }
   ],
   "source": [
    "# Optimizing the model\n",
    "optimizer = torch.optim.AdamW(model.parameters(), lr=learning_rate)\n",
    "\n",
    "for iter in range(max_iters):\n",
    "    if iter % eval_iters == 0:\n",
    "        losses = estimate_loss()\n",
    "        print(f\"step: {iter}, train loss: {losses['train']:.3f}, val loss: {losses['val']:.3f}\")\n",
    "\n",
    "    # Get train batches\n",
    "    xb, yb = get_batch(\"train\")\n",
    "\n",
    "    # Loss \n",
    "    logits, loss = model.forward(xb, yb)\n",
    "    optimizer.zero_grad(set_to_none=True)\n",
    "    loss.backward()\n",
    "    optimizer.step()\n",
    "\n",
    "loss.item()"
   ]
  },
  {
   "cell_type": "code",
   "execution_count": 150,
   "metadata": {},
   "outputs": [
    {
     "name": "stdout",
     "output_type": "stream",
     "text": [
      "\n",
      "l flideam icely-hend GEus athire t smy s hay athe ace, wheteave bid thou wigord Wingr \"NVisasizartinskery thalongrere ge the anthe ace t ais nthe e sedizackend w,\"Withe mup.\n",
      "\n",
      "E Buska b fouril ondn ino  o! Thend y t fl w te s.\n",
      "\"\n",
      "o t's che\n",
      "m.\n",
      "woruly, u tin oopleleckyspin, BAUThisuratishy\n",
      "\n",
      "tingeathicthe omatthed s, a flle pebr allorebe f lfls t opoferinesizagr casernd dinfoublalvevind\n",
      "\n",
      "rou he an isorablare lendamoof  Caksthoutin nd arwitrketthes\n",
      "me ren ttheoorapin glard klfuram\n",
      "ad t wot fathed wee s\n",
      "\n",
      "asty. bos hins y,  totond Thersheattorftoy, ve nemey o s we sintheinlath.\n",
      "\n",
      "\n",
      "msthes arezere \"ichowagr me  telerkeas athathrin ther-ceremay APug s dusangep  angyin\n",
      "\n",
      "ble b--plowhea my Itilshed.\n",
      "\" hugsagstereveo r be  hourarush ang\n",
      "ty id domoth te s theanoupupang Mrop otanetoung houbelithonthan'verebore l,\n",
      "\"\n",
      "\"Wiest we Welede Swang Bunguby. klie\n",
      "Wiouat acherond nt Jindid d-alk. groroousag ucowand.\n",
      "d ot w d tfon'l hasthund hou flthe thy, a bro t thanoundg ves.\n",
      "\n",
      "lothery thared ipled, a ang chowe  pr\n"
     ]
    }
   ],
   "source": [
    "context = torch.zeros((1,1), dtype=torch.long, device=device)\n",
    "generated_chars = decode(m.generate(context, max_new_tokens=1000)[0].tolist())\n",
    "print(generated_chars)"
   ]
  },
  {
   "cell_type": "code",
   "execution_count": null,
   "metadata": {},
   "outputs": [],
   "source": []
  }
 ],
 "metadata": {
  "kernelspec": {
   "display_name": "Python 3",
   "language": "python",
   "name": "python3"
  },
  "language_info": {
   "codemirror_mode": {
    "name": "ipython",
    "version": 3
   },
   "file_extension": ".py",
   "mimetype": "text/x-python",
   "name": "python",
   "nbconvert_exporter": "python",
   "pygments_lexer": "ipython3",
   "version": "3.10.12"
  },
  "orig_nbformat": 4
 },
 "nbformat": 4,
 "nbformat_minor": 2
}
