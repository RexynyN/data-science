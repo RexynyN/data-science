{
 "cells": [
  {
   "attachments": {},
   "cell_type": "markdown",
   "metadata": {},
   "source": [
    "Uma pequena pausa para uma oração antes de nossa codificação"
   ]
  },
  {
   "cell_type": "code",
   "execution_count": 15,
   "metadata": {},
   "outputs": [],
   "source": [
    "import this"
   ]
  },
  {
   "cell_type": "markdown",
   "metadata": {},
   "source": [
    "Traduzindo para as terras tupiniquins, temos:"
   ]
  },
  {
   "cell_type": "code",
   "execution_count": 16,
   "metadata": {},
   "outputs": [],
   "source": [
    "\"\"\"\n",
    "O Zen do Python, por Tim Peters\n",
    "\n",
    "Belo é melhor do que feio.\n",
    "Explícito é melhor do que implícito.\n",
    "Simples é melhor do que complexo.\n",
    "Complexo é melhor do que complicado. \n",
    "Linear é melhor do que aninhado.\n",
    "Esparso é melhor do que denso. \n",
    "Legibilidade é importante.\n",
    "Casos especiais não são especiais o suficiente para quebrar as regras.\n",
    "Mesmo que praticidade ganhe da pureza. \n",
    "Erros nunca deverão passar silenciosamente. \n",
    "A não ser que explicitamente silenciados.\n",
    "Em face da ambiguidade, negue a tentação de adivinhar.\n",
    "Deve haver um-- e preferencialmente apenas um --modo óbvio de ser fazer.\n",
    "Embora esse caminho possa não ser óbvio a princípio, a menos que você seja holandês.\n",
    "Agora é melhor do que nunca.\n",
    "Embora nunca é geralmente melhor do que *exatamente* agora.\n",
    "Se a implementação é díficil de explicar, é uma ideia ruim.\n",
    "Se a implementação é fácil de explicar, pode ser uma boa ideia.\n",
    "Namespaces são uma ideia do caramba-- vamos fazer mais deles!\n",
    "\"\"\";"
   ]
  },
  {
   "attachments": {},
   "cell_type": "markdown",
   "metadata": {},
   "source": [
    "## Parte 1: O Beabá do Python"
   ]
  },
  {
   "attachments": {},
   "cell_type": "markdown",
   "metadata": {},
   "source": [
    "Para o nosso primeiro código, vamos para o clássico Hello World. Que em Python é literalmente uma linha. Não precisa encapsular em uma função como em C ou criar uma classe inteira só pra escrever no console como em Java, só uma função no escopo global e vamo que vamo!"
   ]
  },
  {
   "cell_type": "code",
   "execution_count": 17,
   "metadata": {},
   "outputs": [
    {
     "name": "stdout",
     "output_type": "stream",
     "text": [
      "Hello, World!\n"
     ]
    }
   ],
   "source": [
    "print(\"Hello, World!\")"
   ]
  },
  {
   "attachments": {},
   "cell_type": "markdown",
   "metadata": {},
   "source": [
    "\n",
    "Pra gente instanciar uma variável em C e em Java, a gente faz algo mais ou menos assim né? \n",
    "\n",
    "```\n",
    "int numero = 42;\n",
    "String string = \"Hello, World!\"\n",
    "int [] lista = { 1, 2, 3, 4 } \n",
    "```\n",
    "\n",
    "Em python é mais fácil, uma vez que é uma linguagem de **Tipagem Dinâmica**, isso é, você não precisa dizer explicitamente qual \n",
    "o tipo da variável, porque o interpretador vai fazer isso por você."
   ]
  },
  {
   "cell_type": "code",
   "execution_count": 18,
   "metadata": {},
   "outputs": [
    {
     "name": "stdout",
     "output_type": "stream",
     "text": [
      "42  -  Hello, World!  -  [1, 2, 3, 4]\n"
     ]
    }
   ],
   "source": [
    "numero = 42\n",
    "string = \"Hello, World!\"\n",
    "lista = [1, 2, 3, 4]\n",
    "\n",
    "# O print() aceita qualquer tipo de dado!\n",
    "print(numero, \" - \", string, \" - \", lista)"
   ]
  },
  {
   "attachments": {},
   "cell_type": "markdown",
   "metadata": {},
   "source": [
    "Mas se quiser ter *absoluta* certeza do tipo da váriavel, você pode passá-la para um função de conversão:"
   ]
  },
  {
   "cell_type": "code",
   "execution_count": 19,
   "metadata": {},
   "outputs": [
    {
     "name": "stdout",
     "output_type": "stream",
     "text": [
      "20\n"
     ]
    }
   ],
   "source": [
    "nao_numero = int(\"10\")\n",
    "numero = int(10)  \n",
    "\n",
    "# São do mesmo tipo\n",
    "print(nao_numero + numero) \n",
    "\n",
    "# Você pode fazer isso com vários tipos de dados\n",
    "str() # Para Strings\n",
    "float() # Para floats (números reais)\n",
    "list() # Para listas\n",
    "tuple(); # Para tuplas"
   ]
  },
  {
   "attachments": {},
   "cell_type": "markdown",
   "metadata": {},
   "source": [
    "Ou ainda pode também checar o tipo da váriavel (mas geralmente uma boa estrutura de código e nome de váriavel já diz qual o tipo dela)"
   ]
  },
  {
   "cell_type": "code",
   "execution_count": 20,
   "metadata": {},
   "outputs": [
    {
     "data": {
      "text/plain": [
       "(str, int, float)"
      ]
     },
     "execution_count": 20,
     "metadata": {},
     "output_type": "execute_result"
    }
   ],
   "source": [
    "# Você consegue instanciar várias variáveis em uma linha!\n",
    "string, numero, numero_real = \"Python é Maneiro!\", 42, 35.98\n",
    "\n",
    "type(string), type(numero), type(numero_real)"
   ]
  },
  {
   "cell_type": "markdown",
   "metadata": {},
   "source": [
    "Esses são os tipos de dados mais usados no dia a dia codando em Python (e o que iremos focar no nosso curso.)"
   ]
  },
  {
   "cell_type": "code",
   "execution_count": 52,
   "metadata": {},
   "outputs": [
    {
     "name": "stdout",
     "output_type": "stream",
     "text": [
      "Intervalo:\n",
      "0 1 2 3 4 5 6 7 8 9 \n",
      "\n",
      "Dicionário:\n",
      "{'flutuante': 42.24,\n",
      " 'inteiro': 42,\n",
      " 'lista': ['Oi Pessoal', 42, 42.24],\n",
      " 'string': 'Oi Pessoal'}\n",
      "\n",
      "Índice [\"string\"]: Oi Pessoal\n"
     ]
    }
   ],
   "source": [
    "from pprint import pprint\n",
    "\n",
    "# String de texto\n",
    "string = \"Oi Pessoal!\"\n",
    "\n",
    "# Número inteiro\n",
    "inteiro = 42\n",
    "\n",
    "# Número de ponto flutuante\n",
    "flutuante = 42.24\n",
    "\n",
    "# Lista de elementos\n",
    "lista = [\"Oi Pessoal\", 42, 42.24]\n",
    "\n",
    "# Tupla (lista de elementos imutável)\n",
    "tupla = (\"Oi Pessoal\", 42, 42.24)\n",
    "\n",
    "# Intervalo de valores\n",
    "intervalo = range(10)\n",
    "\n",
    "print(\"Intervalo:\")\n",
    "for i in intervalo:\n",
    "    print(i, end=\" \")\n",
    "print(\"\\n\")\n",
    "\n",
    "# Dicionário (lista de elementos com índices não-inteiros)\n",
    "dicio = {\n",
    "    \"string\": \"Oi Pessoal\",\n",
    "    \"inteiro\": 42,\n",
    "    \"flutuante\": 42.24,\n",
    "    \"lista\": [\"Oi Pessoal\", 42, 42.24]\n",
    "}\n",
    "\n",
    "print(\"Dicionário:\")\n",
    "pprint(dicio)\n",
    "print(\"\\nÍndice [\\\"string\\\"]:\", dicio[\"string\"])\n",
    "\n",
    "# Booleanos \n",
    "bool_true, bool_false = True, False\n",
    "\n",
    "# Valor Nulo (None)\n",
    "nulo = None\n",
    "\n",
    "# Outros que não iremos usar aqui, mas é legal saber que existem:\n",
    "# Complex (números complexos)\n",
    "# Set (conjunto de elementos sem repetição)\n",
    "# Bytes\n",
    "# ByteArray (array de bytes)"
   ]
  },
  {
   "attachments": {},
   "cell_type": "markdown",
   "metadata": {},
   "source": [
    "Como toda boa linguagem de programação, temos os operadores aritméticos comuns como: adição, substração, multiplicação, divisão, etc."
   ]
  },
  {
   "cell_type": "code",
   "execution_count": 22,
   "metadata": {},
   "outputs": [
    {
     "name": "stdout",
     "output_type": "stream",
     "text": [
      "3 + 2 =  5\n",
      "3 - 2 =  1\n",
      "3 * 2 =  6\n",
      "3 / 2 =  1.5\n",
      "3 // 2 =  1\n",
      "3 ** 2 =  9\n",
      "3 % 2 =  1\n"
     ]
    }
   ],
   "source": [
    "a, b = 3, 2\n",
    "\n",
    "# Não se preocupe com o \"f\" na frente da string, vamos falar disso mais para frente\n",
    "print(f\"{a} + {b} = \", a + b)  # Adição\n",
    "print(f\"{a} - {b} = \", a - b)   # Subtração\n",
    "print(f\"{a} * {b} = \", a * b)   # Multiplicação\n",
    "print(f\"{a} / {b} = \", a / b)   # Divisão\n",
    "print(f\"{a} // {b} = \", a // b) # Divisão com arredondamento para baixo (pode ser usado também com a função math.floor(<equação>))\n",
    "print(f\"{a} ** {b} = \", a ** b) # Exponenciação (pode ser usado também com a função math.pow())\n",
    "print(f\"{a} % {b} = \", a % b)   # Módulo"
   ]
  },
  {
   "cell_type": "markdown",
   "metadata": {},
   "source": [
    "Também temos o operador de autoreferência em operações no python, porém por questões de design de linguagem, não temos o famoso operador de autoincremento \"a++\" ou \"a--\"."
   ]
  },
  {
   "cell_type": "code",
   "execution_count": 40,
   "metadata": {},
   "outputs": [],
   "source": [
    "a, b = 3, 2\n",
    "\n",
    "# Equivalente => a = a + b\n",
    "a += b \n",
    "a -= b\n",
    "a *= b\n",
    "a /= b\n",
    "# a //= b | a **= b | a %= b"
   ]
  },
  {
   "attachments": {},
   "cell_type": "markdown",
   "metadata": {},
   "source": [
    "Assim como nós podemos usar esses operadores em números, alguns deles nós podemos usar em textos"
   ]
  },
  {
   "cell_type": "code",
   "execution_count": 41,
   "metadata": {},
   "outputs": [
    {
     "name": "stdout",
     "output_type": "stream",
     "text": [
      "Python é Maneiro!\n",
      "Python Python Python \n",
      "Python é maneiro\n"
     ]
    }
   ],
   "source": [
    "str1, str2, str3 = \"Python \", \"é \", \"Maneiro!\"\n",
    "\n",
    "print(str1 + str2 + str3)    # Concatenação de Strings (Só funciona se todos os operandos forem string!)\n",
    "print(str1 * 3)              # Repetição de string (Um dos operandos tem de ser um número inteiro!)\n",
    "print(\"%sé maneiro\" % str1)  # Formatação de String (vamos ver outros exemplos mais para frente)"
   ]
  },
  {
   "attachments": {},
   "cell_type": "markdown",
   "metadata": {},
   "source": [
    "Podemos usar em listas também!"
   ]
  },
  {
   "cell_type": "code",
   "execution_count": 25,
   "metadata": {},
   "outputs": [
    {
     "name": "stdout",
     "output_type": "stream",
     "text": [
      "[1, 2, 3, 4, 5, 6]\n",
      "[1, 2, 3, 1, 2, 3, 1, 2, 3]\n"
     ]
    }
   ],
   "source": [
    "lista1, lista2 = [1, 2, 3], [4, 5, 6]\n",
    "\n",
    "print(lista1 + lista2) # Concatenação de Listas (Só funciona se todos os operandos forem uma lista!)\n",
    "print(lista1 * 3)      # Repetição de Lista (Um dos operandos tem de ser um número inteiro!)"
   ]
  },
  {
   "cell_type": "markdown",
   "metadata": {},
   "source": [
    "Uma das partes mais importantes de um programa é receber informações do usuário, e em Python é tão fácil quanto chamar uma função:"
   ]
  },
  {
   "cell_type": "code",
   "execution_count": 53,
   "metadata": {},
   "outputs": [
    {
     "name": "stdout",
     "output_type": "stream",
     "text": [
      "Olá, eu sou o(a) Breno e estou aprendendo Python!\n"
     ]
    }
   ],
   "source": [
    "nome = input(\"Nome do programador: \")\n",
    "\n",
    "print(\"Olá, eu sou o(a)\", nome, \"e estou aprendendo Python!\")"
   ]
  },
  {
   "cell_type": "markdown",
   "metadata": {},
   "source": [
    "A função input() retorna as informações digitadas pelo usuário em forma de string, porém com as funções de conversão o valor pode ser transformado em números, listas, etc"
   ]
  },
  {
   "cell_type": "code",
   "execution_count": 46,
   "metadata": {},
   "outputs": [
    {
     "name": "stdout",
     "output_type": "stream",
     "text": [
      "Formulário de Aluno\n",
      "Nome: Breno\n",
      "Idade daqui a um ano: 22\n",
      "Interesses:\n",
      "\t-> IA\n",
      "\t-> Machine Learning\n",
      "\t-> Python\n",
      "\t-> Automação\n"
     ]
    }
   ],
   "source": [
    "print(\"Formulário de Aluno\")\n",
    "\n",
    "nome = input(\"Nome do Candidato: \")\n",
    "idade = int(input(\"Idade do Candidato: \"))\n",
    "interesses = input(\"Interesses (separados por vírgula): \").split(\",\")\n",
    "\n",
    "print(\"Nome:\", nome)\n",
    "print(\"Idade daqui a um ano:\", (idade + 1))\n",
    "print(\"Interesses:\")\n",
    "for materia in interesses:\n",
    "    print(\"\\t->\", materia.strip())\n"
   ]
  },
  {
   "cell_type": "markdown",
   "metadata": {},
   "source": [
    "# Parte 2: Condicionais"
   ]
  },
  {
   "cell_type": "markdown",
   "metadata": {},
   "source": [
    "Para controlar o fluxo de execução num programa Python nós temos os condicionais."
   ]
  },
  {
   "cell_type": "code",
   "execution_count": 48,
   "metadata": {},
   "outputs": [
    {
     "name": "stdout",
     "output_type": "stream",
     "text": [
      "Passou o else!\n"
     ]
    }
   ],
   "source": [
    "# Os valores True e False *devem* ser escritos com a primeira letra maiúscula\n",
    "# Senão serão tratados como uma variável\n",
    "control = False\n",
    "\n",
    "if control: # equivalente a control == True\n",
    "    print(\"Passou o if!\")\n",
    "else:\n",
    "    print(\"Passou o else!\")"
   ]
  },
  {
   "cell_type": "markdown",
   "metadata": {},
   "source": [
    "Para fazermos um \"else if\" em python temos uma keyword especifica, o \"elif\". Interessante notar que em python nós usamos os nomes dos operandos \"and\", \"or\" e \"not\", e não os símbolos \"||\", \"&&\" e \"!\". "
   ]
  },
  {
   "cell_type": "code",
   "execution_count": null,
   "metadata": {},
   "outputs": [
    {
     "name": "stdout",
     "output_type": "stream",
     "text": [
      "Você é um idoso!\n"
     ]
    }
   ],
   "source": [
    "idade = 100\n",
    "\n",
    "if not idade > 18 and idade > 0:\n",
    "    print(\"Você é um menor de idade!\")\n",
    "elif idade >= 18 and not idade > 60:\n",
    "    print(\"Você é um adulto!\")\n",
    "else:\n",
    "    print(\"Você é um idoso!\")"
   ]
  },
  {
   "cell_type": "markdown",
   "metadata": {},
   "source": [
    "Para combinar vários checagens lógicas, podemos aninhar com parênteses."
   ]
  },
  {
   "cell_type": "code",
   "execution_count": null,
   "metadata": {},
   "outputs": [],
   "source": [
    "\n",
    "\n",
    "if idade < 18 and (peso > )"
   ]
  },
  {
   "cell_type": "markdown",
   "metadata": {},
   "source": [
    "# Parte X: Manipulação de Strings"
   ]
  },
  {
   "cell_type": "code",
   "execution_count": null,
   "metadata": {},
   "outputs": [],
   "source": [
    "super_string = \"\"\"\n",
    "\n",
    "\"\"\"\n",
    "\n",
    "\n",
    "formated_string = f\"\"\n",
    "\n",
    "splitted_string = formated_string.split()\n",
    "\n",
    "format_string = \"\".format()"
   ]
  },
  {
   "cell_type": "markdown",
   "metadata": {},
   "source": [
    "# Parte 3: Funções"
   ]
  },
  {
   "cell_type": "markdown",
   "metadata": {},
   "source": [
    "Funções são uma parte fundamental de qualquer linguagem, mas em Python elas brilham. Trabalhar com funções é tão flexível e dinâmico que muitas vezes parece até mágica! Vamos ver um exemplo de função:"
   ]
  },
  {
   "cell_type": "code",
   "execution_count": null,
   "metadata": {},
   "outputs": [
    {
     "name": "stdout",
     "output_type": "stream",
     "text": [
      "Hello, everybody :)\n"
     ]
    }
   ],
   "source": [
    "# Estrutura:\n",
    "# def <nome> (<parametros>):\n",
    "def say_hello():\n",
    "    print(\"Hello, everybody :)\")\n",
    "\n",
    "say_hello()\n"
   ]
  },
  {
   "cell_type": "markdown",
   "metadata": {},
   "source": [
    "Uma função geralmente recebe argumentos (ou parâmetros), que são informações que são repassadas para o escopo da função para serem processadas. Em python, um parâmetro pode receber qualquer coisa, cabe ao programador fazer a limpeza da informação e garantir que está no formato que ele queira."
   ]
  },
  {
   "cell_type": "code",
   "execution_count": null,
   "metadata": {},
   "outputs": [],
   "source": [
    "def print_subtraction(a, b):\n",
    "    print(f\"{a} - {b} = {a - b}\")"
   ]
  },
  {
   "cell_type": "markdown",
   "metadata": {},
   "source": [
    "# Parte X: As partes um pouco mais profundas"
   ]
  },
  {
   "cell_type": "markdown",
   "metadata": {},
   "source": [
    "Lambdas (não o serviço da AWS) são nada mais, nada menos do que funções que não tem nome, ou funções anônimas como você pode conhecê-las. Mas para que serve uma função que nem nome tem? \n",
    "\n",
    "Vamos pensar o seguinte: Eu quero criar um comparador de preços de um produto, mas não quero ficar fazendo o código toda hora que vou comparar usando uma métrica diferente. Então podemos criar uma função, e dentro dela pedir que o usuário mande uma função que vai definir como a gente vai comparar os produtos, assim ó:"
   ]
  },
  {
   "cell_type": "code",
   "execution_count": null,
   "metadata": {},
   "outputs": [
    {
     "name": "stdout",
     "output_type": "stream",
     "text": [
      "27.2\n"
     ]
    }
   ],
   "source": [
    "# Vai fazer o nosso comparador retornar o menor preço\n",
    "def menor_preco(a, b):\n",
    "    return a < b\n",
    "\n",
    "# Vai fazer o nosso comparador retornar o maior preço\n",
    "def maior_preco(a, b):\n",
    "    return a > b\n",
    "\n",
    "# Comparador de preços\n",
    "def comparar_precos(precos, compara):\n",
    "    alvo = precos[0]\n",
    "    for preco in precos:\n",
    "        if not compara(alvo, preco):\n",
    "            alvo = preco\n",
    "\n",
    "    return alvo\n",
    "\n",
    "precos = [32.4, 34.7, 45.9, 27.2, 81.4]\n",
    "print(comparar_precos(precos, menor_preco))\n"
   ]
  },
  {
   "cell_type": "markdown",
   "metadata": {},
   "source": [
    "Funciona, mas é só uma linha de código que a gente usa pra comparar, é um despedício de tempo criar uma função só pra isso, então criamos um lambda! Uma vez que ela de retornar alguma expressão, ela é perfeita para esse trabalho."
   ]
  },
  {
   "cell_type": "code",
   "execution_count": null,
   "metadata": {},
   "outputs": [
    {
     "name": "stdout",
     "output_type": "stream",
     "text": [
      "81.4\n"
     ]
    },
    {
     "data": {
      "text/plain": [
       "27.2"
      ]
     },
     "execution_count": 26,
     "metadata": {},
     "output_type": "execute_result"
    }
   ],
   "source": [
    "# Podemos colocar ela numa variável e repassar ela pra função\n",
    "lamb_maior = lambda a, b: a > b\n",
    "print(comparar_precos(precos, lamb_maior))\n",
    "\n",
    "# Ou passar direto pra função que criamos.\n",
    "comparar_precos(precos, lambda a, b: a < b)"
   ]
  },
  {
   "cell_type": "markdown",
   "metadata": {},
   "source": [
    "# Parte X: Resoluções"
   ]
  }
 ],
 "metadata": {
  "kernelspec": {
   "display_name": "Python 3",
   "language": "python",
   "name": "python3"
  },
  "language_info": {
   "codemirror_mode": {
    "name": "ipython",
    "version": 3
   },
   "file_extension": ".py",
   "mimetype": "text/x-python",
   "name": "python",
   "nbconvert_exporter": "python",
   "pygments_lexer": "ipython3",
   "version": "3.10.10"
  },
  "orig_nbformat": 4
 },
 "nbformat": 4,
 "nbformat_minor": 2
}
