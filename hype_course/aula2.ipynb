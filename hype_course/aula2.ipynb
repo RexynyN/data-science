{
 "cells": [
  {
   "cell_type": "markdown",
   "metadata": {},
   "source": [
    "# Parte 1: Loops de Repetição\n"
   ]
  },
  {
   "cell_type": "markdown",
   "metadata": {},
   "source": [
    "Sempre que queremos executar uma mesma instrução múltiplas vezes, nos deparamos com loops de repetição, e em Python temos os dois mais famosos, o while e o for. \n",
    "\n",
    "Apesar do for levar a fama por ser mais usado no dia a dia, ambos tem seu lugar na programação com Python, então vamos ver alguns exemplos. "
   ]
  },
  {
   "cell_type": "code",
   "execution_count": 3,
   "metadata": {},
   "outputs": [
    {
     "name": "stdout",
     "output_type": "stream",
     "text": [
      "Contando 1 carneirinhos\n",
      "Contando 2 carneirinhos\n",
      "Contando 3 carneirinhos\n",
      "Contando 4 carneirinhos\n",
      "Contando 5 carneirinhos\n",
      "Contando 6 carneirinhos\n",
      "Contando 7 carneirinhos\n",
      "Contando 8 carneirinhos\n",
      "Contando 9 carneirinhos\n",
      "Contando 10 carneirinhos\n"
     ]
    }
   ],
   "source": [
    "carneirinhos = 10\n",
    "i = 0\n",
    "while i < carneirinhos:\n",
    "    print(\"Contando\", i + 1, \"carneirinhos\")\n",
    "    i += 1"
   ]
  },
  {
   "cell_type": "markdown",
   "metadata": {},
   "source": [
    "Podemos fazer a mesma coisa com um for, usando a função range()"
   ]
  },
  {
   "cell_type": "code",
   "execution_count": 4,
   "metadata": {},
   "outputs": [
    {
     "name": "stdout",
     "output_type": "stream",
     "text": [
      "Contando 1 carneirinhos\n",
      "Contando 2 carneirinhos\n",
      "Contando 3 carneirinhos\n",
      "Contando 4 carneirinhos\n",
      "Contando 5 carneirinhos\n",
      "Contando 6 carneirinhos\n",
      "Contando 7 carneirinhos\n",
      "Contando 8 carneirinhos\n",
      "Contando 9 carneirinhos\n",
      "Contando 10 carneirinhos\n"
     ]
    }
   ],
   "source": [
    "# Equivalente \n",
    "for carneiro in range(10):\n",
    "    print(\"Contando\", carneiro + 1, \"carneirinhos\")"
   ]
  },
  {
   "cell_type": "markdown",
   "metadata": {},
   "source": []
  },
  {
   "cell_type": "markdown",
   "metadata": {},
   "source": [
    "# Parte 2: Iteráveis (Estrutura de Dados)"
   ]
  },
  {
   "cell_type": "markdown",
   "metadata": {},
   "source": [
    "Curiosamente, em python não existem arrays embutidos nativamente. Já que por definição, um array é um bloco de memória *contínuo* que pode armazenar múltiplos valores, sendo que seu tamanho é imutável e os valores aramazenados são do mesmo tipo. "
   ]
  },
  {
   "cell_type": "markdown",
   "metadata": {},
   "source": [
    "\n",
    "Contudo, há uma biblioteca padrão que implementa arrays. Ou como alternativa mais completa, pode se utilizar arrays da biblioteca NumPy, que vem com várias utilidades para manipulá-las. (Mas estamos dando spoilers aqui hehe)"
   ]
  },
  {
   "cell_type": "code",
   "execution_count": null,
   "metadata": {},
   "outputs": [
    {
     "data": {
      "text/plain": [
       "array([1, 2, 3, 4, 5, 6])"
      ]
     },
     "metadata": {},
     "output_type": "display_data"
    }
   ],
   "source": [
    "import numpy as np\n",
    "\n",
    "array = np.array([1, 2, 3, 4, 5, 6])\n",
    "array"
   ]
  },
  {
   "cell_type": "markdown",
   "metadata": {},
   "source": [
    "Em python temos ao invés listas, que são, como o nome indica, listas de valores de tamanho variável e que podem armazenar quaisquer valores dentro. Tecnicamente não são como arrays, mas por razões de brevidade e didática, vamos tratar como a mesma coisa."
   ]
  },
  {
   "cell_type": "code",
   "execution_count": null,
   "metadata": {},
   "outputs": [
    {
     "data": {
      "text/plain": [
       "['Python', 42, {'Um', 'de', 'exemplo', 'set'}, 22.34]"
      ]
     },
     "metadata": {},
     "output_type": "display_data"
    }
   ],
   "source": [
    "# Pode ser instanciado assim:\n",
    "lista = list()\n",
    "# ou assim:\n",
    "lista = []\n",
    "\n",
    "# \".append\" adiciona um elemento no final de uma lista\n",
    "lista.append(\"Python\")\n",
    "lista.append(42)\n",
    "lista.append({ \"Um\", \"exemplo\", \"de\", \"set\" })\n",
    "lista.append(22.34)\n",
    "lista # vários tipos de dados num mesmo lugar!"
   ]
  },
  {
   "cell_type": "markdown",
   "metadata": {},
   "source": [
    "Uma das maneiras mais clássicas de se lidar com arrays, são com loops de repetição, o que acabamos de aprender! Temos o nosso famoso \"while\":"
   ]
  },
  {
   "cell_type": "code",
   "execution_count": null,
   "metadata": {},
   "outputs": [
    {
     "name": "stdout",
     "output_type": "stream",
     "text": [
      "Python\n",
      "42\n",
      "{'de', 'set', 'exemplo', 'Um'}\n",
      "22.34\n"
     ]
    }
   ],
   "source": [
    "# len() retorna o tamanho o iterável que você passar\n",
    "length = len(lista)\n",
    "i = 0\n",
    "\n",
    "while i < length:\n",
    "    print(lista[i])\n",
    "    i += 1"
   ]
  },
  {
   "cell_type": "markdown",
   "metadata": {},
   "source": [
    "Porém eles são pouquíssimo usados em python, já que o loop \"for\" tem tantas ferramentas para iterar por listas e tuplas, que torna torna o while quase obsoleto (mas ainda tem seu uso.) \n",
    "\n",
    "A sintaxe do for em python é um pouco diferente do que das outras linguagens de programação, vamos aprender:"
   ]
  },
  {
   "cell_type": "code",
   "execution_count": null,
   "metadata": {},
   "outputs": [
    {
     "name": "stdout",
     "output_type": "stream",
     "text": [
      "Manga\n",
      "Banana\n",
      "Laranja\n",
      "Maçã\n",
      "Romã\n",
      "Pera\n",
      "Tomate\n",
      "Abacaxi\n",
      "\n",
      "\tPulando de dois em dois: \n",
      "\n",
      "Manga\n",
      "Laranja\n",
      "Romã\n",
      "Tomate\n",
      "\n",
      "\tfor simplificado: \n",
      "\n",
      "Manga\n",
      "Banana\n",
      "Laranja\n",
      "Maçã\n",
      "Romã\n",
      "Pera\n",
      "Tomate\n",
      "Abacaxi\n"
     ]
    }
   ],
   "source": [
    "lista1 = [\"Breno\", \"Enzo\", \"Igor\", \"Júlia\", \"Natália\", \"Mayara\"]\n",
    "lista2 = [\"Manga\", \"Banana\", \"Laranja\", \"Maçã\", \"Romã\", \"Pera\", \"Tomate\", \"Abacaxi\"]\n",
    "\n",
    "# Equivalente ao seguinte:\n",
    "# for (int indice = 0; indice < 8; indice++) { print() }\n",
    "for indice in range(0, 8, 1):\n",
    "    print(lista2[indice])\n",
    "\n",
    "print(\"\\n\\tPulando de dois em dois: \\n\")\n",
    "\n",
    "# Igual a um\n",
    "# for(int indice = 0; indice < lista2.length; indice += 2)\n",
    "for indice in range(0, len(lista2), 2):\n",
    "    print(lista2[indice])\n",
    "\n",
    "\n",
    "print(\"\\n\\tfor simplificado: \\n\")\n",
    "\n",
    "# O primeiro for pode ser simplificado assim:\n",
    "for indice in range(len(lista2)):\n",
    "    print(lista2[indice])\n"
   ]
  },
  {
   "cell_type": "markdown",
   "metadata": {},
   "source": [
    "Apesar de existir todos essas maneiras de usar o for, a que você mais vai usar é passando um iterável (lista, tupla, um Dataframe Pandas, etc) diretamente para o for. Mas saiba dessas outras maneiras, pois nem sempre passar direto o iterável vai resolver o seu problema."
   ]
  },
  {
   "cell_type": "code",
   "execution_count": null,
   "metadata": {},
   "outputs": [
    {
     "name": "stdout",
     "output_type": "stream",
     "text": [
      "Manga\n",
      "Banana\n",
      "Laranja\n",
      "Maçã\n",
      "Romã\n",
      "Pera\n",
      "Tomate\n",
      "Abacaxi\n"
     ]
    }
   ],
   "source": [
    "# Ele retorna o elemento em si, não seu índice\n",
    "for elemento in lista2:\n",
    "    print(elemento)"
   ]
  },
  {
   "cell_type": "markdown",
   "metadata": {},
   "source": [
    "E pra ajudar a usar o for, temos várias funções nativas que fazem manipulações antes de passarmos pro loop. \n",
    "\n",
    "Como por exemplo o zip(), que como o nome diz, \"zipa\" duas listas juntas e retorna os elementos em um indíce específico juntos."
   ]
  },
  {
   "cell_type": "code",
   "execution_count": null,
   "metadata": {},
   "outputs": [
    {
     "name": "stdout",
     "output_type": "stream",
     "text": [
      "Breno gosta de Manga\n",
      "Enzo gosta de Banana\n",
      "Igor gosta de Laranja\n",
      "Júlia gosta de Maçã\n",
      "Natália gosta de Romã\n",
      "Mayara gosta de Pera\n"
     ]
    }
   ],
   "source": [
    "# como uma lista é maior que a outra, ele zipa com o numero de elementos da lista menor (a de nomes nesse caso)\n",
    "lista1 = [\"Breno\", \"Enzo\", \"Igor\", \"Júlia\", \"Natália\", \"Mayara\"]\n",
    "lista2 = [\"Manga\", \"Banana\", \"Laranja\", \"Maçã\", \"Romã\", \"Pera\", \"Tomate\", \"Abacaxi\"]\n",
    "\n",
    "\n",
    "for nome, fruta in zip(lista1, lista2):\n",
    "    print(f\"{nome} gosta de {fruta}\")"
   ]
  },
  {
   "cell_type": "markdown",
   "metadata": {},
   "source": [
    "O enumerate() faz algo parecido, mas ele retorna ao invés o índice de um elemento junto do conteúdo naquele índice."
   ]
  },
  {
   "cell_type": "code",
   "execution_count": null,
   "metadata": {},
   "outputs": [
    {
     "name": "stdout",
     "output_type": "stream",
     "text": [
      "Breno está no índice 0\n",
      "Enzo está no índice 1\n",
      "Igor está no índice 2\n",
      "Júlia está no índice 3\n",
      "Natália está no índice 4\n",
      "Mayara está no índice 5\n"
     ]
    }
   ],
   "source": [
    "for indice, nome in enumerate(lista1):\n",
    "    print(f\"{nome} está no índice {indice}\")"
   ]
  },
  {
   "cell_type": "markdown",
   "metadata": {},
   "source": [
    "Uma curiosidade interessante é que uma string é reconhecida pelo Python como uma lista de caracteres, portanto, um iterável!"
   ]
  },
  {
   "cell_type": "code",
   "execution_count": null,
   "metadata": {},
   "outputs": [
    {
     "name": "stdout",
     "output_type": "stream",
     "text": [
      "P - y - t - h - o - n - "
     ]
    }
   ],
   "source": [
    "string = \"Python\"\n",
    "for char in string:\n",
    "    print(char, end=\" - \")"
   ]
  },
  {
   "cell_type": "markdown",
   "metadata": {},
   "source": []
  },
  {
   "cell_type": "code",
   "execution_count": null,
   "metadata": {},
   "outputs": [],
   "source": [
    "dicio = {\n",
    "    \n",
    "}"
   ]
  },
  {
   "cell_type": "markdown",
   "metadata": {},
   "source": [
    "Compreensões são uma técnica para criar listas baseadas em um lista \"mãe\", de uma maneira bastante resumida. Tem uma sintaxe um pouco estranha a primeira vista, mas é extremamente útil."
   ]
  },
  {
   "cell_type": "code",
   "execution_count": null,
   "metadata": {},
   "outputs": [
    {
     "name": "stdout",
     "output_type": "stream",
     "text": [
      "[1, 1, 1, 1, 1, 0, 1, 0, 0, 1, 0]\n"
     ]
    },
    {
     "data": {
      "text/plain": [
       "[1, 1, 1, 1, 1, 0, 1, 0, 0, 1, 0]"
      ]
     },
     "metadata": {},
     "output_type": "display_data"
    }
   ],
   "source": [
    "# Vamos transformar isso em 1's e 0's\n",
    "booleans = [True, True, True, True, True, False, True, False, False, True, False]\n",
    "\n",
    "# Parece complicado né?\n",
    "numericos = [1 if bool else 0 for bool in booleans]\n",
    "print(numericos)\n",
    "\n",
    "# Mas é exatamente a mesma coisa que escrever isso:\n",
    "numericos = []\n",
    "for bool in booleans:\n",
    "    if bool: # se \"bool\" é igual a True\n",
    "        numericos.append(1)\n",
    "    else:\n",
    "        numericos.append(0)\n",
    "\n",
    "# Única coisa é que na compreensão o if fica na \"frente\" do for, e aqui é o contrário\n",
    "# Mas o resultado é o mesmo\n",
    "numericos"
   ]
  },
  {
   "cell_type": "markdown",
   "metadata": {},
   "source": [
    "Compreensões são um tanto díficeis de entender à primeira vista, então pra você ficar fera, analise essas outras, e tente achar o código correspondente **(respostas no final do notebook)** "
   ]
  },
  {
   "cell_type": "code",
   "execution_count": null,
   "metadata": {},
   "outputs": [
    {
     "name": "stdout",
     "output_type": "stream",
     "text": [
      "[32, 34, 45, 27, 81]\n",
      "[6, 7, 8, 10, 12]\n",
      "['julia', 'juliana', 'João', 'José']\n"
     ]
    }
   ],
   "source": [
    "from math import floor\n",
    "\n",
    "# Ex1\n",
    "precos = [32.4, 34.7, 45.9, 27.2, 81.4]\n",
    "precos_arrendodados = [floor(preco) for preco in precos]\n",
    "print(precos_arrendodados)\n",
    "\n",
    "# Ex2\n",
    "nums = [4, 6, 7, 3, 2, 8, 10, 1, 12]\n",
    "maior_5 = [x for x in nums if x > 5]\n",
    "print(maior_5)\n",
    "\n",
    "# Ex3 \n",
    "nomes = [\"BRENO\", \"RAFAEL\", \"JULIA\", \"JULIANA\", \"JOÃO\", \"DAVID\", \"JOSÉ\"]\n",
    "nomes_j = [n.lower() if n.startswith(\"JU\") else n.title() for n in nomes if n.startswith(\"J\")]\n",
    "print(nomes_j)\n"
   ]
  },
  {
   "cell_type": "code",
   "execution_count": null,
   "metadata": {},
   "outputs": [],
   "source": [
    "# Sua obra de arte aqui\n",
    "resposta = []\n",
    "for _ in resposta:\n",
    "    pass"
   ]
  },
  {
   "cell_type": "markdown",
   "metadata": {},
   "source": [
    "### Exercícios de Compreensões de Listas"
   ]
  },
  {
   "cell_type": "code",
   "execution_count": null,
   "metadata": {},
   "outputs": [
    {
     "name": "stdout",
     "output_type": "stream",
     "text": [
      "[32, 34, 45, 27, 81]\n",
      "[6, 7, 8, 10, 12]\n",
      "['julia', 'juliana', 'João', 'José']\n"
     ]
    }
   ],
   "source": [
    "from math import floor\n",
    "\n",
    "# Ex1\n",
    "# [floor(preco) for preco in precos]\n",
    "precos = [32.4, 34.7, 45.9, 27.2, 81.4]\n",
    "precos_arrendodados = []\n",
    "for preco in precos:\n",
    "    precos_arrendodados.append(floor(preco))\n",
    "\n",
    "print(precos_arrendodados)\n",
    "\n",
    "# Ex2\n",
    "# [x for x in nums if x > 5]\n",
    "nums = [4, 6, 7, 3, 2, 8, 10, 1, 12]\n",
    "maior_5 = []\n",
    "for x in nums:\n",
    "    if x > 5:\n",
    "        maior_5.append(x)\n",
    "\n",
    "print(maior_5)\n",
    "\n",
    "# Ex3 \n",
    "# [n.lower() if n.startswith(\"JU\") else n.title() for n in nomes if n.startswith(\"J\")]\n",
    "nomes = [\"BRENO\", \"RAFAEL\", \"JULIA\", \"JULIANA\", \"JOÃO\", \"DAVID\", \"JOSÉ\"]\n",
    "nomes_j = []\n",
    "for n in nomes:\n",
    "    # Primeiro \"if\" é pra filtrar (o if mais a direita)\n",
    "    if n.startswith(\"J\"): # se começa com J!\n",
    "        # O Segundo é retornar um valor de maneira condicional (o if mais a esquerda)\n",
    "        if n.startswith(\"JU\"):\n",
    "            nomes_j.append(n.lower())\n",
    "        else:\n",
    "            nomes_j.append(n.title()) # esse aqui deixa a primeira letra maiúscula!\n",
    "\n",
    "print(nomes_j)"
   ]
  }
 ],
 "metadata": {
  "kernelspec": {
   "display_name": "Python 3",
   "language": "python",
   "name": "python3"
  },
  "language_info": {
   "codemirror_mode": {
    "name": "ipython",
    "version": 3
   },
   "file_extension": ".py",
   "mimetype": "text/x-python",
   "name": "python",
   "nbconvert_exporter": "python",
   "pygments_lexer": "ipython3",
   "version": "3.10.10"
  },
  "orig_nbformat": 4
 },
 "nbformat": 4,
 "nbformat_minor": 2
}
