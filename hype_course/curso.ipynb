{
 "cells": [
  {
   "attachments": {},
   "cell_type": "markdown",
   "metadata": {},
   "source": [
    "Uma pequena pausa para uma oração antes de nossa codificação"
   ]
  },
  {
   "cell_type": "code",
   "execution_count": 1,
   "metadata": {},
   "outputs": [
    {
     "name": "stdout",
     "output_type": "stream",
     "text": [
      "The Zen of Python, by Tim Peters\n",
      "\n",
      "Beautiful is better than ugly.\n",
      "Explicit is better than implicit.\n",
      "Simple is better than complex.\n",
      "Complex is better than complicated.\n",
      "Flat is better than nested.\n",
      "Sparse is better than dense.\n",
      "Readability counts.\n",
      "Special cases aren't special enough to break the rules.\n",
      "Although practicality beats purity.\n",
      "Errors should never pass silently.\n",
      "Unless explicitly silenced.\n",
      "In the face of ambiguity, refuse the temptation to guess.\n",
      "There should be one-- and preferably only one --obvious way to do it.\n",
      "Although that way may not be obvious at first unless you're Dutch.\n",
      "Now is better than never.\n",
      "Although never is often better than *right* now.\n",
      "If the implementation is hard to explain, it's a bad idea.\n",
      "If the implementation is easy to explain, it may be a good idea.\n",
      "Namespaces are one honking great idea -- let's do more of those!\n"
     ]
    }
   ],
   "source": [
    "import this"
   ]
  },
  {
   "cell_type": "markdown",
   "metadata": {},
   "source": [
    "Traduzindo para as terras tupiniquins, temos:"
   ]
  },
  {
   "cell_type": "code",
   "execution_count": 2,
   "metadata": {},
   "outputs": [],
   "source": [
    "\"\"\"\n",
    "O Zen do Python, por Tim Peters\n",
    "\n",
    "Belo é melhor do que feio.\n",
    "Explícito é melhor do que implícito.\n",
    "Simples é melhor do que complexo.\n",
    "Complexo é melhor do que complicado. \n",
    "Linear é melhor do que aninhado.\n",
    "Esparso é melhor do que denso. \n",
    "Legibilidade é importante.\n",
    "Casos especiais não são especiais o suficiente para quebrar as regras.\n",
    "Mesmo que praticidade ganhe da pureza. \n",
    "Erros nunca deverão passar silenciosamente. \n",
    "A não ser que explicitamente silenciados.\n",
    "Em face da ambiguidade, negue a tentação de adivinhar.\n",
    "Deve haver um-- e preferencialmente apenas um --modo óbvio de ser fazer.\n",
    "Embora esse caminho possa não ser óbvio a princípio, a menos que você seja holandês.\n",
    "Agora é melhor do que nunca.\n",
    "Embora nunca é geralmente melhor do que *exatamente* agora.\n",
    "Se a implementação é díficil de explicar, é uma ideia ruim.\n",
    "Se a implementação é fácil de explicar, pode ser uma boa ideia.\n",
    "Namespaces são uma ideia do caramba-- vamos fazer mais deles!\n",
    "\"\"\";"
   ]
  },
  {
   "attachments": {},
   "cell_type": "markdown",
   "metadata": {},
   "source": [
    "## Parte 1: O Beabá do Python"
   ]
  },
  {
   "attachments": {},
   "cell_type": "markdown",
   "metadata": {},
   "source": [
    "Para o nosso primeiro código, vamos para o clássico Hello World. Que em Python é literalmente uma linha. Não precisa encapsular em uma função como em C ou criar uma classe inteira só pra escrever no console como em Java, só uma função no escopo global e vamo que vamo!"
   ]
  },
  {
   "cell_type": "code",
   "execution_count": 3,
   "metadata": {},
   "outputs": [
    {
     "name": "stdout",
     "output_type": "stream",
     "text": [
      "Hello, World!\n"
     ]
    }
   ],
   "source": [
    "print(\"Hello, World!\")"
   ]
  },
  {
   "attachments": {},
   "cell_type": "markdown",
   "metadata": {},
   "source": [
    "\n",
    "Pra gente instanciar uma variável em C e em Java, a gente faz algo mais ou menos assim né? \n",
    "\n",
    "```\n",
    "int numero = 42;\n",
    "String string = \"Hello, World!\"\n",
    "int [] lista = { 1, 2, 3, 4 } \n",
    "```\n",
    "\n",
    "Em python é mais fácil, uma vez que é uma linguagem de **Tipagem Dinâmica**, isso é, você não precisa dizer explicitamente qual \n",
    "o tipo da variável, porque o interpretador vai fazer isso por você."
   ]
  },
  {
   "cell_type": "code",
   "execution_count": 4,
   "metadata": {},
   "outputs": [
    {
     "name": "stdout",
     "output_type": "stream",
     "text": [
      "42  -  Hello, World!  -  [1, 2, 3, 4]\n"
     ]
    }
   ],
   "source": [
    "numero = 42\n",
    "string = \"Hello, World!\"\n",
    "lista = [1, 2, 3, 4]\n",
    "\n",
    "print(numero, \" - \", string, \" - \", lista)"
   ]
  },
  {
   "attachments": {},
   "cell_type": "markdown",
   "metadata": {},
   "source": [
    "Mas se quiser ter *absoluta* certeza do tipo da váriavel, você pode passá-la para um função de conversão:"
   ]
  },
  {
   "cell_type": "code",
   "execution_count": 1,
   "metadata": {},
   "outputs": [
    {
     "name": "stdout",
     "output_type": "stream",
     "text": [
      "20\n"
     ]
    }
   ],
   "source": [
    "nao_numero = int(\"10\")\n",
    "numero = int(10)  \n",
    "\n",
    "# São do mesmo tipo\n",
    "print(nao_numero + numero) \n",
    "\n",
    "# Você pode fazer isso com vários tipos de dados\n",
    "str() # Para Strings\n",
    "float() # Para floats (números reais)\n",
    "list() # Para listas\n",
    "tuple(); # Para tuplas"
   ]
  },
  {
   "attachments": {},
   "cell_type": "markdown",
   "metadata": {},
   "source": [
    "Ou ainda pode também checar o tipo da váriavel (mas geralmente uma boa estrutura de código e nome de váriavel já diz qual o tipo dela)"
   ]
  },
  {
   "cell_type": "code",
   "execution_count": 6,
   "metadata": {},
   "outputs": [
    {
     "data": {
      "text/plain": [
       "(str, int, float)"
      ]
     },
     "execution_count": 6,
     "metadata": {},
     "output_type": "execute_result"
    }
   ],
   "source": [
    "# Você consegue instanciar várias variáveis em uma linha!\n",
    "string, numero, numero_real = \"Python é Maneiro!\", 42, 35.98\n",
    "\n",
    "type(string), type(numero), type(numero_real)"
   ]
  },
  {
   "attachments": {},
   "cell_type": "markdown",
   "metadata": {},
   "source": [
    "Como toda boa linguagem de programação, temos os operadores aritméticos comuns como: adição, substração, multiplicação, divisão, etc."
   ]
  },
  {
   "cell_type": "code",
   "execution_count": 7,
   "metadata": {},
   "outputs": [
    {
     "name": "stdout",
     "output_type": "stream",
     "text": [
      "3 + 2 =  5\n",
      "3 - 2 =  1\n",
      "3 * 2 =  6\n",
      "3 / 2 =  1.5\n",
      "3 // 2 =  1\n",
      "3 ** 2 =  9\n",
      "3 % 2 =  1\n"
     ]
    }
   ],
   "source": [
    "a, b = 3, 2\n",
    "\n",
    "# Não se preocupe com o \"f\" na frente da string, vamos falar disso mais para frente\n",
    "print(f\"{a} + {b} = \", a + b )  # Adição\n",
    "print(f\"{a} - {b} = \", a - b)   # Subtração\n",
    "print(f\"{a} * {b} = \", a * b)   # Multiplicação\n",
    "print(f\"{a} / {b} = \", a / b)   # Divisão\n",
    "print(f\"{a} // {b} = \", a // b) # Divisão com arredondamento para baixo (pode ser usado também com a função math.floor(<equação>))\n",
    "print(f\"{a} ** {b} = \", a ** b) # Exponenciação (pode ser usado também com a função math.pow())\n",
    "print(f\"{a} % {b} = \", a % b)   # Módulo"
   ]
  },
  {
   "cell_type": "markdown",
   "metadata": {},
   "source": [
    "Também temos o operador de autoreferência em operações no python, porém por questões de design de linguagem, não temos o famoso operador de autoincremento \"a++\" ou \"a--\"."
   ]
  },
  {
   "cell_type": "code",
   "execution_count": 8,
   "metadata": {},
   "outputs": [],
   "source": [
    "a, b = 3, 2\n",
    "\n",
    "# Equivalente => a = a + b\n",
    "a += b \n",
    "a -= b\n",
    "a *= b\n",
    "a /= b\n",
    "a //= b\n",
    "a **= b\n",
    "a %= b"
   ]
  },
  {
   "attachments": {},
   "cell_type": "markdown",
   "metadata": {},
   "source": [
    "Assim como nós podemos usar esses operadores em números, alguns deles nós podemos usar em textos"
   ]
  },
  {
   "cell_type": "code",
   "execution_count": 9,
   "metadata": {},
   "outputs": [
    {
     "name": "stdout",
     "output_type": "stream",
     "text": [
      "Python é Maneiro!\n",
      "Python Python Python \n",
      "Python  é maneiro\n"
     ]
    }
   ],
   "source": [
    "str1, str2, str3 = \"Python \", \"é \", \"Maneiro!\"\n",
    "\n",
    "print(str1 + str2 + str3)    # Concatenação de Strings (Só funciona se todos os operandos forem string!)\n",
    "print(str1 * 3)              # Repetição de string (Um dos operandos tem de ser um número inteiro!)\n",
    "print(\"%s é maneiro\" % str1) # Formatação de String (vamos ver outros exemplos mais para frente)"
   ]
  },
  {
   "attachments": {},
   "cell_type": "markdown",
   "metadata": {},
   "source": [
    "Podemos usar em listas também!"
   ]
  },
  {
   "cell_type": "code",
   "execution_count": 10,
   "metadata": {},
   "outputs": [
    {
     "name": "stdout",
     "output_type": "stream",
     "text": [
      "[1, 2, 3, 4, 5, 6]\n",
      "[1, 2, 3, 1, 2, 3, 1, 2, 3]\n"
     ]
    }
   ],
   "source": [
    "lista1, lista2 = [1, 2, 3], [4, 5, 6]\n",
    "\n",
    "print(lista1 + lista2) # Concatenação de Listas (Só funciona se todos os operandos forem uma lista!)\n",
    "print(lista1 * 3)      # Repetição de Lista (Um dos operandos tem de ser um número inteiro!)"
   ]
  },
  {
   "cell_type": "markdown",
   "metadata": {},
   "source": [
    "# Parte 2: Condicionais"
   ]
  },
  {
   "cell_type": "markdown",
   "metadata": {},
   "source": [
    "Para controlar o fluxo de execução num programa Python nós temos os condicionais."
   ]
  },
  {
   "cell_type": "code",
   "execution_count": 4,
   "metadata": {},
   "outputs": [
    {
     "name": "stdout",
     "output_type": "stream",
     "text": [
      "Passou!\n"
     ]
    }
   ],
   "source": [
    "# Os valores True e False *devem* ser escritos com a primeira letra maiúscula\n",
    "# Senão serão tratados como uma variável\n",
    "control = True\n",
    "\n",
    "if control: # equivalente a control == True\n",
    "    print(\"Passou o if!\")\n",
    "elif:\n",
    "    print(\"Passou o else!\")"
   ]
  },
  {
   "cell_type": "markdown",
   "metadata": {},
   "source": [
    "Para fazermos um \"else if\" em python temos uma keyword especifica, o \"elif\". Interessante notar que em python nós usamos os nomes dos operandos \"and\", \"or\" e \"not\", e não os símbolos \"||\", \"&&\" e \"!\". "
   ]
  },
  {
   "cell_type": "code",
   "execution_count": 15,
   "metadata": {},
   "outputs": [
    {
     "name": "stdout",
     "output_type": "stream",
     "text": [
      "Você é um idoso!\n"
     ]
    }
   ],
   "source": [
    "idade = 100\n",
    "\n",
    "if not idade > 18 and idade > 0:\n",
    "    print(\"Você é um menor de idade!\")\n",
    "elif idade >= 18 and not idade > 60:\n",
    "    print(\"Você é um adulto!\")\n",
    "else:\n",
    "    print(\"Você é um idoso!\")"
   ]
  },
  {
   "cell_type": "markdown",
   "metadata": {},
   "source": [
    "Para combinar vários checagens lógicas, podemos aninhar com parênteses."
   ]
  },
  {
   "cell_type": "code",
   "execution_count": null,
   "metadata": {},
   "outputs": [],
   "source": [
    "\n",
    "\n",
    "if idade < 18 and (peso > )"
   ]
  },
  {
   "cell_type": "markdown",
   "metadata": {},
   "source": [
    "# Parte 4: Loops"
   ]
  },
  {
   "cell_type": "code",
   "execution_count": null,
   "metadata": {},
   "outputs": [],
   "source": []
  },
  {
   "cell_type": "markdown",
   "metadata": {},
   "source": [
    "# Parte X: Iteráveis e Loops"
   ]
  },
  {
   "cell_type": "markdown",
   "metadata": {},
   "source": [
    "Curiosamente, em python não existem arrays embutidos nativamente. Já que por definição, um array é um bloco de memória *contínuo* que pode armazenar múltiplos valores, sendo que seu tamanho é imutável e os valores aramazenados são do mesmo tipo. "
   ]
  },
  {
   "cell_type": "markdown",
   "metadata": {},
   "source": [
    "\n",
    "Contudo, há uma biblioteca padrão que implementa arrays. Ou como alternativa mais completa, pode se utilizar arrays da biblioteca NumPy, que vem com várias utilidades para manipulá-las. (Mas estamos dando spoilers aqui hehe)"
   ]
  },
  {
   "cell_type": "code",
   "execution_count": 1,
   "metadata": {},
   "outputs": [
    {
     "data": {
      "text/plain": [
       "array([1, 2, 3, 4, 5, 6])"
      ]
     },
     "execution_count": 1,
     "metadata": {},
     "output_type": "execute_result"
    }
   ],
   "source": [
    "import numpy as np\n",
    "\n",
    "array = np.array([1, 2, 3, 4, 5, 6])\n",
    "array"
   ]
  },
  {
   "cell_type": "markdown",
   "metadata": {},
   "source": [
    "Em python temos ao invés listas, que são, como o nome indica, listas de valores de tamanho variável e que podem armazenar quaisquer valores dentro. Tecnicamente não são como arrays, mas por razões de brevidade e didática, vamos tratar como a mesma coisa."
   ]
  },
  {
   "cell_type": "code",
   "execution_count": 3,
   "metadata": {},
   "outputs": [
    {
     "data": {
      "text/plain": [
       "['Python', 42, {'Um', 'de', 'exemplo', 'set'}, 22.34]"
      ]
     },
     "execution_count": 3,
     "metadata": {},
     "output_type": "execute_result"
    }
   ],
   "source": [
    "# Pode ser instanciado assim:\n",
    "lista = list()\n",
    "# ou assim:\n",
    "lista = []\n",
    "\n",
    "# \".append\" adiciona um elemento no final de uma lista\n",
    "lista.append(\"Python\")\n",
    "lista.append(42)\n",
    "lista.append({ \"Um\", \"exemplo\", \"de\", \"set\"})\n",
    "lista.append(22.34)\n",
    "lista # vários tipos de dados num mesmo lugar!"
   ]
  },
  {
   "cell_type": "markdown",
   "metadata": {},
   "source": [
    "Uma das maneiras mais clássicas de se lidar com arrays, são com loops de repetição! E em python eles são um pouco diferentes. Temos o nosso famoso \"while\":"
   ]
  },
  {
   "cell_type": "code",
   "execution_count": 5,
   "metadata": {},
   "outputs": [
    {
     "name": "stdout",
     "output_type": "stream",
     "text": [
      "Python\n",
      "42\n",
      "{'de', 'set', 'exemplo', 'Um'}\n",
      "22.34\n"
     ]
    }
   ],
   "source": [
    "# len() retorna o tamanho o iterável que você passar\n",
    "length = len(lista)\n",
    "i = 0\n",
    "\n",
    "while i < length:\n",
    "    print(lista[i])\n",
    "    i += 1"
   ]
  },
  {
   "cell_type": "markdown",
   "metadata": {},
   "source": [
    "Porém eles são pouquíssimo usados em python, já que o loop \"for\" tem tantas ferramentas para iterar por listas e tuplas, que torna torna o while quase obsoleto (mas ainda tem seu uso.) \n",
    "\n",
    "A sintaxe do for em python é um pouco diferente do que das outras linguagens de programação, vamos aprender:"
   ]
  },
  {
   "cell_type": "code",
   "execution_count": 7,
   "metadata": {},
   "outputs": [
    {
     "name": "stdout",
     "output_type": "stream",
     "text": [
      "Manga\n",
      "Banana\n",
      "Laranja\n",
      "Maçã\n",
      "Romã\n",
      "Pera\n",
      "Tomate\n",
      "Abacaxi\n",
      "\n",
      "\tPulando de dois em dois: \n",
      "\n",
      "Manga\n",
      "Laranja\n",
      "Romã\n",
      "Tomate\n",
      "\n",
      "\tfor simplificado: \n",
      "\n",
      "Manga\n",
      "Banana\n",
      "Laranja\n",
      "Maçã\n",
      "Romã\n",
      "Pera\n",
      "Tomate\n",
      "Abacaxi\n"
     ]
    }
   ],
   "source": [
    "lista1 = [\"Breno\", \"Enzo\", \"Igor\", \"Júlia\", \"Natália\", \"Mayara\"]\n",
    "lista2 = [\"Manga\", \"Banana\", \"Laranja\", \"Maçã\", \"Romã\", \"Pera\", \"Tomate\", \"Abacaxi\"]\n",
    "\n",
    "# Equivalente ao seguinte:\n",
    "# for (int indice = 0; indice < 8; indice++) { print() }\n",
    "for indice in range(0, 8, 1):\n",
    "    print(lista2[indice])\n",
    "\n",
    "print(\"\\n\\tPulando de dois em dois: \\n\")\n",
    "\n",
    "# Igual a um => for(int indice = 0; indice < lista2.length; indice += 2)\n",
    "for indice in range(0, len(lista2), 2):\n",
    "    print(lista2[indice])\n",
    "\n",
    "\n",
    "print(\"\\n\\tfor simplificado: \\n\")\n",
    "\n",
    "# O primeiro for pode ser simplificado assim:\n",
    "for indice in range(len(lista2)):\n",
    "    print(lista2[indice])\n"
   ]
  },
  {
   "cell_type": "markdown",
   "metadata": {},
   "source": [
    "Apesar de existir todos essas maneiras de usar o for, a que você mais vai usar é passando um iterável (lista, tupla, um Dataframe Pandas, etc) diretamente para o for. Mas saiba dessas outras maneiras, pois nem sempre passar direto o iterável vai resolver o seu problema."
   ]
  },
  {
   "cell_type": "code",
   "execution_count": 8,
   "metadata": {},
   "outputs": [
    {
     "name": "stdout",
     "output_type": "stream",
     "text": [
      "Manga\n",
      "Banana\n",
      "Laranja\n",
      "Maçã\n",
      "Romã\n",
      "Pera\n",
      "Tomate\n",
      "Abacaxi\n"
     ]
    }
   ],
   "source": [
    "# ele retorna o elemento em si, não seu índice\n",
    "for elemento in lista2:\n",
    "    print(elemento)"
   ]
  },
  {
   "cell_type": "markdown",
   "metadata": {},
   "source": [
    "E pra ajudar a usar o for, temos várias funções nativas que fazem manipulações antes de passarmos pro loop. \n",
    "\n",
    "Como por exemplo o zip(), que como o nome diz, \"zipa\" duas listas juntas e retorna os elementos em um indíce específico juntos."
   ]
  },
  {
   "cell_type": "code",
   "execution_count": 10,
   "metadata": {},
   "outputs": [
    {
     "name": "stdout",
     "output_type": "stream",
     "text": [
      "Breno gosta de Manga\n",
      "Enzo gosta de Banana\n",
      "Igor gosta de Laranja\n",
      "Júlia gosta de Maçã\n",
      "Natália gosta de Romã\n",
      "Mayara gosta de Pera\n"
     ]
    }
   ],
   "source": [
    "# como uma lista é maior que a outra, ele zipa com o numero de elementos da lista menor (a de nomes nesse caso)\n",
    "lista1 = [\"Breno\", \"Enzo\", \"Igor\", \"Júlia\", \"Natália\", \"Mayara\"]\n",
    "lista2 = [\"Manga\", \"Banana\", \"Laranja\", \"Maçã\", \"Romã\", \"Pera\", \"Tomate\", \"Abacaxi\"]\n",
    "\n",
    "\n",
    "for nome, fruta in zip(lista1, lista2):\n",
    "    print(f\"{nome} gosta de {fruta}\")"
   ]
  },
  {
   "cell_type": "markdown",
   "metadata": {},
   "source": [
    "O enumerate() faz algo parecido, mas ele retorna ao invés o índice de um elemento junto do conteúdo naquele índice."
   ]
  },
  {
   "cell_type": "code",
   "execution_count": 12,
   "metadata": {},
   "outputs": [
    {
     "name": "stdout",
     "output_type": "stream",
     "text": [
      "Breno está no índice 0\n",
      "Enzo está no índice 1\n",
      "Igor está no índice 2\n",
      "Júlia está no índice 3\n",
      "Natália está no índice 4\n",
      "Mayara está no índice 5\n"
     ]
    }
   ],
   "source": [
    "for indice, nome in enumerate(lista1):\n",
    "    print(f\"{nome} está no índice {indice}\")"
   ]
  },
  {
   "cell_type": "markdown",
   "metadata": {},
   "source": [
    "Uma curiosidade interessante é que uma string é reconhecida pelo Python como uma lista de caracteres, portanto, um iterável!"
   ]
  },
  {
   "cell_type": "code",
   "execution_count": 11,
   "metadata": {},
   "outputs": [
    {
     "name": "stdout",
     "output_type": "stream",
     "text": [
      "P - y - t - h - o - n - "
     ]
    }
   ],
   "source": [
    "string = \"Python\"\n",
    "for char in string:\n",
    "    print(char, end=\" - \")"
   ]
  },
  {
   "cell_type": "markdown",
   "metadata": {},
   "source": [
    "Compreensões são uma técnica para criar listas baseadas em um lista \"mãe\", de uma maneira bastante resumida. Tem uma sintaxe um pouco estranha a primeira vista, mas é extremamente útil."
   ]
  },
  {
   "cell_type": "code",
   "execution_count": 28,
   "metadata": {},
   "outputs": [
    {
     "name": "stdout",
     "output_type": "stream",
     "text": [
      "[1, 1, 1, 1, 1, 0, 1, 0, 0, 1, 0]\n"
     ]
    },
    {
     "data": {
      "text/plain": [
       "[1, 1, 1, 1, 1, 0, 1, 0, 0, 1, 0]"
      ]
     },
     "execution_count": 28,
     "metadata": {},
     "output_type": "execute_result"
    }
   ],
   "source": [
    "# Vamos transformar isso em 1's e 0's\n",
    "booleans = [True, True, True, True, True, False, True, False, False, True, False]\n",
    "\n",
    "# Parece complicado né?\n",
    "numericos = [1 if bool else 0 for bool in booleans]\n",
    "print(numericos)\n",
    "\n",
    "# Mas é exatamente a mesma coisa que escrever isso:\n",
    "numericos = []\n",
    "for bool in booleans:\n",
    "    if bool: # se \"bool\" é igual a True\n",
    "        numericos.append(1)\n",
    "    else:\n",
    "        numericos.append(0)\n",
    "\n",
    "# Unica coisa é que na compreensão o if fica na \"frente\" do for, e aqui é o contrário\n",
    "# Mas o resultado é o mesmo\n",
    "numericos"
   ]
  },
  {
   "cell_type": "markdown",
   "metadata": {},
   "source": [
    "Compreensões são um tanto díficeis de entender à primeira vista, então pra você ficar fera, analise essas outras, e tente achar o código correspondente **(respostas no final do notebook)** "
   ]
  },
  {
   "cell_type": "code",
   "execution_count": 33,
   "metadata": {},
   "outputs": [
    {
     "name": "stdout",
     "output_type": "stream",
     "text": [
      "[32, 34, 45, 27, 81]\n",
      "[6, 7, 8, 10, 12]\n",
      "['julia', 'juliana', 'João', 'José']\n"
     ]
    }
   ],
   "source": [
    "from math import floor\n",
    "\n",
    "# Ex1\n",
    "precos = [32.4, 34.7, 45.9, 27.2, 81.4]\n",
    "precos_arrendodados = [floor(preco) for preco in precos]\n",
    "print(precos_arrendodados)\n",
    "\n",
    "# Ex2\n",
    "nums = [4, 6, 7, 3, 2, 8, 10, 1, 12]\n",
    "maior_5 = [x for x in nums if x > 5]\n",
    "print(maior_5)\n",
    "\n",
    "# Ex3 \n",
    "nomes = [\"BRENO\", \"RAFAEL\", \"JULIA\", \"JULIANA\", \"JOÃO\", \"DAVID\", \"JOSÉ\"]\n",
    "nomes_j = [n.lower() if n.startswith(\"JU\") else n.title() for n in nomes if n.startswith(\"J\")]\n",
    "print(nomes_j)\n"
   ]
  },
  {
   "cell_type": "code",
   "execution_count": null,
   "metadata": {},
   "outputs": [],
   "source": [
    "# Sua obra de arte aqui\n",
    "resposta = []\n",
    "for _ in resposta:\n",
    "    pass"
   ]
  },
  {
   "cell_type": "markdown",
   "metadata": {},
   "source": [
    "# Parte 3: Funções"
   ]
  },
  {
   "cell_type": "markdown",
   "metadata": {},
   "source": [
    "Funções são uma parte fundamental de qualquer linguagem, mas em Python elas brilham. Trabalhar com funções é tão flexível e dinâmico que muitas vezes parece até mágica! Vamos ver um exemplo de função:"
   ]
  },
  {
   "cell_type": "code",
   "execution_count": 19,
   "metadata": {},
   "outputs": [
    {
     "name": "stdout",
     "output_type": "stream",
     "text": [
      "Hello, everybody :)\n"
     ]
    }
   ],
   "source": [
    "# Estrutura:\n",
    "# def <nome> (<parametros>):\n",
    "def say_hello():\n",
    "    print(\"Hello, everybody :)\")\n",
    "\n",
    "say_hello()\n"
   ]
  },
  {
   "cell_type": "markdown",
   "metadata": {},
   "source": [
    "Uma função geralmente recebe argumentos (ou parâmetros), que são informações que são repassadas para o escopo da função para serem processadas. Em python, um parâmetro pode receber qualquer coisa, cabe ao programador fazer a limpeza da informação e garantir que está no formato que ele queira."
   ]
  },
  {
   "cell_type": "code",
   "execution_count": null,
   "metadata": {},
   "outputs": [],
   "source": [
    "def print_subtraction(a, b):\n",
    "    print(f\"{a} - {b} = {a - b}\")"
   ]
  },
  {
   "cell_type": "markdown",
   "metadata": {},
   "source": [
    "# Parte X: As partes um pouco mais profundas"
   ]
  },
  {
   "cell_type": "markdown",
   "metadata": {},
   "source": [
    "Lambdas (não o serviço da AWS) são nada mais, nada menos do que funções que não tem nome, ou funções anônimas como você pode conhecê-las. Mas para que serve uma função que nem nome tem? \n",
    "\n",
    "Vamos pensar o seguinte: Eu quero criar um comparador de preços de um produto, mas não quero ficar fazendo o código toda hora que vou comparar usando uma métrica diferente. Então podemos criar uma função, e dentro dela pedir que o usuário mande uma função que vai definir como a gente vai comparar os produtos, assim ó:"
   ]
  },
  {
   "cell_type": "code",
   "execution_count": 18,
   "metadata": {},
   "outputs": [
    {
     "name": "stdout",
     "output_type": "stream",
     "text": [
      "27.2\n"
     ]
    }
   ],
   "source": [
    "# Vai fazer o nosso comparador retornar o menor preço\n",
    "def menor_preco(a, b):\n",
    "    return a < b\n",
    "\n",
    "# Vai fazer o nosso comparador retornar o maior preço\n",
    "def maior_preco(a, b):\n",
    "    return a > b\n",
    "\n",
    "# Comparador de preços\n",
    "def comparar_precos(precos, compara):\n",
    "    alvo = precos[0]\n",
    "    for preco in precos:\n",
    "        if not compara(alvo, preco):\n",
    "            alvo = preco\n",
    "\n",
    "    return alvo\n",
    "\n",
    "precos = [32.4, 34.7, 45.9, 27.2, 81.4]\n",
    "print(comparar_precos(precos, menor_preco))\n"
   ]
  },
  {
   "cell_type": "markdown",
   "metadata": {},
   "source": [
    "Funciona, mas é só uma linha de código que a gente usa pra comparar, é um despedício de tempo criar uma função só pra isso, então criamos um lambda! Uma vez que ela de retornar alguma expressão, ela é perfeita para esse trabalho."
   ]
  },
  {
   "cell_type": "code",
   "execution_count": 26,
   "metadata": {},
   "outputs": [
    {
     "name": "stdout",
     "output_type": "stream",
     "text": [
      "81.4\n"
     ]
    },
    {
     "data": {
      "text/plain": [
       "27.2"
      ]
     },
     "execution_count": 26,
     "metadata": {},
     "output_type": "execute_result"
    }
   ],
   "source": [
    "# Podemos colocar ela numa variável e repassar ela pra função\n",
    "lamb_maior = lambda a, b: a > b\n",
    "print(comparar_precos(precos, lamb_maior))\n",
    "\n",
    "# Ou passar direto pra função que criamos.\n",
    "comparar_precos(precos, lambda a, b: a < b)"
   ]
  },
  {
   "cell_type": "markdown",
   "metadata": {},
   "source": [
    "# Parte X: Resoluções"
   ]
  },
  {
   "cell_type": "markdown",
   "metadata": {},
   "source": [
    "### Exercícios de Compreensões de Listas"
   ]
  },
  {
   "cell_type": "code",
   "execution_count": 35,
   "metadata": {},
   "outputs": [
    {
     "name": "stdout",
     "output_type": "stream",
     "text": [
      "[32, 34, 45, 27, 81]\n",
      "[6, 7, 8, 10, 12]\n",
      "['julia', 'juliana', 'João', 'José']\n"
     ]
    }
   ],
   "source": [
    "from math import floor\n",
    "\n",
    "# Ex1\n",
    "precos = [32.4, 34.7, 45.9, 27.2, 81.4]\n",
    "precos_arrendodados = []\n",
    "for preco in precos:\n",
    "    precos_arrendodados.append(floor(preco))\n",
    "\n",
    "print(precos_arrendodados)\n",
    "\n",
    "# Ex2\n",
    "nums = [4, 6, 7, 3, 2, 8, 10, 1, 12]\n",
    "maior_5 = []\n",
    "for x in nums:\n",
    "    if x > 5:\n",
    "        maior_5.append(x)\n",
    "\n",
    "print(maior_5)\n",
    "\n",
    "# Ex3 \n",
    "nomes = [\"BRENO\", \"RAFAEL\", \"JULIA\", \"JULIANA\", \"JOÃO\", \"DAVID\", \"JOSÉ\"]\n",
    "nomes_j = []\n",
    "for n in nomes:\n",
    "    # Primeiro \"if\" é pra filtrar (o if mais a direita)\n",
    "    if n.startswith(\"J\"): # se começa com J!\n",
    "        # O Segundo é retornar um valor de maneira condicional (o if mais a esquerda)\n",
    "        if n.startswith(\"JU\"):\n",
    "            nomes_j.append(n.lower())\n",
    "        else:\n",
    "            nomes_j.append(n.title()) # esse aqui deixa a primeira letra maiúscula!\n",
    "\n",
    "print(nomes_j)\n"
   ]
  }
 ],
 "metadata": {
  "kernelspec": {
   "display_name": "Python 3",
   "language": "python",
   "name": "python3"
  },
  "language_info": {
   "codemirror_mode": {
    "name": "ipython",
    "version": 3
   },
   "file_extension": ".py",
   "mimetype": "text/x-python",
   "name": "python",
   "nbconvert_exporter": "python",
   "pygments_lexer": "ipython3",
   "version": "3.10.12"
  },
  "orig_nbformat": 4
 },
 "nbformat": 4,
 "nbformat_minor": 2
}
