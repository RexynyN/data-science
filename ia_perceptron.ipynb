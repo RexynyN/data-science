{
 "cells": [
  {
   "cell_type": "code",
   "execution_count": 135,
   "metadata": {},
   "outputs": [
    {
     "data": {
      "text/html": [
       "<div>\n",
       "<style scoped>\n",
       "    .dataframe tbody tr th:only-of-type {\n",
       "        vertical-align: middle;\n",
       "    }\n",
       "\n",
       "    .dataframe tbody tr th {\n",
       "        vertical-align: top;\n",
       "    }\n",
       "\n",
       "    .dataframe thead th {\n",
       "        text-align: right;\n",
       "    }\n",
       "</style>\n",
       "<table border=\"1\" class=\"dataframe\">\n",
       "  <thead>\n",
       "    <tr style=\"text-align: right;\">\n",
       "      <th></th>\n",
       "      <th>x1</th>\n",
       "      <th>x2</th>\n",
       "      <th>y</th>\n",
       "    </tr>\n",
       "  </thead>\n",
       "  <tbody>\n",
       "    <tr>\n",
       "      <th>0</th>\n",
       "      <td>0</td>\n",
       "      <td>0</td>\n",
       "      <td>0</td>\n",
       "    </tr>\n",
       "    <tr>\n",
       "      <th>1</th>\n",
       "      <td>0</td>\n",
       "      <td>1</td>\n",
       "      <td>1</td>\n",
       "    </tr>\n",
       "    <tr>\n",
       "      <th>2</th>\n",
       "      <td>1</td>\n",
       "      <td>0</td>\n",
       "      <td>1</td>\n",
       "    </tr>\n",
       "    <tr>\n",
       "      <th>3</th>\n",
       "      <td>1</td>\n",
       "      <td>1</td>\n",
       "      <td>1</td>\n",
       "    </tr>\n",
       "  </tbody>\n",
       "</table>\n",
       "</div>"
      ],
      "text/plain": [
       "   x1  x2  y\n",
       "0   0   0  0\n",
       "1   0   1  1\n",
       "2   1   0  1\n",
       "3   1   1  1"
      ]
     },
     "execution_count": 135,
     "metadata": {},
     "output_type": "execute_result"
    }
   ],
   "source": [
    "import pandas as pd \n",
    "import numpy as np\n",
    "import matplotlib.pyplot as plt"
   ]
  },
  {
   "cell_type": "code",
   "execution_count": 136,
   "metadata": {},
   "outputs": [],
   "source": [
    "# Função de Ativação de Degrau com Limiar, será o padrão para o nosso Perceptron\n",
    "def activation_step_limit(x, limit):\n",
    "    # Se for maior que o limiar, 1, se não, 0\n",
    "    return np.where(x >= limit , 1, 0)\n",
    "\n",
    "# Classe implementando o perceptron\n",
    "class Perceptron:\n",
    "    def __init__(self, learning_rate=0.01, n_iters=20, limit=0.5, func=activation_step_limit):\n",
    "        self.lr = learning_rate\n",
    "        self.n_iters = n_iters\n",
    "        self.activation_func = func\n",
    "        self.weights = None\n",
    "        self.bias = None\n",
    "        self.limit = limit\n",
    "\n",
    "    def pprint_equation(self):\n",
    "        string = 'NET => '\n",
    "        for index, i in enumerate(self.weights):\n",
    "            string += f\"x{index+1}*{i:.2f} + \"\n",
    "        \n",
    "        return string + f\"{self.bias:.2f}\"\n",
    "    \n",
    "    # Método de treinamento do modelo\n",
    "    def fit(self, X, y):\n",
    "        # Pega o número de colunas no dataset\n",
    "        _, n_features = X.shape\n",
    "\n",
    "        # Inicializa os pesos de cada coluna e o bias com zeros\n",
    "        self.weights = np.zeros(n_features)\n",
    "        self.bias = 0\n",
    "\n",
    "        # Aprende os pesos iterando por n épocas\n",
    "        for epoch in range(self.n_iters):\n",
    "            # Lógica de cada \n",
    "            for index, x_i in enumerate(X):\n",
    "                # Faz o cálculo da equação net linear \n",
    "                net = np.dot(x_i, self.weights) + self.bias\n",
    "\n",
    "                # Passa pela função de ativação\n",
    "                y_predicted = self.activation_func(net, self.limit)\n",
    "\n",
    "                # Atualiza os pesos e o bias usando a regra de derivadas  \n",
    "                update = self.lr * (y[index] - y_predicted)\n",
    "                self.weights += update * x_i\n",
    "                self.bias += update\n",
    "        \n",
    "            print(f\"Época {epoch + 1}: {self.pprint_equation()}\")\n",
    "\n",
    "        print(f\"Equação final: {self.pprint_equation()}\")\n",
    "\n",
    "\n",
    "    def predict(self, X):\n",
    "        # Usando os pesos w e o bias computados, cria um net linear dos dados\n",
    "        net = np.dot(X, self.weights) + self.bias\n",
    "\n",
    "        # Passa os net's para a função de ativação para classificar e retorna\n",
    "        y = self.activation_func(net, self.limit)\n",
    "        return y"
   ]
  },
  {
   "attachments": {},
   "cell_type": "markdown",
   "metadata": {},
   "source": [
    "## Parte 1: Dataset \"ou\""
   ]
  },
  {
   "cell_type": "code",
   "execution_count": null,
   "metadata": {},
   "outputs": [],
   "source": [
    "# Cria o dataset do operador lógico \"OU\"\n",
    "or_data = pd.DataFrame({\n",
    "    \"x1\" : [0,0,1,1],\n",
    "    \"x2\" : [0,1,0,1],\n",
    "    \"y\" : [0,1,1,1]\n",
    "})\n",
    "\n",
    "or_data"
   ]
  },
  {
   "cell_type": "code",
   "execution_count": 137,
   "metadata": {},
   "outputs": [
    {
     "name": "stdout",
     "output_type": "stream",
     "text": [
      "Época 1: NET => x1*0.02 + x2*0.02 + 0.03\n",
      "Época 2: NET => x1*0.04 + x2*0.04 + 0.06\n",
      "Época 3: NET => x1*0.06 + x2*0.06 + 0.09\n",
      "Época 4: NET => x1*0.08 + x2*0.08 + 0.12\n",
      "Época 5: NET => x1*0.10 + x2*0.10 + 0.15\n",
      "Época 6: NET => x1*0.12 + x2*0.12 + 0.18\n",
      "Época 7: NET => x1*0.14 + x2*0.14 + 0.21\n",
      "Época 8: NET => x1*0.15 + x2*0.15 + 0.23\n",
      "Época 9: NET => x1*0.16 + x2*0.16 + 0.25\n",
      "Época 10: NET => x1*0.17 + x2*0.17 + 0.27\n",
      "Época 11: NET => x1*0.18 + x2*0.18 + 0.29\n",
      "Época 12: NET => x1*0.19 + x2*0.19 + 0.31\n",
      "Época 13: NET => x1*0.19 + x2*0.19 + 0.31\n",
      "Época 14: NET => x1*0.19 + x2*0.19 + 0.31\n",
      "Época 15: NET => x1*0.19 + x2*0.19 + 0.31\n",
      "Época 16: NET => x1*0.19 + x2*0.19 + 0.31\n",
      "Época 17: NET => x1*0.19 + x2*0.19 + 0.31\n",
      "Época 18: NET => x1*0.19 + x2*0.19 + 0.31\n",
      "Época 19: NET => x1*0.19 + x2*0.19 + 0.31\n",
      "Época 20: NET => x1*0.19 + x2*0.19 + 0.31\n",
      "Equação final: NET => x1*0.19 + x2*0.19 + 0.31\n"
     ]
    }
   ],
   "source": [
    "# Instancia o modelo\n",
    "perc = Perceptron()\n",
    "\n",
    "# Treina o modelo com o dataset \"or\"\n",
    "perc.fit(or_data[[\"x1\", \"x2\"]].to_numpy(), or_data[\"y\"].to_numpy())"
   ]
  },
  {
   "cell_type": "code",
   "execution_count": 138,
   "metadata": {},
   "outputs": [
    {
     "name": "stdout",
     "output_type": "stream",
     "text": [
      "0 OU 0 == 0? <True>\n",
      "1 OU 1 == 1? <True>\n",
      "0 OU 0 == 0? <True>\n",
      "0 OU 1 == 1? <True>\n",
      "0 OU 0 == 0? <True>\n",
      "1 OU 1 == 1? <True>\n",
      "0 OU 0 == 0? <True>\n",
      "1 OU 0 == 1? <True>\n",
      "0 OU 1 == 1? <True>\n",
      "1 OU 0 == 1? <True>\n",
      "1 OU 1 == 1? <True>\n",
      "1 OU 1 == 1? <True>\n",
      "0 OU 0 == 0? <True>\n",
      "0 OU 0 == 0? <True>\n",
      "1 OU 1 == 1? <True>\n",
      "0 OU 1 == 1? <True>\n"
     ]
    }
   ],
   "source": [
    "from random import randint\n",
    "\n",
    "def randomizer():\n",
    "    return 1 if randint(0, 10) % 2 == 0 else 0\n",
    "\n",
    "# Cria um dataset de teste\n",
    "def create_or():\n",
    "    images = []\n",
    "    for _ in range(16):\n",
    "        images.append([randomizer() for _ in range(2)])\n",
    "    \n",
    "    return np.asarray(images)\n",
    "\n",
    "# Cria testes\n",
    "X_test = create_or()\n",
    "\n",
    "# Faz a predição usando o perceptron\n",
    "predictions = perc.predict(X_test)\n",
    "\n",
    "# Tirar a prova de que o modelo está funcionando\n",
    "for i, j in zip(X_test, predictions):\n",
    "    print(f\"{i[0]} OU {i[1]} == {j}?\", end=\" <\")\n",
    "    # Usando o operador lógico 'or' para checar as respostas\n",
    "    print((i[0] or i[1]) == j, end=\">\\n\") # Voilá! 100% de aproveitamento"
   ]
  },
  {
   "attachments": {},
   "cell_type": "markdown",
   "metadata": {},
   "source": [
    "## Parte 2: Dataset Imagens 2x2"
   ]
  },
  {
   "cell_type": "code",
   "execution_count": 139,
   "metadata": {},
   "outputs": [
    {
     "data": {
      "text/plain": [
       "(array([[-1, -1, -1, -1],\n",
       "        [-1, -1, -1,  1],\n",
       "        [-1, -1,  1, -1],\n",
       "        [-1, -1,  1,  1],\n",
       "        [-1,  1, -1, -1],\n",
       "        [-1,  1, -1,  1],\n",
       "        [-1,  1,  1, -1],\n",
       "        [-1,  1,  1,  1],\n",
       "        [ 1, -1, -1, -1],\n",
       "        [ 1, -1, -1,  1],\n",
       "        [ 1, -1,  1, -1],\n",
       "        [ 1, -1,  1,  1],\n",
       "        [ 1,  1, -1, -1],\n",
       "        [ 1,  1, -1,  1],\n",
       "        [ 1,  1,  1, -1],\n",
       "        [ 1,  1,  1,  1]]),\n",
       " array([-1, -1, -1,  1, -1,  1,  1,  1, -1,  1,  1,  1,  1,  1,  1,  1]))"
      ]
     },
     "execution_count": 139,
     "metadata": {},
     "output_type": "execute_result"
    }
   ],
   "source": [
    "# Apenas uma função utilitária para criar as 16 combinações de imagens 2x2 e suas respostas\n",
    "def create_images():\n",
    "    images = []\n",
    "    for i in range(2):\n",
    "        for j in range(2):\n",
    "            for k in range(2):\n",
    "                for l in range(2):\n",
    "                    images.append([1 if x == 1 else -1 for x in [i, j, k, l]])\n",
    "    \n",
    "    images = np.asarray(images)\n",
    "\n",
    "    classy = []\n",
    "    for img in images:\n",
    "        white = 0\n",
    "        for pixel in img:\n",
    "            if pixel == 1:\n",
    "                white += 1\n",
    "        \n",
    "        if white > 1:\n",
    "            classy.append(1)\n",
    "        else:\n",
    "            classy.append(-1)\n",
    "\n",
    "\n",
    "    return np.asarray(images), np.asarray(classy)\n",
    "\n",
    "create_images()[0], create_images()[1]"
   ]
  },
  {
   "cell_type": "code",
   "execution_count": 140,
   "metadata": {},
   "outputs": [],
   "source": [
    "# Função de ativação bipolar com limiar\n",
    "def bipolar_limit_activation(x, limit):\n",
    "    # Se for maior que o limiar, 1, se não, 0\n",
    "    return np.where(x >= limit , 1, -1)"
   ]
  },
  {
   "cell_type": "code",
   "execution_count": 141,
   "metadata": {},
   "outputs": [
    {
     "name": "stdout",
     "output_type": "stream",
     "text": [
      "Época 1: NET => x1*0.00 + x2*0.00 + x3*0.00 + x4*0.00 + 0.12\n",
      "Época 2: NET => x1*0.02 + x2*0.02 + x3*0.02 + x4*0.02 + 0.10\n",
      "Época 3: NET => x1*0.02 + x2*0.02 + x3*0.02 + x4*0.02 + 0.10\n",
      "Época 4: NET => x1*0.02 + x2*0.02 + x3*0.02 + x4*0.02 + 0.10\n",
      "Época 5: NET => x1*0.02 + x2*0.02 + x3*0.02 + x4*0.02 + 0.10\n",
      "Época 6: NET => x1*0.02 + x2*0.02 + x3*0.02 + x4*0.02 + 0.10\n",
      "Época 7: NET => x1*0.02 + x2*0.02 + x3*0.02 + x4*0.02 + 0.10\n",
      "Época 8: NET => x1*0.02 + x2*0.02 + x3*0.02 + x4*0.02 + 0.10\n",
      "Época 9: NET => x1*0.02 + x2*0.02 + x3*0.02 + x4*0.02 + 0.10\n",
      "Época 10: NET => x1*0.02 + x2*0.02 + x3*0.02 + x4*0.02 + 0.10\n",
      "Época 11: NET => x1*0.02 + x2*0.02 + x3*0.02 + x4*0.02 + 0.10\n",
      "Época 12: NET => x1*0.02 + x2*0.02 + x3*0.02 + x4*0.02 + 0.10\n",
      "Época 13: NET => x1*0.02 + x2*0.02 + x3*0.02 + x4*0.02 + 0.10\n",
      "Época 14: NET => x1*0.02 + x2*0.02 + x3*0.02 + x4*0.02 + 0.10\n",
      "Época 15: NET => x1*0.02 + x2*0.02 + x3*0.02 + x4*0.02 + 0.10\n",
      "Época 16: NET => x1*0.02 + x2*0.02 + x3*0.02 + x4*0.02 + 0.10\n",
      "Época 17: NET => x1*0.02 + x2*0.02 + x3*0.02 + x4*0.02 + 0.10\n",
      "Época 18: NET => x1*0.02 + x2*0.02 + x3*0.02 + x4*0.02 + 0.10\n",
      "Época 19: NET => x1*0.02 + x2*0.02 + x3*0.02 + x4*0.02 + 0.10\n",
      "Época 20: NET => x1*0.02 + x2*0.02 + x3*0.02 + x4*0.02 + 0.10\n",
      "Equação final: NET => x1*0.02 + x2*0.02 + x3*0.02 + x4*0.02 + 0.10\n"
     ]
    }
   ],
   "source": [
    "# Cria set de treinamento\n",
    "X_train, y_train = create_images()\n",
    "\n",
    "# Criando o Perceptron usando como função de ativação a limiar bipolar, \n",
    "# e colocando o limiar em 0.1, como no exemplo\n",
    "perceptron = Perceptron(limit=0.1, func=bipolar_limit_activation)\n",
    "\n",
    "# Treinando o modelo\n",
    "perceptron.fit(X_train, y_train)\n"
   ]
  },
  {
   "cell_type": "code",
   "execution_count": 145,
   "metadata": {},
   "outputs": [
    {
     "name": "stdout",
     "output_type": "stream",
     "text": [
      "P-P-P-P  => Predito:  ESCURA - Resposta:  ESCURA\n",
      "P-P-P-B  => Predito:  ESCURA - Resposta:  ESCURA\n",
      "P-P-B-P  => Predito:  ESCURA - Resposta:  ESCURA\n",
      "P-P-B-B  => Predito:  CLARA - Resposta:  CLARA\n",
      "P-B-P-P  => Predito:  ESCURA - Resposta:  ESCURA\n",
      "P-B-P-B  => Predito:  CLARA - Resposta:  CLARA\n",
      "P-B-B-P  => Predito:  CLARA - Resposta:  CLARA\n",
      "P-B-B-B  => Predito:  CLARA - Resposta:  CLARA\n",
      "B-P-P-P  => Predito:  ESCURA - Resposta:  ESCURA\n",
      "B-P-P-B  => Predito:  CLARA - Resposta:  CLARA\n",
      "B-P-B-P  => Predito:  CLARA - Resposta:  CLARA\n",
      "B-P-B-B  => Predito:  CLARA - Resposta:  CLARA\n",
      "B-B-P-P  => Predito:  CLARA - Resposta:  CLARA\n",
      "B-B-P-B  => Predito:  CLARA - Resposta:  CLARA\n",
      "B-B-B-P  => Predito:  CLARA - Resposta:  CLARA\n",
      "B-B-B-B  => Predito:  CLARA - Resposta:  CLARA\n"
     ]
    }
   ],
   "source": [
    "# Faz as predições \n",
    "predictions = perceptron.predict(X_train)\n",
    "\n",
    "# Vamos testar o modelo!\n",
    "for i, j, k in zip(X_train, predictions, y_train):\n",
    "    print('-'.join([\"B\" if x == 1 else \"P\" for x in i]), \" => \", end=\"\")\n",
    "    print(\"Predito: \", \"CLARA\" if j == 1 else \"ESCURA\", end=\" - \") \n",
    "    print(\"Resposta: \", \"CLARA\" if j == 1 else \"ESCURA\") # Maravilha, ele acertou tudo!\n"
   ]
  },
  {
   "cell_type": "code",
   "execution_count": null,
   "metadata": {},
   "outputs": [],
   "source": []
  }
 ],
 "metadata": {
  "kernelspec": {
   "display_name": "Python 3",
   "language": "python",
   "name": "python3"
  },
  "language_info": {
   "codemirror_mode": {
    "name": "ipython",
    "version": 3
   },
   "file_extension": ".py",
   "mimetype": "text/x-python",
   "name": "python",
   "nbconvert_exporter": "python",
   "pygments_lexer": "ipython3",
   "version": "3.10.10"
  },
  "orig_nbformat": 4
 },
 "nbformat": 4,
 "nbformat_minor": 2
}
