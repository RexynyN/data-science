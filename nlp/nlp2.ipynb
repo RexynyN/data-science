{
 "cells": [
  {
   "cell_type": "code",
   "execution_count": null,
   "metadata": {},
   "outputs": [],
   "source": [
    "import nltk \n",
    "\n",
    "# Download the corpus\n",
    "nltk.download(\"machado\")\n",
    "\n",
    "nltk.corpus.machado.readme()"
   ]
  },
  {
   "cell_type": "code",
   "execution_count": null,
   "metadata": {},
   "outputs": [],
   "source": [
    "# nltk.corpus.machado.fileids()"
   ]
  },
  {
   "cell_type": "code",
   "execution_count": null,
   "metadata": {},
   "outputs": [],
   "source": [
    "dom_casmurro = nltk.corpus.machado.raw(\"romance/marm08.txt\")"
   ]
  },
  {
   "cell_type": "code",
   "execution_count": null,
   "metadata": {},
   "outputs": [],
   "source": [
    "# mac_morpho\n",
    "# conll2002\n",
    "# machado\n",
    "nltk.download('conll2002')"
   ]
  },
  {
   "cell_type": "code",
   "execution_count": 11,
   "metadata": {},
   "outputs": [
    {
     "data": {
      "text/plain": [
       "{'!',\n",
       " '\"',\n",
       " '$',\n",
       " \"'\",\n",
       " '(',\n",
       " '((',\n",
       " ')',\n",
       " '))',\n",
       " ',',\n",
       " '-',\n",
       " '.',\n",
       " '...',\n",
       " '/',\n",
       " ':',\n",
       " ';',\n",
       " '=',\n",
       " '?',\n",
       " 'ADJ',\n",
       " 'ADJ|+',\n",
       " 'ADJ|EST',\n",
       " 'ADV',\n",
       " 'ADV-KS',\n",
       " 'ADV-KS-REL',\n",
       " 'ADV|+',\n",
       " 'ADV|EST',\n",
       " 'ADV|HOR',\n",
       " 'ADV|[',\n",
       " 'ADV|]',\n",
       " 'ART',\n",
       " 'ART|+',\n",
       " 'ART|EST',\n",
       " 'CUR',\n",
       " 'IN',\n",
       " 'IN|EST',\n",
       " 'KC',\n",
       " 'KC|+',\n",
       " 'KC|EST',\n",
       " 'KC|[',\n",
       " 'KC|]',\n",
       " 'KS',\n",
       " 'KS|[',\n",
       " 'KS|]',\n",
       " 'N',\n",
       " 'NPRO',\n",
       " 'NPROP',\n",
       " 'NPROP|+',\n",
       " 'NUM',\n",
       " 'NUM|TEL',\n",
       " 'N|AP',\n",
       " 'N|DAD',\n",
       " 'N|DAT',\n",
       " 'N|EST',\n",
       " 'N|HOR',\n",
       " 'N|TEL',\n",
       " 'PCP',\n",
       " 'PDEN',\n",
       " 'PDEN|EST',\n",
       " 'PREP',\n",
       " 'PREP|',\n",
       " 'PREP|+',\n",
       " 'PREP|+]',\n",
       " 'PREP|EST',\n",
       " 'PREP|[',\n",
       " 'PREP|]',\n",
       " 'PRO-KS',\n",
       " 'PRO-KS-REL',\n",
       " 'PROADJ',\n",
       " 'PROADJ|+',\n",
       " 'PROP',\n",
       " 'PROPESS',\n",
       " 'PROPESS|+',\n",
       " 'PROPESS|EST',\n",
       " 'PROSUB',\n",
       " 'V',\n",
       " 'VAUX',\n",
       " 'VAUX|!',\n",
       " 'VAUX|+',\n",
       " 'V|!',\n",
       " 'V|+',\n",
       " 'V|EST',\n",
       " '[',\n",
       " '`'}"
      ]
     },
     "execution_count": 11,
     "metadata": {},
     "output_type": "execute_result"
    }
   ],
   "source": [
    "sety = set()\n",
    "for word in nltk.corpus.mac_morpho.tagged_words():\n",
    "    # if word[1] in [\"NPROP\", \"N\"]:\n",
    "    #     print(word)\n",
    "    sety.add(word[1])\n",
    "\n",
    "sety"
   ]
  },
  {
   "cell_type": "code",
   "execution_count": null,
   "metadata": {},
   "outputs": [],
   "source": []
  }
 ],
 "metadata": {
  "kernelspec": {
   "display_name": "Python 3",
   "language": "python",
   "name": "python3"
  },
  "language_info": {
   "codemirror_mode": {
    "name": "ipython",
    "version": 3
   },
   "file_extension": ".py",
   "mimetype": "text/x-python",
   "name": "python",
   "nbconvert_exporter": "python",
   "pygments_lexer": "ipython3",
   "version": "3.10.10"
  },
  "orig_nbformat": 4
 },
 "nbformat": 4,
 "nbformat_minor": 2
}
