{
 "cells": [
  {
   "cell_type": "code",
   "execution_count": 8,
   "metadata": {},
   "outputs": [
    {
     "data": {
      "text/plain": [
       "([Timestamp('2021-10-31 00:00:00', freq='M'),\n",
       "  Timestamp('2021-11-30 00:00:00', freq='M'),\n",
       "  Timestamp('2021-12-31 00:00:00', freq='M'),\n",
       "  Timestamp('2022-01-31 00:00:00', freq='M'),\n",
       "  Timestamp('2022-02-28 00:00:00', freq='M'),\n",
       "  Timestamp('2022-03-31 00:00:00', freq='M'),\n",
       "  Timestamp('2022-04-30 00:00:00', freq='M'),\n",
       "  Timestamp('2022-05-31 00:00:00', freq='M'),\n",
       "  Timestamp('2022-06-30 00:00:00', freq='M'),\n",
       "  Timestamp('2022-07-31 00:00:00', freq='M'),\n",
       "  Timestamp('2022-08-31 00:00:00', freq='M'),\n",
       "  Timestamp('2022-09-30 00:00:00', freq='M'),\n",
       "  Timestamp('2022-10-31 00:00:00', freq='M'),\n",
       "  Timestamp('2022-11-30 00:00:00', freq='M'),\n",
       "  Timestamp('2022-12-31 00:00:00', freq='M'),\n",
       "  Timestamp('2023-01-31 00:00:00', freq='M'),\n",
       "  Timestamp('2023-02-28 00:00:00', freq='M'),\n",
       "  Timestamp('2023-03-31 00:00:00', freq='M')],\n",
       " [0.05042624252965244,\n",
       "  0.02751128175359252,\n",
       "  0.0027764216531465102,\n",
       "  0.00906065432555403,\n",
       "  -0.0047029062289185575,\n",
       "  0.023327458914671695,\n",
       "  0.04476200235468375,\n",
       "  0.014084103986291563,\n",
       "  0.017158044400040318,\n",
       "  0.02671256348958395,\n",
       "  0.013147315323903896,\n",
       "  0.04407626512860774,\n",
       "  -0.004511870481977653,\n",
       "  -0.021488228191017922,\n",
       "  0.018243576708085962,\n",
       "  -0.004342062730279039,\n",
       "  0.03505854019594068,\n",
       "  -0.0008494294159144822])"
      ]
     },
     "execution_count": 8,
     "metadata": {},
     "output_type": "execute_result"
    }
   ],
   "source": [
    "import pandas as pd \n",
    "import numpy as np\n",
    "\n",
    "# Limpeza do Dataset\n",
    "df_return = pd.read_csv(\"P1_DailyReturns.csv\")\n",
    "df_return.dropna(inplace=True)\n",
    "\n",
    "# Tratando a coluna 'return' para transformar de porcentagem para decimal\n",
    "df_return['return'] = df_return['return'].str.replace(\"%\", \"\").astype(float)\n",
    "df_return['return'] = df_return['return'] / 100\n",
    "\n",
    "# Dando parse nas datas\n",
    "df_return.index = pd.to_datetime(df_return['date'])\n",
    "\n",
    "# Calculando o retorno mensal do portfolio\n",
    "df_return['return_m'] = df_return['return'] + 1\n",
    "df_return['return_m'] = df_return.groupby(pd.Grouper(freq='M'))['return_m'].transform(np.product) - 1 \n",
    "grouped = df_return.groupby(pd.Grouper(freq='M'))['return_m']\n",
    "\n",
    "# Extrair os retornos mensais \n",
    "return_m = []\n",
    "months = []\n",
    "for group, df_group in grouped:\n",
    "    months.append(group)\n",
    "    return_m.append(df_group[0])\n",
    "\n",
    "months, return_m"
   ]
  },
  {
   "cell_type": "code",
   "execution_count": 9,
   "metadata": {},
   "outputs": [],
   "source": [
    "# Limpeza do dataset\n",
    "df_risk = pd.read_csv(\"P1_RiskFreeRate.csv\")\n",
    "df_risk.dropna(inplace=True)\n",
    "\n",
    "# Tratando a coluna 'rate' para transformar de porcentagem para decimal\n",
    "df_risk['rate'] = df_risk['rate'].str.replace(\"%\", \"\").astype(float)\n",
    "df_risk['rate'] = df_risk['rate'] / 100\n",
    "\n",
    "# Parse em data\n",
    "df_risk.index = pd.to_datetime(df_risk['date'])\n",
    "\n",
    "# Calculando o rate mensal\n",
    "df_risk['rate_m'] = df_risk['rate'] + 1\n",
    "df_risk['rate_m'] = df_risk.groupby(pd.Grouper(freq='M'))['rate_m'].transform(np.product) - 1 \n",
    "grouped = df_risk.groupby(pd.Grouper(freq='M'))['rate_m']\n",
    "\n",
    "# Extrair os rates mensais \n",
    "rate_m = []\n",
    "for group, df_group in grouped:\n",
    "    if group in months: \n",
    "        rate_m.append(df_group[0])"
   ]
  },
  {
   "cell_type": "code",
   "execution_count": 11,
   "metadata": {},
   "outputs": [
    {
     "data": {
      "text/plain": [
       "'-0.84'"
      ]
     },
     "execution_count": 11,
     "metadata": {},
     "output_type": "execute_result"
    }
   ],
   "source": [
    "# https://awgmain.morningstar.com/webhelp/glossary_definitions/mutual_fund/mfglossary_Sharpe_Ratio.html#:~:text=The%20annualized%20Sharpe%20Ratio%20is,12%20(annualized%20standard%20deviation).\n",
    "\n",
    "# Calculo do average \n",
    "sum = 0\n",
    "for rate, returns in zip(rate_m, return_m):\n",
    "    sum = returns - rate \n",
    "\n",
    "avg_m = sum / len(return_m)\n",
    "\n",
    "# Calculo denominador\n",
    "import math \n",
    "sum = 0\n",
    "for rate, returns in zip(rate_m, return_m):\n",
    "    sum = math.pow(returns - rate - avg_m, 2)\n",
    "den = math.sqrt(sum / (len(rate_m) - 1))\n",
    "\n",
    "# Calculo do Sharpe\n",
    "sharpe = avg_m / den \n",
    "\n",
    "# Calculo do sharpe anual\n",
    "annual_sharpe = sharpe * math.sqrt(12)\n",
    "f\"{annual_sharpe:.2f}\"\n"
   ]
  },
  {
   "cell_type": "code",
   "execution_count": null,
   "metadata": {},
   "outputs": [],
   "source": []
  }
 ],
 "metadata": {
  "kernelspec": {
   "display_name": "Python 3",
   "language": "python",
   "name": "python3"
  },
  "language_info": {
   "codemirror_mode": {
    "name": "ipython",
    "version": 3
   },
   "file_extension": ".py",
   "mimetype": "text/x-python",
   "name": "python",
   "nbconvert_exporter": "python",
   "pygments_lexer": "ipython3",
   "version": "3.10.10"
  },
  "orig_nbformat": 4
 },
 "nbformat": 4,
 "nbformat_minor": 2
}
