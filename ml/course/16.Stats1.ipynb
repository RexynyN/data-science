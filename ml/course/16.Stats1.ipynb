{
 "cells": [
  {
   "attachments": {},
   "cell_type": "markdown",
   "metadata": {},
   "source": [
    "## Amostragem Simples"
   ]
  },
  {
   "cell_type": "code",
   "execution_count": 11,
   "metadata": {},
   "outputs": [
    {
     "data": {
      "text/html": [
       "<div>\n",
       "<style scoped>\n",
       "    .dataframe tbody tr th:only-of-type {\n",
       "        vertical-align: middle;\n",
       "    }\n",
       "\n",
       "    .dataframe tbody tr th {\n",
       "        vertical-align: top;\n",
       "    }\n",
       "\n",
       "    .dataframe thead th {\n",
       "        text-align: right;\n",
       "    }\n",
       "</style>\n",
       "<table border=\"1\" class=\"dataframe\">\n",
       "  <thead>\n",
       "    <tr style=\"text-align: right;\">\n",
       "      <th></th>\n",
       "      <th>sepal length</th>\n",
       "      <th>sepal width</th>\n",
       "      <th>petal length</th>\n",
       "      <th>petal width</th>\n",
       "      <th>class</th>\n",
       "    </tr>\n",
       "  </thead>\n",
       "  <tbody>\n",
       "    <tr>\n",
       "      <th>0</th>\n",
       "      <td>5.1</td>\n",
       "      <td>3.5</td>\n",
       "      <td>1.4</td>\n",
       "      <td>0.2</td>\n",
       "      <td>Iris-setosa</td>\n",
       "    </tr>\n",
       "    <tr>\n",
       "      <th>1</th>\n",
       "      <td>4.9</td>\n",
       "      <td>3.0</td>\n",
       "      <td>1.4</td>\n",
       "      <td>0.2</td>\n",
       "      <td>Iris-setosa</td>\n",
       "    </tr>\n",
       "    <tr>\n",
       "      <th>2</th>\n",
       "      <td>4.7</td>\n",
       "      <td>3.2</td>\n",
       "      <td>1.3</td>\n",
       "      <td>0.2</td>\n",
       "      <td>Iris-setosa</td>\n",
       "    </tr>\n",
       "    <tr>\n",
       "      <th>3</th>\n",
       "      <td>4.6</td>\n",
       "      <td>3.1</td>\n",
       "      <td>1.5</td>\n",
       "      <td>0.2</td>\n",
       "      <td>Iris-setosa</td>\n",
       "    </tr>\n",
       "    <tr>\n",
       "      <th>4</th>\n",
       "      <td>5.0</td>\n",
       "      <td>3.6</td>\n",
       "      <td>1.4</td>\n",
       "      <td>0.2</td>\n",
       "      <td>Iris-setosa</td>\n",
       "    </tr>\n",
       "  </tbody>\n",
       "</table>\n",
       "</div>"
      ],
      "text/plain": [
       "   sepal length  sepal width  petal length  petal width        class\n",
       "0           5.1          3.5           1.4          0.2  Iris-setosa\n",
       "1           4.9          3.0           1.4          0.2  Iris-setosa\n",
       "2           4.7          3.2           1.3          0.2  Iris-setosa\n",
       "3           4.6          3.1           1.5          0.2  Iris-setosa\n",
       "4           5.0          3.6           1.4          0.2  Iris-setosa"
      ]
     },
     "execution_count": 11,
     "metadata": {},
     "output_type": "execute_result"
    }
   ],
   "source": [
    "import pandas as pd\n",
    "import numpy as np\n",
    "from math import ceil\n",
    "\n",
    "# Importação de dados\n",
    "base = pd.read_csv(\"data/iris.csv\")\n",
    "base.head()"
   ]
  },
  {
   "cell_type": "code",
   "execution_count": 12,
   "metadata": {},
   "outputs": [
    {
     "data": {
      "text/plain": [
       "(150, 5)"
      ]
     },
     "execution_count": 12,
     "metadata": {},
     "output_type": "execute_result"
    }
   ],
   "source": [
    "base.shape"
   ]
  },
  {
   "cell_type": "code",
   "execution_count": 13,
   "metadata": {},
   "outputs": [
    {
     "name": "stdout",
     "output_type": "stream",
     "text": [
      "Tamanho amostra: 150\n",
      "0's da amostra:  101\n",
      "1's da amostra:  49\n"
     ]
    }
   ],
   "source": [
    "# Criação de um seed aleatória, pra ele se manter em uma execução futura\n",
    "np.random.seed(8008135)\n",
    "\n",
    "# Amostra de 150 elementos\n",
    "amostra = np.random.choice(a=[0,1], size=150, replace=True, p=[0.7,0.3])\n",
    "\n",
    "# Tamanho da amostra\n",
    "print(\"Tamanho amostra:\",len(amostra))\n",
    "\n",
    "# Tamanho das amostras\n",
    "print(\"0's da amostra: \", len(amostra[amostra == 0]))\n",
    "print(\"1's da amostra: \", len(amostra[amostra == 1]))\n"
   ]
  },
  {
   "cell_type": "code",
   "execution_count": 14,
   "metadata": {},
   "outputs": [
    {
     "data": {
      "text/plain": [
       "(101, 5)"
      ]
     },
     "execution_count": 14,
     "metadata": {},
     "output_type": "execute_result"
    }
   ],
   "source": [
    "# Verifica todos os indices do \"amostra\" == 0 e filtra uma amostragem em \"base\"\n",
    "base_final = base.loc[amostra == 0]\n",
    "base_final.shape"
   ]
  },
  {
   "cell_type": "code",
   "execution_count": 15,
   "metadata": {},
   "outputs": [
    {
     "data": {
      "text/html": [
       "<div>\n",
       "<style scoped>\n",
       "    .dataframe tbody tr th:only-of-type {\n",
       "        vertical-align: middle;\n",
       "    }\n",
       "\n",
       "    .dataframe tbody tr th {\n",
       "        vertical-align: top;\n",
       "    }\n",
       "\n",
       "    .dataframe thead th {\n",
       "        text-align: right;\n",
       "    }\n",
       "</style>\n",
       "<table border=\"1\" class=\"dataframe\">\n",
       "  <thead>\n",
       "    <tr style=\"text-align: right;\">\n",
       "      <th></th>\n",
       "      <th>sepal length</th>\n",
       "      <th>sepal width</th>\n",
       "      <th>petal length</th>\n",
       "      <th>petal width</th>\n",
       "      <th>class</th>\n",
       "    </tr>\n",
       "  </thead>\n",
       "  <tbody>\n",
       "    <tr>\n",
       "      <th>4</th>\n",
       "      <td>5.0</td>\n",
       "      <td>3.6</td>\n",
       "      <td>1.4</td>\n",
       "      <td>0.2</td>\n",
       "      <td>Iris-setosa</td>\n",
       "    </tr>\n",
       "    <tr>\n",
       "      <th>5</th>\n",
       "      <td>5.4</td>\n",
       "      <td>3.9</td>\n",
       "      <td>1.7</td>\n",
       "      <td>0.4</td>\n",
       "      <td>Iris-setosa</td>\n",
       "    </tr>\n",
       "    <tr>\n",
       "      <th>7</th>\n",
       "      <td>5.0</td>\n",
       "      <td>3.4</td>\n",
       "      <td>1.5</td>\n",
       "      <td>0.2</td>\n",
       "      <td>Iris-setosa</td>\n",
       "    </tr>\n",
       "    <tr>\n",
       "      <th>8</th>\n",
       "      <td>4.4</td>\n",
       "      <td>2.9</td>\n",
       "      <td>1.4</td>\n",
       "      <td>0.2</td>\n",
       "      <td>Iris-setosa</td>\n",
       "    </tr>\n",
       "    <tr>\n",
       "      <th>9</th>\n",
       "      <td>4.9</td>\n",
       "      <td>3.1</td>\n",
       "      <td>1.5</td>\n",
       "      <td>0.1</td>\n",
       "      <td>Iris-setosa</td>\n",
       "    </tr>\n",
       "    <tr>\n",
       "      <th>...</th>\n",
       "      <td>...</td>\n",
       "      <td>...</td>\n",
       "      <td>...</td>\n",
       "      <td>...</td>\n",
       "      <td>...</td>\n",
       "    </tr>\n",
       "    <tr>\n",
       "      <th>143</th>\n",
       "      <td>6.8</td>\n",
       "      <td>3.2</td>\n",
       "      <td>5.9</td>\n",
       "      <td>2.3</td>\n",
       "      <td>Iris-virginica</td>\n",
       "    </tr>\n",
       "    <tr>\n",
       "      <th>144</th>\n",
       "      <td>6.7</td>\n",
       "      <td>3.3</td>\n",
       "      <td>5.7</td>\n",
       "      <td>2.5</td>\n",
       "      <td>Iris-virginica</td>\n",
       "    </tr>\n",
       "    <tr>\n",
       "      <th>146</th>\n",
       "      <td>6.3</td>\n",
       "      <td>2.5</td>\n",
       "      <td>5.0</td>\n",
       "      <td>1.9</td>\n",
       "      <td>Iris-virginica</td>\n",
       "    </tr>\n",
       "    <tr>\n",
       "      <th>148</th>\n",
       "      <td>6.2</td>\n",
       "      <td>3.4</td>\n",
       "      <td>5.4</td>\n",
       "      <td>2.3</td>\n",
       "      <td>Iris-virginica</td>\n",
       "    </tr>\n",
       "    <tr>\n",
       "      <th>149</th>\n",
       "      <td>5.9</td>\n",
       "      <td>3.0</td>\n",
       "      <td>5.1</td>\n",
       "      <td>1.8</td>\n",
       "      <td>Iris-virginica</td>\n",
       "    </tr>\n",
       "  </tbody>\n",
       "</table>\n",
       "<p>101 rows × 5 columns</p>\n",
       "</div>"
      ],
      "text/plain": [
       "     sepal length  sepal width  petal length  petal width           class\n",
       "4             5.0          3.6           1.4          0.2     Iris-setosa\n",
       "5             5.4          3.9           1.7          0.4     Iris-setosa\n",
       "7             5.0          3.4           1.5          0.2     Iris-setosa\n",
       "8             4.4          2.9           1.4          0.2     Iris-setosa\n",
       "9             4.9          3.1           1.5          0.1     Iris-setosa\n",
       "..            ...          ...           ...          ...             ...\n",
       "143           6.8          3.2           5.9          2.3  Iris-virginica\n",
       "144           6.7          3.3           5.7          2.5  Iris-virginica\n",
       "146           6.3          2.5           5.0          1.9  Iris-virginica\n",
       "148           6.2          3.4           5.4          2.3  Iris-virginica\n",
       "149           5.9          3.0           5.1          1.8  Iris-virginica\n",
       "\n",
       "[101 rows x 5 columns]"
      ]
     },
     "execution_count": 15,
     "metadata": {},
     "output_type": "execute_result"
    }
   ],
   "source": [
    "base_final"
   ]
  },
  {
   "attachments": {},
   "cell_type": "markdown",
   "metadata": {},
   "source": [
    "## Amostragem Sistemática"
   ]
  },
  {
   "cell_type": "code",
   "execution_count": 16,
   "metadata": {},
   "outputs": [
    {
     "data": {
      "text/plain": [
       "10"
      ]
     },
     "execution_count": 16,
     "metadata": {},
     "output_type": "execute_result"
    }
   ],
   "source": [
    "# Criação de variaveis de apoio\n",
    "populacao = 150\n",
    "amostra = 15\n",
    "k = ceil(populacao / amostra)\n",
    "k"
   ]
  },
  {
   "cell_type": "code",
   "execution_count": 21,
   "metadata": {},
   "outputs": [
    {
     "data": {
      "text/plain": [
       "4"
      ]
     },
     "execution_count": 21,
     "metadata": {},
     "output_type": "execute_result"
    }
   ],
   "source": [
    "# Definição do valor randomico para iniciar a amostra, indo de 1 até k + 1\n",
    "r = np.random.randint(low=1, high=k, size=1)[0]\n",
    "r[0]"
   ]
  },
  {
   "cell_type": "code",
   "execution_count": 22,
   "metadata": {},
   "outputs": [
    {
     "data": {
      "text/plain": [
       "[4, 14, 24, 34, 44, 54, 64, 74, 84, 94, 104, 114, 124, 134, 144]"
      ]
     },
     "execution_count": 22,
     "metadata": {},
     "output_type": "execute_result"
    }
   ],
   "source": [
    "# Laço para somar os proximos valores, baseado no valor r\n",
    "acumulador = r[0]\n",
    "sorteados = []\n",
    "for i in range(amostra):\n",
    "    sorteados.append(acumulador)\n",
    "    acumulador += k\n",
    "\n",
    "sorteados"
   ]
  },
  {
   "cell_type": "code",
   "execution_count": 23,
   "metadata": {},
   "outputs": [
    {
     "data": {
      "text/html": [
       "<div>\n",
       "<style scoped>\n",
       "    .dataframe tbody tr th:only-of-type {\n",
       "        vertical-align: middle;\n",
       "    }\n",
       "\n",
       "    .dataframe tbody tr th {\n",
       "        vertical-align: top;\n",
       "    }\n",
       "\n",
       "    .dataframe thead th {\n",
       "        text-align: right;\n",
       "    }\n",
       "</style>\n",
       "<table border=\"1\" class=\"dataframe\">\n",
       "  <thead>\n",
       "    <tr style=\"text-align: right;\">\n",
       "      <th></th>\n",
       "      <th>sepal length</th>\n",
       "      <th>sepal width</th>\n",
       "      <th>petal length</th>\n",
       "      <th>petal width</th>\n",
       "      <th>class</th>\n",
       "    </tr>\n",
       "  </thead>\n",
       "  <tbody>\n",
       "    <tr>\n",
       "      <th>4</th>\n",
       "      <td>5.0</td>\n",
       "      <td>3.6</td>\n",
       "      <td>1.4</td>\n",
       "      <td>0.2</td>\n",
       "      <td>Iris-setosa</td>\n",
       "    </tr>\n",
       "    <tr>\n",
       "      <th>14</th>\n",
       "      <td>5.8</td>\n",
       "      <td>4.0</td>\n",
       "      <td>1.2</td>\n",
       "      <td>0.2</td>\n",
       "      <td>Iris-setosa</td>\n",
       "    </tr>\n",
       "    <tr>\n",
       "      <th>24</th>\n",
       "      <td>4.8</td>\n",
       "      <td>3.4</td>\n",
       "      <td>1.9</td>\n",
       "      <td>0.2</td>\n",
       "      <td>Iris-setosa</td>\n",
       "    </tr>\n",
       "    <tr>\n",
       "      <th>34</th>\n",
       "      <td>4.9</td>\n",
       "      <td>3.1</td>\n",
       "      <td>1.5</td>\n",
       "      <td>0.1</td>\n",
       "      <td>Iris-setosa</td>\n",
       "    </tr>\n",
       "    <tr>\n",
       "      <th>44</th>\n",
       "      <td>5.1</td>\n",
       "      <td>3.8</td>\n",
       "      <td>1.9</td>\n",
       "      <td>0.4</td>\n",
       "      <td>Iris-setosa</td>\n",
       "    </tr>\n",
       "    <tr>\n",
       "      <th>54</th>\n",
       "      <td>6.5</td>\n",
       "      <td>2.8</td>\n",
       "      <td>4.6</td>\n",
       "      <td>1.5</td>\n",
       "      <td>Iris-versicolor</td>\n",
       "    </tr>\n",
       "    <tr>\n",
       "      <th>64</th>\n",
       "      <td>5.6</td>\n",
       "      <td>2.9</td>\n",
       "      <td>3.6</td>\n",
       "      <td>1.3</td>\n",
       "      <td>Iris-versicolor</td>\n",
       "    </tr>\n",
       "    <tr>\n",
       "      <th>74</th>\n",
       "      <td>6.4</td>\n",
       "      <td>2.9</td>\n",
       "      <td>4.3</td>\n",
       "      <td>1.3</td>\n",
       "      <td>Iris-versicolor</td>\n",
       "    </tr>\n",
       "    <tr>\n",
       "      <th>84</th>\n",
       "      <td>5.4</td>\n",
       "      <td>3.0</td>\n",
       "      <td>4.5</td>\n",
       "      <td>1.5</td>\n",
       "      <td>Iris-versicolor</td>\n",
       "    </tr>\n",
       "    <tr>\n",
       "      <th>94</th>\n",
       "      <td>5.6</td>\n",
       "      <td>2.7</td>\n",
       "      <td>4.2</td>\n",
       "      <td>1.3</td>\n",
       "      <td>Iris-versicolor</td>\n",
       "    </tr>\n",
       "    <tr>\n",
       "      <th>104</th>\n",
       "      <td>6.5</td>\n",
       "      <td>3.0</td>\n",
       "      <td>5.8</td>\n",
       "      <td>2.2</td>\n",
       "      <td>Iris-virginica</td>\n",
       "    </tr>\n",
       "    <tr>\n",
       "      <th>114</th>\n",
       "      <td>5.8</td>\n",
       "      <td>2.8</td>\n",
       "      <td>5.1</td>\n",
       "      <td>2.4</td>\n",
       "      <td>Iris-virginica</td>\n",
       "    </tr>\n",
       "    <tr>\n",
       "      <th>124</th>\n",
       "      <td>6.7</td>\n",
       "      <td>3.3</td>\n",
       "      <td>5.7</td>\n",
       "      <td>2.1</td>\n",
       "      <td>Iris-virginica</td>\n",
       "    </tr>\n",
       "    <tr>\n",
       "      <th>134</th>\n",
       "      <td>6.1</td>\n",
       "      <td>2.6</td>\n",
       "      <td>5.6</td>\n",
       "      <td>1.4</td>\n",
       "      <td>Iris-virginica</td>\n",
       "    </tr>\n",
       "    <tr>\n",
       "      <th>144</th>\n",
       "      <td>6.7</td>\n",
       "      <td>3.3</td>\n",
       "      <td>5.7</td>\n",
       "      <td>2.5</td>\n",
       "      <td>Iris-virginica</td>\n",
       "    </tr>\n",
       "  </tbody>\n",
       "</table>\n",
       "</div>"
      ],
      "text/plain": [
       "     sepal length  sepal width  petal length  petal width            class\n",
       "4             5.0          3.6           1.4          0.2      Iris-setosa\n",
       "14            5.8          4.0           1.2          0.2      Iris-setosa\n",
       "24            4.8          3.4           1.9          0.2      Iris-setosa\n",
       "34            4.9          3.1           1.5          0.1      Iris-setosa\n",
       "44            5.1          3.8           1.9          0.4      Iris-setosa\n",
       "54            6.5          2.8           4.6          1.5  Iris-versicolor\n",
       "64            5.6          2.9           3.6          1.3  Iris-versicolor\n",
       "74            6.4          2.9           4.3          1.3  Iris-versicolor\n",
       "84            5.4          3.0           4.5          1.5  Iris-versicolor\n",
       "94            5.6          2.7           4.2          1.3  Iris-versicolor\n",
       "104           6.5          3.0           5.8          2.2   Iris-virginica\n",
       "114           5.8          2.8           5.1          2.4   Iris-virginica\n",
       "124           6.7          3.3           5.7          2.1   Iris-virginica\n",
       "134           6.1          2.6           5.6          1.4   Iris-virginica\n",
       "144           6.7          3.3           5.7          2.5   Iris-virginica"
      ]
     },
     "execution_count": 23,
     "metadata": {},
     "output_type": "execute_result"
    }
   ],
   "source": [
    "base = pd.read_csv(\"data/iris.csv\")\n",
    "base_final = base.loc[sorteados]\n",
    "base_final"
   ]
  },
  {
   "attachments": {},
   "cell_type": "markdown",
   "metadata": {},
   "source": [
    "## Amostragem Estratificada"
   ]
  },
  {
   "cell_type": "code",
   "execution_count": 26,
   "metadata": {},
   "outputs": [
    {
     "data": {
      "text/plain": [
       "Iris-setosa        50\n",
       "Iris-versicolor    50\n",
       "Iris-virginica     50\n",
       "Name: class, dtype: int64"
      ]
     },
     "execution_count": 26,
     "metadata": {},
     "output_type": "execute_result"
    }
   ],
   "source": [
    "from sklearn.model_selection import train_test_split\n",
    "\n",
    "iris = pd.read_csv(\"data/iris.csv\")\n",
    "iris[\"class\"].value_counts()"
   ]
  },
  {
   "cell_type": "code",
   "execution_count": 27,
   "metadata": {},
   "outputs": [
    {
     "data": {
      "text/plain": [
       "Iris-virginica     25\n",
       "Iris-setosa        25\n",
       "Iris-versicolor    25\n",
       "Name: class, dtype: int64"
      ]
     },
     "execution_count": 27,
     "metadata": {},
     "output_type": "execute_result"
    }
   ],
   "source": [
    "# iris.iloc[:, 0:4]: buscamos somente os atributos previsores, ou seja, os dados sobre pétala e sétala da planta\n",
    "# iris.iloc[:, 4]: buscamos somente a classe, que é a espécie da planta (setosa, virginica ou versicolor)\n",
    "# test_size: selecionamos 50% da base de dados, que serão copiados para as variáveis X e Y. Essa função retorna 4 valores,\n",
    "# porém, vamos usar somente os 50% da base de dados e por isso colocamos \"_\" para os outros valores\n",
    "# stratify: para retornar a amostra baseada na classe\n",
    "X, _, Y, _ = train_test_split(iris.iloc[:,0:4], iris.iloc[:,4], \n",
    "                            test_size=0.5, stratify=iris.iloc[:, 4]) \n",
    "Y.value_counts()"
   ]
  },
  {
   "cell_type": "code",
   "execution_count": 28,
   "metadata": {},
   "outputs": [
    {
     "data": {
      "text/html": [
       "<div>\n",
       "<style scoped>\n",
       "    .dataframe tbody tr th:only-of-type {\n",
       "        vertical-align: middle;\n",
       "    }\n",
       "\n",
       "    .dataframe tbody tr th {\n",
       "        vertical-align: top;\n",
       "    }\n",
       "\n",
       "    .dataframe thead th {\n",
       "        text-align: right;\n",
       "    }\n",
       "</style>\n",
       "<table border=\"1\" class=\"dataframe\">\n",
       "  <thead>\n",
       "    <tr style=\"text-align: right;\">\n",
       "      <th></th>\n",
       "      <th>Unnamed: 0</th>\n",
       "      <th>education</th>\n",
       "      <th>age</th>\n",
       "      <th>parity</th>\n",
       "      <th>induced</th>\n",
       "      <th>case</th>\n",
       "      <th>spontaneous</th>\n",
       "      <th>stratum</th>\n",
       "      <th>pooled.stratum</th>\n",
       "    </tr>\n",
       "  </thead>\n",
       "  <tbody>\n",
       "    <tr>\n",
       "      <th>0</th>\n",
       "      <td>1</td>\n",
       "      <td>0-5yrs</td>\n",
       "      <td>26</td>\n",
       "      <td>6</td>\n",
       "      <td>1</td>\n",
       "      <td>1</td>\n",
       "      <td>2</td>\n",
       "      <td>1</td>\n",
       "      <td>3</td>\n",
       "    </tr>\n",
       "    <tr>\n",
       "      <th>1</th>\n",
       "      <td>2</td>\n",
       "      <td>0-5yrs</td>\n",
       "      <td>42</td>\n",
       "      <td>1</td>\n",
       "      <td>1</td>\n",
       "      <td>1</td>\n",
       "      <td>0</td>\n",
       "      <td>2</td>\n",
       "      <td>1</td>\n",
       "    </tr>\n",
       "    <tr>\n",
       "      <th>2</th>\n",
       "      <td>3</td>\n",
       "      <td>0-5yrs</td>\n",
       "      <td>39</td>\n",
       "      <td>6</td>\n",
       "      <td>2</td>\n",
       "      <td>1</td>\n",
       "      <td>0</td>\n",
       "      <td>3</td>\n",
       "      <td>4</td>\n",
       "    </tr>\n",
       "    <tr>\n",
       "      <th>3</th>\n",
       "      <td>4</td>\n",
       "      <td>0-5yrs</td>\n",
       "      <td>34</td>\n",
       "      <td>4</td>\n",
       "      <td>2</td>\n",
       "      <td>1</td>\n",
       "      <td>0</td>\n",
       "      <td>4</td>\n",
       "      <td>2</td>\n",
       "    </tr>\n",
       "    <tr>\n",
       "      <th>4</th>\n",
       "      <td>5</td>\n",
       "      <td>6-11yrs</td>\n",
       "      <td>35</td>\n",
       "      <td>3</td>\n",
       "      <td>1</td>\n",
       "      <td>1</td>\n",
       "      <td>1</td>\n",
       "      <td>5</td>\n",
       "      <td>32</td>\n",
       "    </tr>\n",
       "  </tbody>\n",
       "</table>\n",
       "</div>"
      ],
      "text/plain": [
       "   Unnamed: 0 education  age  parity  induced  case  spontaneous  stratum  \\\n",
       "0           1    0-5yrs   26       6        1     1            2        1   \n",
       "1           2    0-5yrs   42       1        1     1            0        2   \n",
       "2           3    0-5yrs   39       6        2     1            0        3   \n",
       "3           4    0-5yrs   34       4        2     1            0        4   \n",
       "4           5   6-11yrs   35       3        1     1            1        5   \n",
       "\n",
       "   pooled.stratum  \n",
       "0               3  \n",
       "1               1  \n",
       "2               4  \n",
       "3               2  \n",
       "4              32  "
      ]
     },
     "execution_count": 28,
     "metadata": {},
     "output_type": "execute_result"
    }
   ],
   "source": [
    "infert = pd.read_csv(\"data/infert.csv\")\n",
    "infert.head()"
   ]
  },
  {
   "cell_type": "code",
   "execution_count": 29,
   "metadata": {},
   "outputs": [
    {
     "data": {
      "text/plain": [
       "6-11yrs    120\n",
       "12+ yrs    116\n",
       "0-5yrs      12\n",
       "Name: education, dtype: int64"
      ]
     },
     "execution_count": 29,
     "metadata": {},
     "output_type": "execute_result"
    }
   ],
   "source": [
    "infert[\"education\"].value_counts()"
   ]
  },
  {
   "cell_type": "code",
   "execution_count": 31,
   "metadata": {},
   "outputs": [
    {
     "data": {
      "text/plain": [
       "6-11yrs    48\n",
       "12+ yrs    46\n",
       "0-5yrs      5\n",
       "Name: education, dtype: int64"
      ]
     },
     "execution_count": 31,
     "metadata": {},
     "output_type": "execute_result"
    }
   ],
   "source": [
    "X, _, Y, _ = train_test_split(infert.iloc[:,2:9], infert.iloc[:,1], \n",
    "                            test_size=0.6, stratify=infert.iloc[:, 1]) \n",
    "Y.value_counts()"
   ]
  },
  {
   "cell_type": "code",
   "execution_count": 32,
   "metadata": {},
   "outputs": [
    {
     "data": {
      "text/plain": [
       "127    12+ yrs\n",
       "1       0-5yrs\n",
       "237    12+ yrs\n",
       "9      6-11yrs\n",
       "207    6-11yrs\n",
       "        ...   \n",
       "157    12+ yrs\n",
       "87     6-11yrs\n",
       "50     12+ yrs\n",
       "196    6-11yrs\n",
       "148    12+ yrs\n",
       "Name: education, Length: 99, dtype: object"
      ]
     },
     "execution_count": 32,
     "metadata": {},
     "output_type": "execute_result"
    }
   ],
   "source": []
  },
  {
   "attachments": {},
   "cell_type": "markdown",
   "metadata": {},
   "source": [
    "## Medidas de Centralidade e Variabilidade"
   ]
  },
  {
   "cell_type": "code",
   "execution_count": 33,
   "metadata": {},
   "outputs": [
    {
     "data": {
      "text/plain": [
       "181111.11111111112"
      ]
     },
     "execution_count": 33,
     "metadata": {},
     "output_type": "execute_result"
    }
   ],
   "source": [
    "from scipy import stats\n",
    "\n",
    "jogadores = [40000, 18000, 12000, 250000, 30000, 140000, 300000, 40000, 800000]\n",
    "# Média \n",
    "np.mean(jogadores)"
   ]
  },
  {
   "cell_type": "code",
   "execution_count": 36,
   "metadata": {},
   "outputs": [
    {
     "data": {
      "text/plain": [
       "40000.0"
      ]
     },
     "execution_count": 36,
     "metadata": {},
     "output_type": "execute_result"
    }
   ],
   "source": [
    "# Mediana\n",
    "np.median(jogadores)"
   ]
  },
  {
   "cell_type": "code",
   "execution_count": 38,
   "metadata": {},
   "outputs": [
    {
     "data": {
      "text/plain": [
       "array([ 12000.,  30000.,  40000., 250000., 800000.])"
      ]
     },
     "execution_count": 38,
     "metadata": {},
     "output_type": "execute_result"
    }
   ],
   "source": [
    "# Quartis\n",
    "quartis = np.quantile(jogadores, [0, 0.25, .5, .75, 1])\n",
    "quartis"
   ]
  },
  {
   "cell_type": "code",
   "execution_count": 39,
   "metadata": {},
   "outputs": [
    {
     "data": {
      "text/plain": [
       "255307.87514511007"
      ]
     },
     "execution_count": 39,
     "metadata": {},
     "output_type": "execute_result"
    }
   ],
   "source": [
    "np.std(jogadores, ddof=1)"
   ]
  },
  {
   "cell_type": "code",
   "execution_count": 35,
   "metadata": {},
   "outputs": [
    {
     "data": {
      "text/plain": [
       "DescribeResult(nobs=9, minmax=(12000, 800000), mean=181111.11111111112, variance=65182111111.11111, skewness=1.758635899846188, kurtosis=1.9572075427527729)"
      ]
     },
     "execution_count": 35,
     "metadata": {},
     "output_type": "execute_result"
    }
   ],
   "source": [
    "# Visualização das estatisticas\n",
    "stats.describe(jogadores)"
   ]
  },
  {
   "attachments": {},
   "cell_type": "markdown",
   "metadata": {},
   "source": [
    "## Distribuição normal"
   ]
  },
  {
   "cell_type": "code",
   "execution_count": 41,
   "metadata": {},
   "outputs": [
    {
     "data": {
      "text/plain": [
       "0.15865525393145707"
      ]
     },
     "execution_count": 41,
     "metadata": {},
     "output_type": "execute_result"
    }
   ],
   "source": [
    "from scipy.stats import norm\n",
    "\n",
    "# Conjunto de objetos em uma cesta, a média é 8 e o desvio padrão é 2\n",
    "# Qual a probabilidade de tirar um objeto que é menor que 6 quilos?\n",
    "norm.cdf(6,8,2)"
   ]
  },
  {
   "cell_type": "code",
   "execution_count": 43,
   "metadata": {},
   "outputs": [
    {
     "name": "stdout",
     "output_type": "stream",
     "text": [
      "0.8413447460685429\n"
     ]
    },
    {
     "data": {
      "text/plain": [
       "0.8413447460685429"
      ]
     },
     "execution_count": 43,
     "metadata": {},
     "output_type": "execute_result"
    }
   ],
   "source": [
    "# E qual é de que o peso de seja maior que 6?\n",
    "print(norm.sf(6,8,2))\n",
    "1 - norm.cdf(6,8,2)"
   ]
  },
  {
   "cell_type": "code",
   "execution_count": 44,
   "metadata": {},
   "outputs": [
    {
     "data": {
      "text/plain": [
       "0.31731050786291415"
      ]
     },
     "execution_count": 44,
     "metadata": {},
     "output_type": "execute_result"
    }
   ],
   "source": [
    "# Qual a probabilidade de ser menor que 6 ou maior que 10?\n",
    "norm.cdf(6,8,2) + norm.sf(10, 8, 2)"
   ]
  },
  {
   "cell_type": "code",
   "execution_count": 45,
   "metadata": {},
   "outputs": [
    {
     "data": {
      "text/plain": [
       "0.3413447460685429"
      ]
     },
     "execution_count": 45,
     "metadata": {},
     "output_type": "execute_result"
    }
   ],
   "source": [
    "# Qual a probabilidade de ser menor que 10 e maior que 8 quilos?\n",
    "norm.cdf(10, 8, 2) - norm.cdf(8, 8, 2)"
   ]
  },
  {
   "attachments": {},
   "cell_type": "markdown",
   "metadata": {},
   "source": [
    "## Teste de Normalidade"
   ]
  },
  {
   "cell_type": "code",
   "execution_count": 3,
   "metadata": {},
   "outputs": [
    {
     "data": {
      "text/plain": [
       "array([ 1.42988859e+00,  6.59504485e-01,  3.35112030e-01,  6.72541683e-01,\n",
       "       -1.07258025e+00,  2.18121639e+00,  1.28876979e+00,  7.11039607e-01,\n",
       "       -9.76255142e-01, -1.02228323e-01,  6.18194118e-01,  1.50722436e+00,\n",
       "        6.31300916e-01,  6.30557718e-01, -3.92678633e-01, -1.43274603e+00,\n",
       "       -4.38555420e-01,  4.21289146e-01, -9.72843111e-01, -3.26057307e-01,\n",
       "        1.19979690e+00,  1.01446763e+00, -9.21388706e-01,  2.17515341e+00,\n",
       "       -1.38019395e-01, -5.94110184e-01, -6.21414903e-01, -5.60118792e-01,\n",
       "        1.05801053e+00, -1.51508687e+00,  1.30529128e+00, -9.28726106e-02,\n",
       "       -1.15313919e+00, -4.09150129e-01,  1.13345362e+00, -4.24987865e-01,\n",
       "        1.25578874e+00, -3.43305698e-01,  5.34626233e-01,  3.32182442e-01,\n",
       "       -1.00765453e+00, -3.75493428e-01,  2.04634861e+00,  1.05159593e+00,\n",
       "       -2.39494323e+00,  1.18921812e+00,  3.80764620e-01, -2.31212055e-02,\n",
       "        4.09541380e-01, -1.56171539e+00, -1.64075530e-01,  1.91547292e+00,\n",
       "       -4.75542462e-01,  9.52805625e-01,  2.65679539e-01, -4.88580040e-01,\n",
       "        6.97520471e-02,  9.96617201e-01, -4.95517165e-03, -1.17695467e+00,\n",
       "        1.19976774e+00, -5.68149806e-01, -7.07229343e-02,  8.93939882e-01,\n",
       "        7.12989121e-01,  2.00897373e+00, -1.00786911e+00, -2.75228070e-01,\n",
       "        1.41231956e+00,  1.00250115e+00,  2.23580160e-01, -2.32534468e-01,\n",
       "        5.15799167e-01, -4.40482464e-01,  7.39155542e-01,  9.68139491e-01,\n",
       "       -7.41824672e-01, -5.35816740e-01, -6.20553749e-01,  8.93652919e-02,\n",
       "        2.32385472e-01,  7.33869267e-01,  7.77098354e-01,  9.70007486e-01,\n",
       "        1.74320272e+00,  2.17610610e-01,  1.55004687e-02,  8.44082225e-01,\n",
       "        1.81100367e+00, -2.35707253e+00,  2.13341332e-01,  3.46626511e-02,\n",
       "       -8.62639782e-01,  5.62178553e-01,  1.26932341e+00,  1.22277138e+00,\n",
       "       -8.52115381e-01, -1.00839323e+00, -1.86638956e+00,  2.43144971e+00,\n",
       "       -3.20154716e-01,  2.81742999e-01,  4.19648076e-01,  6.58643983e-01,\n",
       "       -7.92894252e-02,  6.29286084e-01,  8.10651019e-01,  7.75518445e-01,\n",
       "       -1.67235508e+00, -2.68956316e-01,  1.00903247e+00, -3.35181492e-01,\n",
       "        3.95510229e-01,  1.34272246e+00, -7.11907466e-01, -1.50945378e+00,\n",
       "       -1.23171858e+00, -1.81048361e-01, -2.61748046e-01, -1.34346336e+00,\n",
       "        6.88833714e-02,  1.19497225e+00, -1.58979530e+00,  1.31526391e-01,\n",
       "        6.48472500e-02, -4.80331161e-01, -4.08769237e-01, -1.42156465e+00,\n",
       "        4.65777453e-02,  4.97128257e-01,  8.79710085e-01, -8.36718678e-01,\n",
       "        5.99210999e-01, -5.52963211e-01, -2.57756330e-01,  5.99534276e-01,\n",
       "       -3.94922673e-01,  9.88938692e-01, -1.57204872e+00, -1.94819715e+00,\n",
       "        1.97165260e+00,  2.59855806e+00, -3.41841237e-01, -2.30950375e+00,\n",
       "        1.03083881e+00, -1.12529689e+00, -1.80250702e+00, -1.80337978e-02,\n",
       "        6.70183257e-01,  2.84421800e-01,  2.42198755e-01,  2.98286543e-01,\n",
       "        8.73894496e-01, -7.54847870e-01,  5.04840384e-01, -2.00731542e-01,\n",
       "       -5.47766899e-01, -1.16481519e+00, -8.36409571e-01,  9.47466464e-01,\n",
       "        5.41885327e-01, -5.36383213e-01, -7.65968928e-01, -8.81218424e-01,\n",
       "        8.50771906e-03, -1.37881122e-02,  5.38631994e-01,  8.73904682e-02,\n",
       "       -7.38525550e-01, -6.12630233e-01, -1.53653403e+00,  1.55034146e+00,\n",
       "        2.15410810e-01,  8.79989177e-01,  5.76931445e-01,  5.42748695e-01,\n",
       "       -5.63097512e-01,  3.32141427e-01,  3.71529906e-01,  1.17888985e-02,\n",
       "        1.26257894e+00, -1.92733176e+00, -1.47792965e-02,  6.45744923e-01,\n",
       "        1.81599600e+00,  1.46199169e+00,  4.09051344e-02, -1.46703474e+00,\n",
       "       -5.28576378e-01, -9.95958533e-01, -4.57146429e-01, -2.48459498e-01,\n",
       "        1.78757800e+00,  2.95890527e-01,  1.98953082e+00,  1.46045859e+00,\n",
       "       -1.74107894e-02,  3.59884630e-01,  2.28395648e-01,  9.18089044e-01,\n",
       "        9.45127100e-01, -2.63515828e-01, -2.27873377e-01, -1.03099469e+00,\n",
       "       -8.62146180e-01, -1.69290009e+00, -1.03005151e+00, -4.68106289e-01,\n",
       "        1.01042281e+00, -9.29799870e-01,  1.25117698e-01,  1.37068807e+00,\n",
       "        5.85466148e-01,  1.38826411e-01, -1.69969974e-01, -1.86219876e-01,\n",
       "        1.35241229e+00,  4.41279219e-02,  1.25019644e+00, -4.06233348e-01,\n",
       "        9.69091964e-01, -8.48798253e-01, -4.71745591e-01,  8.52254232e-01,\n",
       "        7.97860096e-01, -1.66666672e-01,  3.55509496e-01, -1.50843566e+00,\n",
       "       -2.49843968e-01,  3.70920681e-01, -1.87251389e+00, -7.16708321e-02,\n",
       "        1.18435672e-01, -3.90897939e-01, -1.18815779e+00, -9.07641185e-01,\n",
       "       -4.27394030e-01, -2.68020859e-01,  1.03195225e+00, -9.97480692e-01,\n",
       "       -7.85214131e-01, -5.24924070e-01,  4.32713400e-01,  6.81833647e-03,\n",
       "       -7.82916087e-01,  5.37710323e-01, -3.21223004e-01,  2.15617292e+00,\n",
       "        4.02707654e-01,  3.80703624e-01, -1.54275496e+00, -5.15010694e-01,\n",
       "       -6.61605387e-01, -1.24071597e+00,  8.91361811e-01,  2.27799329e+00,\n",
       "       -7.62373157e-01, -1.99207967e-02,  1.92982291e-01, -2.31785873e+00,\n",
       "       -3.46179147e-01,  1.17427289e+00, -6.62465035e-01, -1.95278836e-01,\n",
       "        1.23779938e-01,  5.74961059e-01,  1.49927870e-01,  1.87230762e-01,\n",
       "        1.12557756e+00,  2.09043918e-01,  1.34410173e+00,  3.01016694e-01,\n",
       "       -6.34137620e-01, -6.01325275e-01, -6.28326604e-01,  1.98756407e+00,\n",
       "       -2.15479080e-01, -2.15007132e-01,  7.26683019e-01,  5.01408606e-01,\n",
       "        4.06778467e-01, -5.56392916e-01, -1.18049335e+00, -4.36397474e-01,\n",
       "        1.41363796e+00, -6.58701495e-01,  4.63479001e-01, -2.94432237e+00,\n",
       "       -5.89299553e-01,  1.76870163e+00, -1.90571543e-01, -4.27882333e-01,\n",
       "        7.68377506e-01, -1.61516404e+00, -3.13352241e-01, -1.36930734e+00,\n",
       "        1.79072053e+00,  2.98011624e-01,  8.35140521e-01, -4.68830704e-01,\n",
       "       -1.03376124e+00, -4.57731516e-01, -2.22131494e+00, -1.85941511e-01,\n",
       "        2.51427531e-01,  9.18566760e-02,  7.74478364e-01,  1.00260851e+00,\n",
       "        1.11125266e+00, -5.58334433e-01,  4.58386369e-01,  2.39934818e-01,\n",
       "        1.09423319e+00,  1.18743392e-01, -1.53984784e+00,  1.12868386e+00,\n",
       "        5.12474082e-01,  2.17371814e+00, -8.69838391e-02,  8.51228912e-01,\n",
       "       -3.16200757e-01,  7.86872607e-01, -2.62179903e-01, -1.89469837e+00,\n",
       "       -2.54248091e+00,  1.02542079e+00, -1.44924338e-01,  7.32908325e-01,\n",
       "        6.65870123e-02,  7.95131562e-01, -2.02451930e+00,  1.43287368e+00,\n",
       "        1.01766656e+00, -1.76646700e+00,  2.22298289e+00, -3.21554238e-01,\n",
       "        2.48427434e-01, -8.88937050e-01,  1.43753208e+00,  2.08488149e+00,\n",
       "        1.52515721e+00, -2.18281207e-01, -9.23293052e-01,  1.72854694e+00,\n",
       "        1.79811310e-01, -5.01435307e-01, -7.52215558e-01,  4.74856165e-02,\n",
       "       -8.14365980e-01, -1.23426813e+00, -8.14056491e-01,  1.15022000e+00,\n",
       "       -8.42599730e-01,  2.57180720e-01,  4.96162330e-01, -9.60314370e-02,\n",
       "       -9.29163753e-01, -4.69575536e-01, -2.93986593e-01,  6.70974476e-01,\n",
       "       -1.88367777e+00,  1.14053887e+00, -1.31982768e-02, -6.59436501e-01,\n",
       "       -3.06943382e-01,  3.70042928e-02, -5.04117596e-01, -3.07242138e-01,\n",
       "       -7.63981000e-02, -2.01363899e+00, -1.30421188e-01,  5.02107569e-01,\n",
       "        2.59205130e+00,  6.95484266e-01,  1.23834679e-01, -1.37120995e+00,\n",
       "        1.92707998e-01,  1.31231498e+00, -4.35267921e-01,  1.74623505e-01,\n",
       "       -9.88967005e-01, -2.73937202e-01, -1.71737369e+00, -6.32695880e-01,\n",
       "       -5.37976502e-01,  2.88378935e-01,  5.83042727e-01,  1.21028450e+00,\n",
       "       -2.30626040e+00, -9.54835947e-01, -4.67598111e-01,  4.65840320e-01,\n",
       "        1.21758950e+00, -3.29530704e+00,  1.90479896e+00,  3.67572206e-01,\n",
       "       -1.63059264e+00,  1.75158283e-02,  1.24404514e+00,  1.44883730e-01,\n",
       "        7.57108244e-01, -7.35413533e-01,  9.84575442e-01,  1.56208339e+00,\n",
       "       -3.87784424e-01,  1.56713215e+00,  2.92718428e-01,  1.94943591e+00,\n",
       "        4.82316785e-01, -2.83459343e+00, -9.68893463e-01,  1.58630881e-01,\n",
       "        1.32057551e-01, -1.07807442e+00,  1.03356012e+00, -4.97195694e-01,\n",
       "       -5.62301894e-02, -2.08585649e+00, -1.53664014e+00, -6.01638845e-01,\n",
       "       -8.46057267e-02,  1.06689897e+00,  1.55291404e+00,  5.73987284e-01,\n",
       "       -1.70033916e-01, -1.02130604e+00,  1.14425355e+00,  4.25561029e-01,\n",
       "       -6.44287150e-02, -6.52275336e-01,  1.28237371e-01, -7.18030441e-01,\n",
       "        2.52599334e+00,  3.62827297e-02, -8.85498372e-01, -9.54141017e-01,\n",
       "       -5.28190090e-01, -2.37210564e+00,  7.46577851e-01,  2.15569750e+00,\n",
       "       -1.41115718e+00,  7.15534660e-01,  9.52389690e-01, -1.24281495e+00,\n",
       "       -1.14607284e+00,  1.10317514e+00, -1.16841256e+00,  8.20630598e-01,\n",
       "       -5.88544064e-01,  1.44405394e-01, -2.31117193e-01,  3.55185412e-01,\n",
       "        1.17813888e+00, -7.39837856e-01,  2.44225874e-01,  8.95298888e-01,\n",
       "        1.51814451e+00,  7.35158616e-01,  8.76968462e-01,  2.63767470e-01,\n",
       "        1.43217787e+00, -1.37838900e+00, -1.10726636e-01,  2.71969247e+00,\n",
       "        3.18695665e-01, -1.45748230e+00,  1.31220580e+00, -7.11846136e-01,\n",
       "       -3.74536837e-01,  8.18783211e-01, -1.29001461e-01,  7.06632374e-01,\n",
       "       -4.80361526e-01,  3.69199573e-02, -9.34905105e-01,  5.58537618e-01,\n",
       "       -1.24328975e+00,  7.86463971e-02, -4.52990294e-01, -2.79344058e-01,\n",
       "       -4.20752713e-01, -4.27410611e-01, -1.00749219e-01,  1.07259622e+00,\n",
       "        8.53371544e-01,  5.67879825e-02, -1.58500190e-01,  1.13530939e-01,\n",
       "        7.48505582e-01, -2.71512155e-01, -4.50815085e-01,  2.99420383e+00,\n",
       "        2.53236678e+00, -5.68484260e-01,  7.46402105e-01,  6.40476535e-01,\n",
       "       -6.35728141e-01, -5.64753336e-01, -7.52568368e-01,  3.28747845e-01,\n",
       "        3.77851658e-02,  1.96782812e+00,  6.20842725e-01,  5.72504213e-01,\n",
       "       -2.31524604e+00,  3.47684875e-01, -1.18487288e-02,  4.09659378e-01,\n",
       "        3.12433682e-01,  1.31157590e+00, -4.64534616e-01, -1.18794360e+00,\n",
       "        7.92427992e-01, -1.02275192e+00,  1.75676302e+00, -3.51393362e-01,\n",
       "       -2.55493294e-01,  1.63594858e+00, -2.44658109e+00, -6.50238787e-01,\n",
       "       -6.35216302e-01,  1.09756644e+00,  1.46364717e+00,  2.41304068e+00,\n",
       "        1.13395479e+00,  8.39418841e-01,  2.14323250e-01, -3.83585893e-02,\n",
       "        6.05850844e-01, -8.23692592e-01,  4.16432997e-02, -7.55730356e-01,\n",
       "       -1.27629565e+00,  3.18813032e-01,  8.59829010e-01,  3.89375295e-01,\n",
       "        1.71352321e-01, -3.34955273e-01, -5.21587080e-01, -8.29655775e-01,\n",
       "        2.76061552e-01,  6.41658864e-01, -1.08910171e+00, -2.04034539e-01,\n",
       "       -2.02015931e+00, -5.43866460e-02, -6.09696457e-01, -1.51538408e+00,\n",
       "       -8.78844191e-01, -4.23890243e-01,  1.46983111e+00, -2.31416926e-01,\n",
       "       -1.21871953e+00,  1.53742191e-01, -1.26168697e+00,  1.13243893e+00,\n",
       "        2.05596482e-01,  6.72282515e-01, -5.89821679e-01,  1.13093288e+00,\n",
       "       -5.20992724e-01, -1.01517360e-01,  1.13787296e+00,  1.59275016e+00,\n",
       "        9.04694078e-01,  1.48521502e-01, -5.06289813e-01, -1.24259535e-01,\n",
       "       -5.12413943e-01,  2.17124799e-02,  1.05113676e+00, -1.16740177e+00,\n",
       "        1.10253903e+00,  6.98929409e-01, -7.68097816e-01, -1.16457350e+00,\n",
       "        2.13419962e+00, -2.17583618e-01, -7.91279945e-01,  1.00458858e+00,\n",
       "        1.58475118e+00, -7.21217067e-01,  1.62617792e+00,  2.46973952e-01,\n",
       "        7.55552237e-01,  4.62849337e-02,  1.59376063e+00,  6.28811541e-01,\n",
       "       -4.17794487e-01,  1.42510922e+00, -7.99467916e-01, -1.08737855e+00,\n",
       "        6.66739367e-01,  2.37778948e+00,  3.92699866e-01, -8.88677533e-03,\n",
       "       -1.91157627e+00,  1.62307399e+00, -1.91227695e-01,  1.04965251e+00,\n",
       "        1.18526776e+00,  7.79783186e-01, -1.77730407e-01,  4.02443158e-01,\n",
       "        7.54430951e-01, -1.05314008e+00, -2.14156090e-01,  1.39620846e-01,\n",
       "        1.12213190e-01, -9.09013527e-01,  1.61362537e+00, -5.78949445e-01,\n",
       "        9.60362704e-01, -1.96218788e+00, -4.92603318e-01,  1.06156773e+00,\n",
       "       -5.09183256e-01,  7.50657986e-01,  1.62850526e-01, -6.19899288e-01,\n",
       "        1.99905992e+00, -1.04232074e+00,  3.88786056e-01, -1.04647954e+00,\n",
       "        1.84576683e+00,  1.55244302e+00, -2.53697768e-01, -3.36733070e-01,\n",
       "       -3.89553823e-01,  8.76005354e-01, -4.13275412e-01, -2.27649697e+00,\n",
       "       -9.88232161e-01,  1.27216209e-01,  1.90537139e-03,  8.29724460e-01,\n",
       "        3.02880828e-01,  6.08331984e-01, -1.04640503e+00, -2.81198389e-01,\n",
       "        7.86444490e-01,  8.09151498e-01,  1.99349296e+00, -4.49822344e-02,\n",
       "        4.79094779e-01, -5.80888430e-01, -1.09658192e+00,  2.47632458e-01,\n",
       "       -1.19988663e+00, -9.32552268e-01, -2.31743133e+00, -1.62957717e+00,\n",
       "        1.12269270e+00,  1.33492944e+00, -9.22526874e-01, -8.66309319e-01,\n",
       "        1.22820092e+00, -5.65571583e-01, -1.03902027e+00,  1.56783325e+00,\n",
       "        2.59902900e-01,  1.23897574e+00,  2.07183939e+00, -1.44919288e+00,\n",
       "       -4.42268508e-02,  6.21778118e-01, -1.75208572e-02, -1.10343982e+00,\n",
       "       -2.21202595e-01,  1.18448343e+00,  2.25547035e+00, -3.50185159e-01,\n",
       "        2.45105995e+00,  7.14204337e-02,  6.73958137e-01,  6.18439324e-01,\n",
       "        6.13976118e-02,  1.08976201e+00,  3.09773070e-01, -5.52776328e-01,\n",
       "       -2.93028168e-01,  6.13834916e-01,  1.58130097e+00,  2.22358139e+00,\n",
       "        1.64546467e+00, -9.30770338e-01, -1.36939295e+00,  1.79331840e+00,\n",
       "       -7.96382685e-01, -8.22201095e-01,  9.93251763e-01, -3.69174805e-01,\n",
       "       -6.46605492e-01, -2.61346010e-01,  3.72624237e-01,  9.53104053e-01,\n",
       "        1.49241681e-01, -3.91187416e-01, -2.18190077e+00, -7.13184578e-01,\n",
       "        6.95351610e-01, -8.35346891e-02,  6.85091366e-01,  2.32115009e-01,\n",
       "        2.07390402e-01,  2.33825269e+00,  1.48733725e+00,  2.16875809e+00,\n",
       "        1.41172839e+00,  2.73808855e-01,  3.69576316e-01, -1.96097013e-01,\n",
       "        5.67383668e-01,  5.95411842e-02, -1.65268033e+00, -1.73635186e+00,\n",
       "       -1.69033568e+00,  3.43706826e-01, -1.56079806e+00, -3.55484305e-01,\n",
       "       -3.13071197e-02, -1.14350195e+00,  1.18964280e+00, -1.86243081e+00,\n",
       "       -9.49613073e-02, -4.82532073e-02, -1.06947040e+00,  7.07349281e-03,\n",
       "       -7.62129994e-01, -4.97385610e-01,  7.51220370e-01,  6.51535199e-01,\n",
       "        1.04007545e+00,  1.40508674e+00, -5.99050043e-01, -1.66528930e+00,\n",
       "       -1.20658960e-01,  5.70975865e-01,  2.75744500e-01, -1.75121259e+00,\n",
       "        2.47437499e-01,  7.50104302e-02,  5.43822128e-01,  1.04148088e-01,\n",
       "       -3.12578291e-01,  5.07333164e-02, -2.45300509e+00, -5.07647282e-01,\n",
       "        5.51428650e-01, -2.97259318e-01, -6.55860330e-02,  2.57752217e-01,\n",
       "        2.26838304e-01, -2.37977663e-01,  6.36384979e-01,  1.28753516e+00,\n",
       "       -1.70532123e+00,  1.31850204e+00,  2.50228121e-01,  9.18610014e-01,\n",
       "       -3.60260022e-01, -1.60290081e-01,  1.01043132e+00, -3.76051652e-02,\n",
       "       -6.92247814e-01,  6.31101515e-01, -5.64750727e-01,  6.32081317e-01,\n",
       "       -1.05859309e-01, -1.36537422e+00, -1.25647831e+00,  8.30338576e-02,\n",
       "        1.46168753e+00, -5.20711550e-02, -1.21908712e+00, -2.08362205e-01,\n",
       "       -1.85505448e+00, -3.68012754e-01, -5.10058968e-01, -1.51047086e+00,\n",
       "       -2.93719437e-01,  2.44168489e-01, -6.19319159e-02, -1.65686037e+00,\n",
       "        3.29384325e-01, -1.04173437e+00,  1.31514110e+00, -5.31296735e-01,\n",
       "        3.28884687e-01,  1.09713748e-01, -1.20945844e+00, -8.15893720e-01,\n",
       "       -1.96166885e+00, -2.22017794e-01,  2.14304743e-01, -3.19702377e-02,\n",
       "       -1.57576958e+00, -1.71429181e-01, -1.23668501e+00,  1.96796655e+00,\n",
       "       -1.38359607e+00, -1.74399417e+00,  2.83388738e-01, -1.02974330e+00,\n",
       "        7.06127168e-01, -2.79969755e-01,  8.53511702e-01, -8.71109533e-01,\n",
       "       -1.15074721e+00,  2.87859716e-01,  3.08564412e-01, -1.27947824e+00,\n",
       "       -2.65935705e-01, -6.09452560e-01, -2.85279509e-01,  4.41697238e-02,\n",
       "       -8.39054678e-01, -4.50172528e-01,  7.98175759e-01, -1.40526622e-01,\n",
       "       -2.05900716e-01, -1.71454303e+00, -3.01746917e-01, -1.05288237e+00,\n",
       "        2.27055014e+00, -5.73507847e-01, -1.74325641e+00, -1.97236487e-01,\n",
       "        8.24435201e-01,  4.87287622e-01,  5.23416148e-01,  1.10928173e+00,\n",
       "       -9.43034428e-01,  8.27857657e-01,  1.91940269e-01,  1.20769069e+00,\n",
       "        7.96947390e-02, -1.93546813e+00,  1.95897573e+00,  6.31814964e-01,\n",
       "       -7.11524567e-01, -4.56753356e-01, -7.91296452e-01,  5.14293070e-01,\n",
       "        2.06050472e-01,  8.34002568e-01,  6.58903239e-01, -4.76705997e-02,\n",
       "       -6.94270608e-01, -9.05345821e-01, -9.75123167e-01, -9.10122096e-01,\n",
       "       -2.17111685e+00, -1.64721235e+00,  1.01444517e+00,  7.97151149e-01,\n",
       "        9.87477663e-01, -6.66030954e-01, -1.92452972e+00,  8.21383500e-01,\n",
       "       -9.94744328e-01,  1.21038898e+00,  1.05747760e-01, -5.02372292e-01,\n",
       "        9.31849581e-01,  1.20554510e+00, -6.98344294e-01,  1.73183360e+00,\n",
       "        1.37128473e+00, -3.99264020e-01,  4.04497274e-01, -1.51585365e+00,\n",
       "       -2.60232219e+00, -6.03109579e-01, -8.11342251e-01,  6.03792125e-01,\n",
       "        9.03491983e-01,  1.01960212e+00, -5.13897652e-02,  1.13596800e+00,\n",
       "       -3.69241439e-01,  1.35472114e-01,  2.82628605e+00,  4.41324677e-01,\n",
       "       -6.02753507e-01, -2.49490975e-01,  7.35458836e-01,  1.29182114e-01,\n",
       "       -1.79291150e+00, -1.53839176e+00, -2.24319825e+00, -4.10127651e-01,\n",
       "       -6.48908103e-01, -7.78376939e-01,  6.28208164e-01, -4.31829539e-01,\n",
       "       -2.92449857e-01,  6.55101898e-01,  6.60847179e-01,  3.10182780e-01,\n",
       "       -1.01496243e+00, -1.00578063e+00,  7.07121439e-01, -6.13150358e-02,\n",
       "       -1.07621756e+00,  6.40628303e-01, -1.92543689e-01, -2.90540001e-01,\n",
       "       -7.15516065e-01, -3.42083329e-02,  1.16173312e+00, -5.52022613e-01,\n",
       "       -1.76383066e+00,  1.16162817e+00,  5.77817709e-02, -1.73718146e+00,\n",
       "       -2.36018424e+00,  4.27601888e-01, -6.53621078e-01, -7.43223297e-01,\n",
       "       -4.36974824e-01, -7.95069501e-01, -1.71883189e+00, -1.23607755e+00,\n",
       "        2.31780763e+00,  2.49581004e-01, -1.40328861e+00, -3.99018425e-01,\n",
       "       -5.37865336e-01, -4.32465274e-01,  1.85999472e+00,  1.83104075e+00,\n",
       "        2.99379780e-01, -1.07879054e+00, -1.33245211e+00, -9.23358729e-01,\n",
       "        1.94858584e-01, -4.57020317e-01, -1.33123869e+00,  5.62718445e-01,\n",
       "       -7.25101200e-01, -1.44161432e-01,  1.72831003e-01,  3.37564732e-01,\n",
       "       -3.96746893e-01, -8.30457139e-01, -1.87923488e+00, -1.41026665e-01,\n",
       "        9.53230607e-01, -4.95408194e-01,  9.65468213e-01, -1.10337395e+00,\n",
       "        1.30695435e+00, -3.59210311e-01, -1.78181068e+00,  8.08079294e-02,\n",
       "        3.19107214e-02, -8.50839994e-01, -1.83641584e+00, -7.57576031e-01,\n",
       "        3.80933776e-01, -5.62721761e-01, -2.70617315e-02, -9.07652360e-01,\n",
       "        7.48416787e-01,  7.46174046e-01, -6.98778015e-01, -1.09509887e+00,\n",
       "       -1.09749573e+00,  1.10698613e+00,  1.94171971e-01, -9.40581098e-01,\n",
       "        8.83129095e-01, -1.90916839e+00, -6.56227327e-01, -1.74439621e-01,\n",
       "       -7.76566807e-02,  1.39977814e+00,  7.63917249e-01,  9.17048408e-01,\n",
       "        1.80128045e+00,  5.23118175e-01, -2.94449123e-02, -1.17620507e+00,\n",
       "       -1.11295376e+00,  2.02974693e+00,  1.78629527e-01, -1.09837166e+00,\n",
       "        1.69449859e-01, -5.07276814e-01, -1.41704136e+00, -2.20312063e+00,\n",
       "       -5.97302397e-01, -4.28393212e-01,  5.32742479e-01, -1.32122095e+00,\n",
       "        1.37318186e+00, -1.21241520e+00,  7.81632438e-01,  2.52414042e-01])"
      ]
     },
     "execution_count": 3,
     "metadata": {},
     "output_type": "execute_result"
    }
   ],
   "source": [
    "from scipy import stats\n",
    "from scipy.stats import norm, skewnorm\n",
    "import matplotlib.pyplot as plt\n",
    "\n",
    "# Criação de dados com distribuição normal\n",
    "dados = norm.rvs(size=1000)\n",
    "dados\n"
   ]
  },
  {
   "cell_type": "code",
   "execution_count": 6,
   "metadata": {},
   "outputs": [
    {
     "data": {
      "text/plain": [
       "Text(0.5, 1.0, 'Dados')"
      ]
     },
     "execution_count": 6,
     "metadata": {},
     "output_type": "execute_result"
    },
    {
     "data": {
      "image/png": "[encoded data removed]",
      "text/plain": [
       "<Figure size 640x480 with 1 Axes>"
      ]
     },
     "metadata": {},
     "output_type": "display_data"
    }
   ],
   "source": [
    "# Histograma\n",
    "plt.hist(dados, bins=20)\n",
    "plt.title(\"Dados\")"
   ]
  },
  {
   "cell_type": "code",
   "execution_count": 7,
   "metadata": {},
   "outputs": [
    {
     "data": {
      "image/png": "[encoded data removed]",
      "text/plain": [
       "<Figure size 640x480 with 1 Axes>"
      ]
     },
     "metadata": {},
     "output_type": "display_data"
    }
   ],
   "source": [
    "# Geração de gráficos para verificar se a distribuição é normal\n",
    "fig, ax = plt.subplots()\n",
    "stats.probplot(dados, fit=True, plot=ax)\n",
    "plt.show()"
   ]
  },
  {
   "cell_type": "code",
   "execution_count": 9,
   "metadata": {},
   "outputs": [
    {
     "data": {
      "text/plain": [
       "ShapiroResult(statistic=0.9986142516136169, pvalue=0.6306357979774475)"
      ]
     },
     "execution_count": 9,
     "metadata": {},
     "output_type": "execute_result"
    }
   ],
   "source": [
    "# Execução do teste de Shapiro\n",
    "# Se acima de 0.05, tende a ser uma distruibuição normal\n",
    "stats.shapiro(dados)"
   ]
  },
  {
   "attachments": {},
   "cell_type": "markdown",
   "metadata": {},
   "source": [
    "## Dados Não-Normais"
   ]
  },
  {
   "cell_type": "code",
   "execution_count": 12,
   "metadata": {},
   "outputs": [
    {
     "data": {
      "text/plain": [
       "Text(0.5, 1.0, 'Dados')"
      ]
     },
     "execution_count": 12,
     "metadata": {},
     "output_type": "execute_result"
    },
    {
     "data": {
      "image/png": "[encoded data removed]",
      "text/plain": [
       "<Figure size 640x480 with 1 Axes>"
      ]
     },
     "metadata": {},
     "output_type": "display_data"
    }
   ],
   "source": [
    "dados2 = skewnorm.rvs(4, size=1000)\n",
    "\n",
    "plt.hist(dados2, bins=20)\n",
    "plt.title(\"Dados\")"
   ]
  },
  {
   "cell_type": "code",
   "execution_count": 13,
   "metadata": {},
   "outputs": [
    {
     "data": {
      "image/png": "[encoded data removed]",
      "text/plain": [
       "<Figure size 640x480 with 1 Axes>"
      ]
     },
     "metadata": {},
     "output_type": "display_data"
    }
   ],
   "source": [
    "fig, ax = plt.subplots()\n",
    "stats.probplot(dados2, fit=True, plot=ax)\n",
    "plt.show()"
   ]
  },
  {
   "cell_type": "code",
   "execution_count": 14,
   "metadata": {},
   "outputs": [
    {
     "data": {
      "text/plain": [
       "ShapiroResult(statistic=0.9617775678634644, pvalue=1.6218615238319735e-15)"
      ]
     },
     "execution_count": 14,
     "metadata": {},
     "output_type": "execute_result"
    }
   ],
   "source": [
    "# Infinitamente menor que 0.05\n",
    "stats.shapiro(dados2)\n"
   ]
  },
  {
   "cell_type": "code",
   "execution_count": null,
   "metadata": {},
   "outputs": [],
   "source": []
  }
 ],
 "metadata": {
  "kernelspec": {
   "display_name": "Python 3",
   "language": "python",
   "name": "python3"
  },
  "language_info": {
   "codemirror_mode": {
    "name": "ipython",
    "version": 3
   },
   "file_extension": ".py",
   "mimetype": "text/x-python",
   "name": "python",
   "nbconvert_exporter": "python",
   "pygments_lexer": "ipython3",
   "version": "3.11.0"
  },
  "orig_nbformat": 4,
  "vscode": {
   "interpreter": {
    "hash": "72b2382ece9768098284d92bbc69d35954e75b60d1e25897d1389c232f4796f0"
   }
  }
 },
 "nbformat": 4,
 "nbformat_minor": 2
}
