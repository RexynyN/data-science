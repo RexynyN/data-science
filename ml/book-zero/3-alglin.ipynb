{
 "cells": [
  {
   "cell_type": "code",
   "execution_count": null,
   "metadata": {},
   "outputs": [],
   "source": [
    "from typing import List\n",
    "\n",
    "# Alias for a List of floats (now a vector)\n",
    "Vector = List[float]"
   ]
  },
  {
   "cell_type": "markdown",
   "metadata": {},
   "source": [
    "## Vector Manipulation and Operations"
   ]
  },
  {
   "cell_type": "code",
   "execution_count": null,
   "metadata": {},
   "outputs": [],
   "source": [
    "import math \n",
    "\n",
    "def add(v: Vector, w: Vector) -> Vector:\n",
    "    \"\"\" Returns the sum of two vectors \"\"\"\n",
    "    assert len(v) == len(w), \"Both vectors must be the same length\"\n",
    "\n",
    "    # Sum of each component (v0 + w0), (v1 + w1) .... (vi + wi) \n",
    "    return [vi + wi for vi, wi in zip(v, w)]\n",
    "\n",
    "\n",
    "def subtract(v: Vector, w: Vector) -> Vector:\n",
    "    \"\"\" Returns the subtraction of two vectors \"\"\"\n",
    "    assert len(v) == len(w), \"Both vectors must be the same length\"\n",
    "\n",
    "    # Sum of each component (v0 - w0), (v1 - w1) .... (vi - wi) \n",
    "    return [vi - wi for vi, wi in zip(v, w)]\n",
    "\n",
    "\n",
    "def vector_sum(vectors: list[Vector]) -> Vector:\n",
    "    \"\"\" Returns the sum of multiple vectors \"\"\"\n",
    "    assert vectors, \"No empty vectors\"\n",
    "\n",
    "    num_elements = len(vectors[0])\n",
    "    assert all(len(v) == num_elements for v in vectors), \"Not all vectors are the same size!\"\n",
    "\n",
    "    # Sum all of the components into one single vector\n",
    "    return [sum(vector[i] for vector in vectors) for i in range(num_elements)]\n",
    "\n",
    "def scalar_multiply(vec: Vector, sca: float) -> Vector:\n",
    "    \"\"\" Returns the multiplication of a vector with a scalar value \"\"\"\n",
    "    return [sca * vi for vi in vec]\n",
    "\n",
    "\n",
    "def vector_mean(vectors: list[Vector]) -> Vector:\n",
    "    \"\"\" Computes the mean of a list of vectors \"\"\"\n",
    "    n = len(vectors)\n",
    "    return scalar_multiply(vector_sum(), 1/n)\n",
    "\n",
    "def dot(v: Vector, w: Vector) -> float:\n",
    "    \"\"\" Returns the dot product of both vectors \"\"\"\n",
    "    assert len(v) == len(w), \"Both vectors must be the same length\"\n",
    "\n",
    "    return sum([vi * wi for vi, wi in zip(v, w)])\n",
    "\n",
    "def sum_of_squares(v: Vector) -> float:\n",
    "    \"\"\" Return the sums of squares of a vector v1 * v1 + v2 * v2 .... \"\"\"\n",
    "    return dot(v, v)\n",
    "\n",
    "def magnitude(v: Vector) -> float:\n",
    "    \"\"\" Computes the magnitude (or length) of a vector\"\"\"\n",
    "    return math.sqrt(sum_of_squares(v))\n",
    "\n",
    "def squared_distance(v: Vector, w: Vector) -> float:\n",
    "    \"\"\" Calculate the (v1 - w1)^2 + ... + (vi - wi)^2 \"\"\"\n",
    "    return sum_of_squares(subtract(v, w))\n",
    "\n",
    "def distance(v: Vector, w: Vector) -> float:\n",
    "    \"\"\" Returns the distance between two vectors \"\"\"\n",
    "    return math.sqrt(squared_distance(v, w))\n",
    "    # Can be done this way too \n",
    "    # return magnitude(subtract(v, w))"
   ]
  },
  {
   "cell_type": "code",
   "execution_count": null,
   "metadata": {},
   "outputs": [],
   "source": [
    "# Some testing to do, of course, why not\n",
    "assert add([1, 2, 3], [4, 5, 6]) == [5, 7, 9]\n",
    "\n",
    "assert subtract([5, 7, 9], [4, 5, 6]) == [1, 2, 3]\n",
    "\n",
    "assert vector_sum([[1, 2], [3, 4], [5, 6], [7, 8]]) == [16, 20]\n",
    "\n",
    "assert scalar_multiply(2, [1, 2, 3]) == [2, 4, 6]\n",
    "\n",
    "assert vector_mean([[1, 2], [3, 4], [5, 6]]) == [3, 4]\n",
    "\n",
    "assert dot([1, 2, 3], [4, 5, 6]) == 32  # 1 * 4 + 2 * 5 + 3 * 6\n",
    "\n",
    "assert sum_of_squares([1, 2, 3]) == 14  # 1 * 1 + 2 * 2 + 3 * 3\n",
    "\n",
    "assert magnitude([3, 4]) == 5"
   ]
  },
  {
   "cell_type": "markdown",
   "metadata": {},
   "source": [
    "## Matrix and Operations"
   ]
  },
  {
   "cell_type": "code",
   "execution_count": null,
   "metadata": {},
   "outputs": [],
   "source": [
    "Matrix = list[list[float]]\n",
    "\n",
    "A = [[1, 2, 3],  # A has 2 rows and 3 columns\n",
    "     [4, 5, 6]]\n",
    "\n",
    "B = [[1, 2],     # B has 3 rows and 2 columns\n",
    "     [3, 4],\n",
    "     [5, 6]]"
   ]
  },
  {
   "cell_type": "code",
   "execution_count": null,
   "metadata": {},
   "outputs": [],
   "source": [
    "def shape(A: Matrix) -> tuple[int, int]:\n",
    "    \"\"\" Returns the shape of the matrix -> (rows, cols) \"\"\"\n",
    "    num_rows = len(A)\n",
    "    num_cols = len(A[0]) if A else -\n",
    "    return num_rows, num_cols\n",
    "\n",
    "\n",
    "def get_row(A: Matrix, i: int) -> Vector:\n",
    "    \"\"\" Returns the i-th row of A (as a Vector) \"\"\"\n",
    "    return A[i]\n",
    "\n",
    "def get_column(A: Matrix, j: int) -> Vector:\n",
    "    \"\"\"Returns the j-th column of A (as a Vector)\"\"\"\n",
    "    return [A_i[j]          # jth element of row A_i\n",
    "            for A_i in A]   # for each row A_i\n",
    "\n",
    "assert shape([[1, 2, 3], [4, 5, 6]]) == (2, 3)  # 2 rows, 3 columns\n"
   ]
  }
 ],
 "metadata": {
  "kernelspec": {
   "display_name": "Python 3",
   "language": "python",
   "name": "python3"
  },
  "language_info": {
   "name": "python",
   "version": "3.10.12"
  }
 },
 "nbformat": 4,
 "nbformat_minor": 2
}
