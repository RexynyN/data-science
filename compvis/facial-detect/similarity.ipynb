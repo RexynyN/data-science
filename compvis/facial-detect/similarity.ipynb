{
 "cells": [
  {
   "cell_type": "code",
   "execution_count": 1,
   "metadata": {},
   "outputs": [
    {
     "name": "stderr",
     "output_type": "stream",
     "text": [
      "2023-10-24 22:00:20.158721: I tensorflow/core/platform/cpu_feature_guard.cc:182] This TensorFlow binary is optimized to use available CPU instructions in performance-critical operations.\n",
      "To enable the following instructions: AVX2 FMA, in other operations, rebuild TensorFlow with the appropriate compiler flags.\n",
      "2023-10-24 22:00:21.228639: W tensorflow/compiler/tf2tensorrt/utils/py_utils.cc:38] TF-TRT Warning: Could not find TensorRT\n",
      "/home/breno/.local/lib/python3.10/site-packages/tqdm/auto.py:21: TqdmWarning: IProgress not found. Please update jupyter and ipywidgets. See https://ipywidgets.readthedocs.io/en/stable/user_install.html\n",
      "  from .autonotebook import tqdm as notebook_tqdm\n",
      "2023-10-24 22:00:36.752024: W tensorflow/tsl/platform/cloud/google_auth_provider.cc:184] All attempts to get a Google authentication bearer token failed, returning an empty token. Retrieving token from files failed with \"NOT_FOUND: Could not locate the credentials file.\". Retrieving token from GCE failed with \"FAILED_PRECONDITION: Error executing an HTTP request: libcurl code 6 meaning 'Couldn't resolve host name', error details: Could not resolve host: metadata.google.internal\".\n"
     ]
    },
    {
     "name": "stdout",
     "output_type": "stream",
     "text": [
      "\u001b[1mDownloading and preparing dataset 11.06 MiB (download: 11.06 MiB, generated: 21.00 MiB, total: 32.06 MiB) to /home/breno/tensorflow_datasets/mnist/3.0.1...\u001b[0m\n"
     ]
    },
    {
     "name": "stderr",
     "output_type": "stream",
     "text": [
      "Dl Completed...: 100%|██████████| 5/5 [00:03<00:00,  1.57 file/s]\n",
      "2023-10-24 22:00:42.144518: I tensorflow/compiler/xla/stream_executor/cuda/cuda_gpu_executor.cc:981] could not open file to read NUMA node: /sys/bus/pci/devices/0000:01:00.0/numa_node\n",
      "Your kernel may have been built without NUMA support.\n",
      "2023-10-24 22:00:42.372367: I tensorflow/compiler/xla/stream_executor/cuda/cuda_gpu_executor.cc:981] could not open file to read NUMA node: /sys/bus/pci/devices/0000:01:00.0/numa_node\n",
      "Your kernel may have been built without NUMA support.\n",
      "2023-10-24 22:00:42.372482: I tensorflow/compiler/xla/stream_executor/cuda/cuda_gpu_executor.cc:981] could not open file to read NUMA node: /sys/bus/pci/devices/0000:01:00.0/numa_node\n",
      "Your kernel may have been built without NUMA support.\n",
      "2023-10-24 22:00:42.373446: I tensorflow/compiler/xla/stream_executor/cuda/cuda_gpu_executor.cc:981] could not open file to read NUMA node: /sys/bus/pci/devices/0000:01:00.0/numa_node\n",
      "Your kernel may have been built without NUMA support.\n",
      "2023-10-24 22:00:42.373559: I tensorflow/compiler/xla/stream_executor/cuda/cuda_gpu_executor.cc:981] could not open file to read NUMA node: /sys/bus/pci/devices/0000:01:00.0/numa_node\n",
      "Your kernel may have been built without NUMA support.\n",
      "2023-10-24 22:00:42.373632: I tensorflow/compiler/xla/stream_executor/cuda/cuda_gpu_executor.cc:981] could not open file to read NUMA node: /sys/bus/pci/devices/0000:01:00.0/numa_node\n",
      "Your kernel may have been built without NUMA support.\n",
      "2023-10-24 22:00:43.407758: I tensorflow/compiler/xla/stream_executor/cuda/cuda_gpu_executor.cc:981] could not open file to read NUMA node: /sys/bus/pci/devices/0000:01:00.0/numa_node\n",
      "Your kernel may have been built without NUMA support.\n",
      "2023-10-24 22:00:43.407875: I tensorflow/compiler/xla/stream_executor/cuda/cuda_gpu_executor.cc:981] could not open file to read NUMA node: /sys/bus/pci/devices/0000:01:00.0/numa_node\n",
      "Your kernel may have been built without NUMA support.\n",
      "2023-10-24 22:00:43.407887: I tensorflow/core/common_runtime/gpu/gpu_device.cc:1726] Could not identify NUMA node of platform GPU id 0, defaulting to 0.  Your kernel may not have been built with NUMA support.\n",
      "2023-10-24 22:00:43.407974: I tensorflow/compiler/xla/stream_executor/cuda/cuda_gpu_executor.cc:981] could not open file to read NUMA node: /sys/bus/pci/devices/0000:01:00.0/numa_node\n",
      "Your kernel may have been built without NUMA support.\n",
      "2023-10-24 22:00:43.408010: I tensorflow/core/common_runtime/gpu/gpu_device.cc:1639] Created device /job:localhost/replica:0/task:0/device:GPU:0 with 2446 MB memory:  -> device: 0, name: NVIDIA GeForce GTX 1050 Ti, pci bus id: 0000:01:00.0, compute capability: 6.1\n"
     ]
    },
    {
     "name": "stdout",
     "output_type": "stream",
     "text": [
      "\u001b[1mDataset mnist downloaded and prepared to /home/breno/tensorflow_datasets/mnist/3.0.1. Subsequent calls will reuse this data.\u001b[0m\n"
     ]
    },
    {
     "name": "stderr",
     "output_type": "stream",
     "text": [
      "converting train: 100%|██████████| 60000/60000 [00:12<00:00, 4642.97it/s]\n",
      "converting test: 100%|██████████| 10000/10000 [00:02<00:00, 4416.22it/s]\n"
     ]
    },
    {
     "name": "stdout",
     "output_type": "stream",
     "text": [
      "\n",
      "The initial batch size is 20 (10 classes * 2 examples per class) with 0 augmentations\n"
     ]
    },
    {
     "name": "stderr",
     "output_type": "stream",
     "text": [
      "filtering examples: 100%|██████████| 70000/70000 [00:00<00:00, 2809527.86it/s]\n",
      "selecting classes: 100%|██████████| 10/10 [00:00<00:00, 4090.41it/s]\n",
      "gather examples: 100%|██████████| 70000/70000 [00:00<00:00, 1435850.53it/s]\n",
      "indexing classes: 100%|██████████| 70000/70000 [00:00<00:00, 3114736.37it/s]\n"
     ]
    },
    {
     "name": "stdout",
     "output_type": "stream",
     "text": [
      "Distance metric automatically set to cosine use the distance arg to override.\n",
      "Epoch 1/5\n"
     ]
    },
    {
     "name": "stderr",
     "output_type": "stream",
     "text": [
      "2023-10-24 22:01:05.334583: I tensorflow/compiler/xla/stream_executor/cuda/cuda_dnn.cc:432] Loaded cuDNN version 8904\n",
      "2023-10-24 22:01:49.006742: I tensorflow/compiler/xla/service/service.cc:168] XLA service 0x7f18e00bd3d0 initialized for platform CUDA (this does not guarantee that XLA will be used). Devices:\n",
      "2023-10-24 22:01:49.006806: I tensorflow/compiler/xla/service/service.cc:176]   StreamExecutor device (0): NVIDIA GeForce GTX 1050 Ti, Compute Capability 6.1\n",
      "2023-10-24 22:01:49.056355: I tensorflow/compiler/mlir/tensorflow/utils/dump_mlir_util.cc:255] disabling MLIR crash reproducer, set env var `MLIR_CRASH_REPRODUCER_DIRECTORY` to enable.\n",
      "2023-10-24 22:01:49.259088: I ./tensorflow/compiler/jit/device_compiler.h:186] Compiled cluster using XLA!  This line is logged at most once for the lifetime of the process.\n"
     ]
    },
    {
     "name": "stdout",
     "output_type": "stream",
     "text": [
      "1000/1000 [==============================] - 61s 11ms/step - loss: 0.1253\n",
      "Warmup complete\n",
      "Epoch 2/5\n",
      "1000/1000 [==============================] - 11s 11ms/step - loss: 0.0570\n",
      "Epoch 3/5\n",
      "1000/1000 [==============================] - 11s 11ms/step - loss: 0.0403\n",
      "Epoch 4/5\n",
      "1000/1000 [==============================] - 12s 12ms/step - loss: 0.0346\n",
      "Epoch 5/5\n",
      "1000/1000 [==============================] - 11s 11ms/step - loss: 0.0293\n",
      "[Indexing 100 points]\n",
      "|-Computing embeddings\n",
      "4/4 [==============================] - 0s 31ms/step\n",
      "|-Storing data points in key value store\n",
      "|-Adding embeddings to index.\n",
      "|-Building index.\n",
      "1/1 [==============================] - 0s 63ms/step\n"
     ]
    },
    {
     "name": "stderr",
     "output_type": "stream",
     "text": [
      "\n",
      "0%   10   20   30   40   50   60   70   80   90   100%\n",
      "|----|----|----|----|----|----|----|----|----|----|\n",
      "***************************************************\n"
     ]
    },
    {
     "data": {
      "image/png": "[encoded data removed]",
      "text/plain": [
       "<Figure size 2400x400 with 6 Axes>"
      ]
     },
     "metadata": {},
     "output_type": "display_data"
    }
   ],
   "source": [
    "from tensorflow.keras import layers\n",
    "\n",
    "# Embedding output layer with L2 norm\n",
    "from tensorflow_similarity.layers import MetricEmbedding \n",
    "# Specialized metric loss   \n",
    "from tensorflow_similarity.losses import MultiSimilarityLoss \n",
    "# Sub classed keras Model with support for indexing\n",
    "from tensorflow_similarity.models import SimilarityModel\n",
    "# Data sampler that pulls datasets directly from tf dataset catalog\n",
    "from tensorflow_similarity.samplers import TFDatasetMultiShotMemorySampler\n",
    "# Nearest neighbor visualizer\n",
    "from tensorflow_similarity.visualization import viz_neigbors_imgs\n",
    "\n",
    "\n",
    "# Data sampler that generates balanced batches from MNIST dataset\n",
    "sampler = TFDatasetMultiShotMemorySampler(dataset_name='mnist', classes_per_batch=10)\n",
    "\n",
    "# Build a Similarity model using standard Keras layers\n",
    "inputs = layers.Input(shape=(28, 28, 1))\n",
    "x = layers.Rescaling(1/255)(inputs)\n",
    "x = layers.Conv2D(64, 3, activation='relu')(x)\n",
    "x = layers.Flatten()(x)\n",
    "x = layers.Dense(64, activation='relu')(x)\n",
    "outputs = MetricEmbedding(64)(x)\n",
    "\n",
    "# Build a specialized Similarity model\n",
    "model = SimilarityModel(inputs, outputs)\n",
    "\n",
    "# Train Similarity model using contrastive loss\n",
    "model.compile('adam', loss=MultiSimilarityLoss())\n",
    "model.fit(sampler, epochs=5)\n",
    "\n",
    "# Index 100 embedded MNIST examples to make them searchable\n",
    "sx, sy = sampler.get_slice(0,100)\n",
    "model.index(x=sx, y=sy, data=sx)\n",
    "\n",
    "# Find the top 5 most similar indexed MNIST examples for a given example\n",
    "qx, qy = sampler.get_slice(3713, 1)\n",
    "nns = model.single_lookup(qx[0])\n",
    "\n",
    "# Visualize the query example and its top 5 neighbors\n",
    "viz_neigbors_imgs(qx[0], qy[0], nns)"
   ]
  }
 ],
 "metadata": {
  "kernelspec": {
   "display_name": "Python 3",
   "language": "python",
   "name": "python3"
  },
  "language_info": {
   "codemirror_mode": {
    "name": "ipython",
    "version": 3
   },
   "file_extension": ".py",
   "mimetype": "text/x-python",
   "name": "python",
   "nbconvert_exporter": "python",
   "pygments_lexer": "ipython3",
   "version": "3.10.12"
  }
 },
 "nbformat": 4,
 "nbformat_minor": 2
}
